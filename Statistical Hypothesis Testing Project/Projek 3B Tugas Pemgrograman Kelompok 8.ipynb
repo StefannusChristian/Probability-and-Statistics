{
 "cells":[
  {
   "cell_type":"markdown",
   "source":[
    "# Import Library"
   ],
   "attachments":{
    
   },
   "metadata":{
    "datalore":{
     "type":"MD",
     "hide_input_from_viewers":false,
     "hide_output_from_viewers":false
    }
   }
  },
  {
   "cell_type":"code",
   "source":[
    "import pandas as pd\n",
    "import numpy as np\n",
    "from statsmodels import stats\n",
    "import scipy\n",
    "from scipy import stats\n",
    "from matplotlib import pyplot as plt\n",
    "import statsmodels.api"
   ],
   "execution_count":3,
   "outputs":[
    
   ],
   "metadata":{
    "datalore":{
     "type":"CODE",
     "hide_input_from_viewers":false,
     "hide_output_from_viewers":false
    }
   }
  },
  {
   "cell_type":"markdown",
   "source":[
    "# Membaca dan Membersihkan Data Sampel"
   ],
   "attachments":{
    
   },
   "metadata":{
    "datalore":{
     "type":"MD",
     "hide_input_from_viewers":false,
     "hide_output_from_viewers":false
    }
   }
  },
  {
   "cell_type":"code",
   "source":[
    "df = pd.read_csv('loan_history.csv')\n",
    "df"
   ],
   "execution_count":4,
   "outputs":[
    {
     "data":{
      "text\/html":[
       "<div>\n",
       "<style scoped>\n",
       "    .dataframe tbody tr th:only-of-type {\n",
       "        vertical-align: middle;\n",
       "    }\n",
       "\n",
       "    .dataframe tbody tr th {\n",
       "        vertical-align: top;\n",
       "    }\n",
       "\n",
       "    .dataframe thead th {\n",
       "        text-align: right;\n",
       "    }\n",
       "<\/style>\n",
       "<table border=\"1\" class=\"dataframe\">\n",
       "  <thead>\n",
       "    <tr style=\"text-align: right;\">\n",
       "      <th><\/th>\n",
       "      <th>ID Anggota<\/th>\n",
       "      <th>Nama Anggota<\/th>\n",
       "      <th>Kode Eksemplar<\/th>\n",
       "      <th>Judul<\/th>\n",
       "      <th>Tanggal Pinjam<\/th>\n",
       "      <th>Tanggal Kembali<\/th>\n",
       "      <th>Status peminjaman<\/th>\n",
       "      <th>Buta RLAC<\/th>\n",
       "      <th>angkatan<\/th>\n",
       "    <\/tr>\n",
       "  <\/thead>\n",
       "  <tbody>\n",
       "    <tr>\n",
       "      <th>0<\/th>\n",
       "      <td>212100227<\/td>\n",
       "      <td>Blessari Tesalonika Woran<\/td>\n",
       "      <td>3414<\/td>\n",
       "      <td>Thriving at College: Make Great Friends, Keep ...<\/td>\n",
       "      <td>9\/30\/2021<\/td>\n",
       "      <td>10\/14\/2021<\/td>\n",
       "      <td>1<\/td>\n",
       "      <td>0<\/td>\n",
       "      <td>21<\/td>\n",
       "    <\/tr>\n",
       "    <tr>\n",
       "      <th>1<\/th>\n",
       "      <td>191900220<\/td>\n",
       "      <td>Christopher Owen Candlerson<\/td>\n",
       "      <td>2815<\/td>\n",
       "      <td>What Great Paintings Say: 100 Masterpieces in ...<\/td>\n",
       "      <td>9\/30\/2021<\/td>\n",
       "      <td>10\/14\/2021<\/td>\n",
       "      <td>1<\/td>\n",
       "      <td>0<\/td>\n",
       "      <td>19<\/td>\n",
       "    <\/tr>\n",
       "    <tr>\n",
       "      <th>2<\/th>\n",
       "      <td>202000190<\/td>\n",
       "      <td>Deofigrace Waiman<\/td>\n",
       "      <td>2948<\/td>\n",
       "      <td>How to Make a Japanese House<\/td>\n",
       "      <td>9\/29\/2021<\/td>\n",
       "      <td>10\/13\/2021<\/td>\n",
       "      <td>1<\/td>\n",
       "      <td>1<\/td>\n",
       "      <td>20<\/td>\n",
       "    <\/tr>\n",
       "    <tr>\n",
       "      <th>3<\/th>\n",
       "      <td>191900564<\/td>\n",
       "      <td>Michael David Hanitio<\/td>\n",
       "      <td>482<\/td>\n",
       "      <td>Distributed Systems: Principles and Paradigms<\/td>\n",
       "      <td>9\/29\/2021<\/td>\n",
       "      <td>10\/13\/2021<\/td>\n",
       "      <td>1<\/td>\n",
       "      <td>1<\/td>\n",
       "      <td>19<\/td>\n",
       "    <\/tr>\n",
       "    <tr>\n",
       "      <th>4<\/th>\n",
       "      <td>10104190672<\/td>\n",
       "      <td>Alfa Marzelino<\/td>\n",
       "      <td>1732<\/td>\n",
       "      <td>Teknologi Pengolahan dan Pengawetan Telur<\/td>\n",
       "      <td>9\/28\/2021<\/td>\n",
       "      <td>10\/12\/2021<\/td>\n",
       "      <td>1<\/td>\n",
       "      <td>1<\/td>\n",
       "      <td>19<\/td>\n",
       "    <\/tr>\n",
       "    <tr>\n",
       "      <th>...<\/th>\n",
       "      <td>...<\/td>\n",
       "      <td>...<\/td>\n",
       "      <td>...<\/td>\n",
       "      <td>...<\/td>\n",
       "      <td>...<\/td>\n",
       "      <td>...<\/td>\n",
       "      <td>...<\/td>\n",
       "      <td>...<\/td>\n",
       "      <td>...<\/td>\n",
       "    <\/tr>\n",
       "    <tr>\n",
       "      <th>773<\/th>\n",
       "      <td>202000639<\/td>\n",
       "      <td>Jansen Briano<\/td>\n",
       "      <td>1007<\/td>\n",
       "      <td>Kimia Organik Dasar<\/td>\n",
       "      <td>11\/1\/2021<\/td>\n",
       "      <td>11\/15\/2021<\/td>\n",
       "      <td>0<\/td>\n",
       "      <td>1<\/td>\n",
       "      <td>20<\/td>\n",
       "    <\/tr>\n",
       "    <tr>\n",
       "      <th>774<\/th>\n",
       "      <td>212100246<\/td>\n",
       "      <td>Aaron Arquette<\/td>\n",
       "      <td>1033<\/td>\n",
       "      <td>Kalkulus, Jilid 1 = Calculus<\/td>\n",
       "      <td>10\/1\/2021<\/td>\n",
       "      <td>10\/15\/2021<\/td>\n",
       "      <td>1<\/td>\n",
       "      <td>1<\/td>\n",
       "      <td>21<\/td>\n",
       "    <\/tr>\n",
       "    <tr>\n",
       "      <th>775<\/th>\n",
       "      <td>191900103<\/td>\n",
       "      <td>Joy Milliaan<\/td>\n",
       "      <td>2729<\/td>\n",
       "      <td>Rangkaian Listrik, Jilid 2 = Engineering Circu...<\/td>\n",
       "      <td>10\/1\/2021<\/td>\n",
       "      <td>10\/15\/2021<\/td>\n",
       "      <td>1<\/td>\n",
       "      <td>1<\/td>\n",
       "      <td>19<\/td>\n",
       "    <\/tr>\n",
       "    <tr>\n",
       "      <th>776<\/th>\n",
       "      <td>191900103<\/td>\n",
       "      <td>Joy Milliaan<\/td>\n",
       "      <td>2525<\/td>\n",
       "      <td>Statics and Mechanics of Materials<\/td>\n",
       "      <td>10\/1\/2021<\/td>\n",
       "      <td>10\/15\/2021<\/td>\n",
       "      <td>1<\/td>\n",
       "      <td>1<\/td>\n",
       "      <td>19<\/td>\n",
       "    <\/tr>\n",
       "    <tr>\n",
       "      <th>777<\/th>\n",
       "      <td>202000419<\/td>\n",
       "      <td>Renata Tamara Teguh Karyadi<\/td>\n",
       "      <td>3424<\/td>\n",
       "      <td>Lies Young Women Believe: And the Truth That S...<\/td>\n",
       "      <td>10\/1\/2021<\/td>\n",
       "      <td>10\/15\/2021<\/td>\n",
       "      <td>1<\/td>\n",
       "      <td>0<\/td>\n",
       "      <td>20<\/td>\n",
       "    <\/tr>\n",
       "  <\/tbody>\n",
       "<\/table>\n",
       "<p>778 rows × 9 columns<\/p>\n",
       "<\/div>"
      ]
     },
     "metadata":{
      
     },
     "output_type":"display_data"
    }
   ],
   "metadata":{
    "datalore":{
     "type":"CODE",
     "hide_input_from_viewers":false,
     "hide_output_from_viewers":false
    }
   }
  },
  {
   "cell_type":"code",
   "source":[
    "df1 = df.groupby(\"Nama Anggota\").min()\n",
    "df1"
   ],
   "execution_count":5,
   "outputs":[
    {
     "data":{
      "text\/html":[
       "<div>\n",
       "<style scoped>\n",
       "    .dataframe tbody tr th:only-of-type {\n",
       "        vertical-align: middle;\n",
       "    }\n",
       "\n",
       "    .dataframe tbody tr th {\n",
       "        vertical-align: top;\n",
       "    }\n",
       "\n",
       "    .dataframe thead th {\n",
       "        text-align: right;\n",
       "    }\n",
       "<\/style>\n",
       "<table border=\"1\" class=\"dataframe\">\n",
       "  <thead>\n",
       "    <tr style=\"text-align: right;\">\n",
       "      <th><\/th>\n",
       "      <th>ID Anggota<\/th>\n",
       "      <th>Kode Eksemplar<\/th>\n",
       "      <th>Judul<\/th>\n",
       "      <th>Tanggal Pinjam<\/th>\n",
       "      <th>Tanggal Kembali<\/th>\n",
       "      <th>Status peminjaman<\/th>\n",
       "      <th>Buta RLAC<\/th>\n",
       "      <th>angkatan<\/th>\n",
       "    <\/tr>\n",
       "    <tr>\n",
       "      <th>Nama Anggota<\/th>\n",
       "      <th><\/th>\n",
       "      <th><\/th>\n",
       "      <th><\/th>\n",
       "      <th><\/th>\n",
       "      <th><\/th>\n",
       "      <th><\/th>\n",
       "      <th><\/th>\n",
       "      <th><\/th>\n",
       "    <\/tr>\n",
       "  <\/thead>\n",
       "  <tbody>\n",
       "    <tr>\n",
       "      <th>Aaron Arquette<\/th>\n",
       "      <td>212100246<\/td>\n",
       "      <td>1033<\/td>\n",
       "      <td>Kalkulus, Jilid 1 = Calculus<\/td>\n",
       "      <td>10\/1\/2021<\/td>\n",
       "      <td>10\/1\/2021<\/td>\n",
       "      <td>1<\/td>\n",
       "      <td>0<\/td>\n",
       "      <td>21<\/td>\n",
       "    <\/tr>\n",
       "    <tr>\n",
       "      <th>Abrielle Irene Mirah<\/th>\n",
       "      <td>212100256<\/td>\n",
       "      <td>2147<\/td>\n",
       "      <td>Morfologi Tumbuhan<\/td>\n",
       "      <td>1\/26\/2022<\/td>\n",
       "      <td>2\/9\/2022<\/td>\n",
       "      <td>1<\/td>\n",
       "      <td>1<\/td>\n",
       "      <td>21<\/td>\n",
       "    <\/tr>\n",
       "    <tr>\n",
       "      <th>Adelaide Astrid Kusumawardhani<\/th>\n",
       "      <td>212100124<\/td>\n",
       "      <td>818<\/td>\n",
       "      <td>Brock Biology of Microorganisms<\/td>\n",
       "      <td>1\/10\/2022<\/td>\n",
       "      <td>1\/24\/2022<\/td>\n",
       "      <td>0<\/td>\n",
       "      <td>1<\/td>\n",
       "      <td>21<\/td>\n",
       "    <\/tr>\n",
       "    <tr>\n",
       "      <th>Alfa Marzelino<\/th>\n",
       "      <td>191900672<\/td>\n",
       "      <td>529<\/td>\n",
       "      <td>Depresi: Memandang Melampaui Kegelapan yang Su...<\/td>\n",
       "      <td>1\/20\/2022<\/td>\n",
       "      <td>10\/12\/2021<\/td>\n",
       "      <td>1<\/td>\n",
       "      <td>0<\/td>\n",
       "      <td>19<\/td>\n",
       "    <\/tr>\n",
       "    <tr>\n",
       "      <th>Alfred William Silele<\/th>\n",
       "      <td>212100709<\/td>\n",
       "      <td>2146<\/td>\n",
       "      <td>Morfologi Tumbuhan<\/td>\n",
       "      <td>2\/2\/2022<\/td>\n",
       "      <td>2\/16\/2022<\/td>\n",
       "      <td>1<\/td>\n",
       "      <td>1<\/td>\n",
       "      <td>21<\/td>\n",
       "    <\/tr>\n",
       "    <tr>\n",
       "      <th>...<\/th>\n",
       "      <td>...<\/td>\n",
       "      <td>...<\/td>\n",
       "      <td>...<\/td>\n",
       "      <td>...<\/td>\n",
       "      <td>...<\/td>\n",
       "      <td>...<\/td>\n",
       "      <td>...<\/td>\n",
       "      <td>...<\/td>\n",
       "    <\/tr>\n",
       "    <tr>\n",
       "      <th>Yabes Elmon<\/th>\n",
       "      <td>202000638<\/td>\n",
       "      <td>142<\/td>\n",
       "      <td>Allah Tritunggal<\/td>\n",
       "      <td>8\/30\/2021<\/td>\n",
       "      <td>9\/13\/2021<\/td>\n",
       "      <td>1<\/td>\n",
       "      <td>0<\/td>\n",
       "      <td>20<\/td>\n",
       "    <\/tr>\n",
       "    <tr>\n",
       "      <th>Yehezkiel Purnama Wijaya<\/th>\n",
       "      <td>10101190476<\/td>\n",
       "      <td>32<\/td>\n",
       "      <td>God's Fiery Challenger for Our Time: Festchrif...<\/td>\n",
       "      <td>8\/25\/2021<\/td>\n",
       "      <td>8\/19\/2021<\/td>\n",
       "      <td>1<\/td>\n",
       "      <td>0<\/td>\n",
       "      <td>19<\/td>\n",
       "    <\/tr>\n",
       "    <tr>\n",
       "      <th>Yolanda Charlota Thenu<\/th>\n",
       "      <td>202001260<\/td>\n",
       "      <td>746<\/td>\n",
       "      <td>Allah Tritunggal<\/td>\n",
       "      <td>1\/25\/2022<\/td>\n",
       "      <td>2\/8\/2022<\/td>\n",
       "      <td>0<\/td>\n",
       "      <td>0<\/td>\n",
       "      <td>20<\/td>\n",
       "    <\/tr>\n",
       "    <tr>\n",
       "      <th>Yosephine Priscilla Maris<\/th>\n",
       "      <td>191900292<\/td>\n",
       "      <td>735<\/td>\n",
       "      <td>Biology: A Global Approach<\/td>\n",
       "      <td>11\/8\/2021<\/td>\n",
       "      <td>1\/12\/2022<\/td>\n",
       "      <td>1<\/td>\n",
       "      <td>0<\/td>\n",
       "      <td>19<\/td>\n",
       "    <\/tr>\n",
       "    <tr>\n",
       "      <th>Yovan Carvallo<\/th>\n",
       "      <td>202000243<\/td>\n",
       "      <td>2500<\/td>\n",
       "      <td>Analisis Struktur dengan Metode Matriks Menggu...<\/td>\n",
       "      <td>10\/22\/2021<\/td>\n",
       "      <td>11\/5\/2021<\/td>\n",
       "      <td>1<\/td>\n",
       "      <td>1<\/td>\n",
       "      <td>20<\/td>\n",
       "    <\/tr>\n",
       "  <\/tbody>\n",
       "<\/table>\n",
       "<p>162 rows × 8 columns<\/p>\n",
       "<\/div>"
      ]
     },
     "metadata":{
      
     },
     "output_type":"display_data"
    }
   ],
   "metadata":{
    "datalore":{
     "type":"CODE",
     "hide_input_from_viewers":false,
     "hide_output_from_viewers":false
    }
   }
  },
  {
   "cell_type":"code",
   "source":[
    "n = len(df1)\n",
    "buta = df1[\"Buta RLAC\"].sum()\n",
    "melek = n - buta\n",
    "persen_buta = round(buta\/n,2)\n",
    "persen_melek = melek\/n\n",
    "print(f'Buta RLAC = {buta}')\n",
    "print(f'Melek RLAC = {melek}')"
   ],
   "execution_count":6,
   "outputs":[
    {
     "name":"stdout",
     "text":[
      "Buta RLAC = 61\n",
      "Melek RLAC = 101\n"
     ],
     "output_type":"stream"
    }
   ],
   "metadata":{
    "datalore":{
     "type":"CODE",
     "hide_input_from_viewers":false,
     "hide_output_from_viewers":false
    }
   }
  },
  {
   "cell_type":"markdown",
   "source":[
    "# Visualisasi Data"
   ],
   "attachments":{
    
   },
   "metadata":{
    "datalore":{
     "type":"MD",
     "hide_input_from_viewers":false,
     "hide_output_from_viewers":false
    }
   }
  },
  {
   "cell_type":"code",
   "source":[
    "fig, ax = plt.subplots()\n",
    "data = {\"Buta RLAC\" : buta,\"Melek RLAC\" : melek}\n",
    "vis = pd.Series(data=data)\n",
    "# Menampilkan Diagram Lingkaran\n",
    "# Referensi: https:\/\/pandas.pydata.org\/docs\/reference\/api\/pandas.DataFrame.plot.pie.html\n",
    "\n",
    "vis.plot(ax=ax, kind='pie', autopct='%1.1f%%', title=\"Persentase Mahasiswa yang Buta RLAC di CIT\", ylabel='')\n",
    "plt.show()"
   ],
   "execution_count":7,
   "outputs":[
    {
     "data":{
      "image\/png":"[encoded data removed]"
     },
     "metadata":{
      "image\/png":{
       
      }
     },
     "output_type":"display_data"
    }
   ],
   "metadata":{
    "datalore":{
     "type":"CODE",
     "hide_input_from_viewers":false,
     "hide_output_from_viewers":false
    }
   }
  },
  {
   "cell_type":"markdown",
   "source":[
    "# **Masalah 1**\n",
    "\n",
    "\n",
    "H0 : $\\mu\\le $ 0.75 <\/br>\n",
    "H1 : $\\mu\\gt $ 0.75 <\/br>\n",
    "Tingkat Signifikansi = 0.01"
   ],
   "attachments":{
    
   },
   "metadata":{
    "datalore":{
     "type":"MD",
     "hide_input_from_viewers":false,
     "hide_output_from_viewers":false
    }
   }
  },
  {
   "cell_type":"markdown",
   "source":[
    "## Cara Manual"
   ],
   "attachments":{
    
   },
   "metadata":{
    "datalore":{
     "type":"MD",
     "hide_input_from_viewers":false,
     "hide_output_from_viewers":false
    }
   }
  },
  {
   "cell_type":"code",
   "source":[
    "x_bar = np.mean(df1['Buta RLAC'])\n",
    "print(\"Rata-rata sampel yang buta RLAC:\", x_bar)\n",
    "\n",
    "n = len(df1)\n",
    "print(\"Jumlah data sampel:\", n)\n",
    "\n",
    "std_dev = df1['Buta RLAC'].std()\n",
    "print(\"Standar deviasi sampel yang buta RLAC:\", std_dev)\n",
    "\n",
    "alpha = 0.01\n",
    "print(\"Tingkat kepercayaan:\", 1-alpha)"
   ],
   "execution_count":10,
   "outputs":[
    {
     "name":"stdout",
     "text":[
      "Rata-rata sampel yang buta RLAC: 0.3765432098765432\n",
      "Jumlah data sampel: 162\n",
      "Standar deviasi sampel yang buta RLAC: 0.48602113926325335\n",
      "Tingkat kepercayaan: 0.99\n"
     ],
     "output_type":"stream"
    }
   ],
   "metadata":{
    "datalore":{
     "type":"CODE",
     "hide_input_from_viewers":false,
     "hide_output_from_viewers":false
    }
   }
  },
  {
   "cell_type":"code",
   "source":[
    "statistik_man = (x_bar - 0.75)\/(std_dev\/(n**0.5))\n",
    "print(\"Statistik:\", statistik_man)\n",
    "crit = stats.norm.ppf(0.99)\n",
    "print(f\"Critical region: ({crit},∞)\")"
   ],
   "execution_count":11,
   "outputs":[
    {
     "name":"stdout",
     "text":[
      "Statistik: -9.780086778080644\n",
      "Critical region: (2.3263478740408408,∞)\n"
     ],
     "output_type":"stream"
    }
   ],
   "metadata":{
    "datalore":{
     "type":"CODE",
     "hide_input_from_viewers":false,
     "hide_output_from_viewers":false
    }
   }
  },
  {
   "cell_type":"markdown",
   "source":[
    "Karena statistik tidak ada di dalam critical region maka kesimpulan Uji Hipotesis : H0 tidak ditolak. <br>\n",
    "\n",
    "Data tidak cukup signifikan untuk menyimpulkan apapun."
   ],
   "attachments":{
    
   },
   "metadata":{
    "datalore":{
     "type":"MD",
     "hide_input_from_viewers":false,
     "hide_output_from_viewers":false
    }
   }
  },
  {
   "cell_type":"markdown",
   "source":[
    "### Membalik Uji Hipotesis Masalah 1 Cara Manual"
   ],
   "attachments":{
    
   },
   "metadata":{
    "datalore":{
     "type":"MD",
     "hide_input_from_viewers":false,
     "hide_output_from_viewers":false
    }
   }
  },
  {
   "cell_type":"markdown",
   "source":[
    "H0 : miu $\\ge $ 0.75 <\/br>\n",
    "H1 : miu $\\lt $ 0.75 <\/br>\n",
    "Tingkat Signifikansi = 0.01"
   ],
   "attachments":{
    
   },
   "metadata":{
    "datalore":{
     "type":"MD",
     "hide_input_from_viewers":false,
     "hide_output_from_viewers":false
    }
   }
  },
  {
   "cell_type":"code",
   "source":[
    "statistik_man = (x_bar - 0.75)\/(std_dev\/(n**0.5))\n",
    "print(\"Statistik:\", statistik_man)\n",
    "crit = stats.norm.ppf(0.99)\n",
    "print(f\"Critical region: (-∞,{crit})\")"
   ],
   "execution_count":12,
   "outputs":[
    {
     "name":"stdout",
     "text":[
      "Statistik: -9.780086778080644\n",
      "Critical region: (-∞,2.3263478740408408)\n"
     ],
     "output_type":"stream"
    }
   ],
   "metadata":{
    "datalore":{
     "type":"CODE",
     "hide_input_from_viewers":false,
     "hide_output_from_viewers":false
    }
   }
  },
  {
   "cell_type":"markdown",
   "source":[
    "Karena statistik ada di dalam critical region maka kesimpulan Uji Hipotesis : H0 ditolak. <br>\n",
    "Dengan tingkat kepercayaan 99%, Mahasiswa CIT yang tidak melek Liberal Arts tidak lebih dari 75%."
   ],
   "attachments":{
    
   },
   "metadata":{
    "datalore":{
     "type":"MD",
     "hide_input_from_viewers":false,
     "hide_output_from_viewers":false
    }
   }
  },
  {
   "cell_type":"markdown",
   "source":[
    "## Cara Modern"
   ],
   "attachments":{
    
   },
   "metadata":{
    "datalore":{
     "type":"MD",
     "hide_input_from_viewers":false,
     "hide_output_from_viewers":false
    }
   }
  },
  {
   "cell_type":"markdown",
   "source":[
    "H0 : miu $\\le $ 0.75 <\/br>\n",
    "H1 : miu $\\gt $ 0.75 <\/br>\n",
    "Tingkat Signifikansi = 0.01"
   ],
   "attachments":{
    
   },
   "metadata":{
    "datalore":{
     "type":"MD",
     "hide_input_from_viewers":false,
     "hide_output_from_viewers":false
    }
   }
  },
  {
   "cell_type":"code",
   "source":[
    "stat, pval = statsmodels.stats.weightstats.ztest(df['Buta RLAC'], value=0.75, alternative='larger')\n",
    "print(\"Statistik:\", stat)\n",
    "print(\"P-value:\", pval)"
   ],
   "execution_count":13,
   "outputs":[
    {
     "name":"stdout",
     "text":[
      "Statistik: -6.660562382406516\n",
      "P-value: 0.9999999999863609\n"
     ],
     "output_type":"stream"
    }
   ],
   "metadata":{
    "datalore":{
     "type":"CODE",
     "hide_input_from_viewers":false,
     "hide_output_from_viewers":false
    }
   }
  },
  {
   "cell_type":"markdown",
   "source":[
    "Karena P-Value (0.9999999999863609) > alpha (0.01). Maka H0 tidak ditolak. <br>\n",
    "Data tidak cukup signifikan untuk menyimpulkan apapun."
   ],
   "attachments":{
    
   },
   "metadata":{
    "datalore":{
     "type":"MD",
     "hide_input_from_viewers":false,
     "hide_output_from_viewers":false
    }
   }
  },
  {
   "cell_type":"markdown",
   "source":[
    "### Membalik Uji Hipotesis Masalah 1 Cara Modern"
   ],
   "attachments":{
    
   },
   "metadata":{
    "datalore":{
     "type":"MD",
     "hide_input_from_viewers":false,
     "hide_output_from_viewers":false
    }
   }
  },
  {
   "cell_type":"markdown",
   "source":[
    "H0 : miu $\\ge $ 0.75 <\/br>\n",
    "H1 : miu $\\lt $ 0.75 <\/br>\n",
    "Tingkat Signifikansi = 0.01"
   ],
   "attachments":{
    
   },
   "metadata":{
    "datalore":{
     "type":"MD",
     "hide_input_from_viewers":false,
     "hide_output_from_viewers":false
    }
   }
  },
  {
   "cell_type":"code",
   "source":[
    "stat, pval = statsmodels.stats.weightstats.ztest(df['Buta RLAC'], value=0.75, alternative='smaller')\n",
    "print(\"Statistik:\", stat)\n",
    "print(\"P-value:\", pval)"
   ],
   "execution_count":14,
   "outputs":[
    {
     "name":"stdout",
     "text":[
      "Statistik: -6.660562382406516\n",
      "P-value: 1.3639087576361523e-11\n"
     ],
     "output_type":"stream"
    }
   ],
   "metadata":{
    "datalore":{
     "type":"CODE",
     "hide_input_from_viewers":false,
     "hide_output_from_viewers":false
    }
   }
  },
  {
   "cell_type":"markdown",
   "source":[
    "Karena P-Value (1.3639087576361523e-11) < alpha (0.01). Maka H0 ditolak dan H1 dapat dipertimbangkan.<br>\n",
    "Dengan tingkat kepercayaan 99%, Mahasiswa CIT yang tidak melek Liberal Arts tidak lebih dari 75%. "
   ],
   "attachments":{
    
   },
   "metadata":{
    "datalore":{
     "type":"MD",
     "hide_input_from_viewers":false,
     "hide_output_from_viewers":false
    }
   }
  },
  {
   "cell_type":"markdown",
   "source":[
    "# **Masalah 2**"
   ],
   "attachments":{
    
   },
   "metadata":{
    "datalore":{
     "type":"MD",
     "hide_input_from_viewers":false,
     "hide_output_from_viewers":false
    }
   }
  },
  {
   "cell_type":"code",
   "source":[
    "tanggal_pinjam = df['Tanggal Pinjam']\n",
    "semester_apa = []\n",
    "for i in tanggal_pinjam:\n",
    "    tahun = i[-4:]\n",
    "    if tahun == '2021':\n",
    "        semester_apa.append('Ganjil')\n",
    "    else:\n",
    "        semester_apa.append('Genap')\n",
    "semester_apa"
   ],
   "execution_count":15,
   "outputs":[
    {
     "data":{
      "text\/plain":[
       "['Ganjil',\n",
       " 'Ganjil',\n",
       " 'Ganjil',\n",
       " 'Ganjil',\n",
       " 'Ganjil',\n",
       " 'Ganjil',\n",
       " 'Ganjil',\n",
       " 'Ganjil',\n",
       " 'Ganjil',\n",
       " 'Ganjil',\n",
       " 'Ganjil',\n",
       " 'Ganjil',\n",
       " 'Ganjil',\n",
       " 'Ganjil',\n",
       " 'Ganjil',\n",
       " 'Ganjil',\n",
       " 'Ganjil',\n",
       " 'Ganjil',\n",
       " 'Ganjil',\n",
       " 'Ganjil',\n",
       " 'Ganjil',\n",
       " 'Ganjil',\n",
       " 'Ganjil',\n",
       " 'Ganjil',\n",
       " 'Ganjil',\n",
       " 'Ganjil',\n",
       " 'Ganjil',\n",
       " 'Ganjil',\n",
       " 'Ganjil',\n",
       " 'Ganjil',\n",
       " 'Ganjil',\n",
       " 'Ganjil',\n",
       " 'Ganjil',\n",
       " 'Ganjil',\n",
       " 'Ganjil',\n",
       " 'Ganjil',\n",
       " 'Ganjil',\n",
       " 'Ganjil',\n",
       " 'Ganjil',\n",
       " 'Ganjil',\n",
       " 'Ganjil',\n",
       " 'Ganjil',\n",
       " 'Ganjil',\n",
       " 'Ganjil',\n",
       " 'Ganjil',\n",
       " 'Ganjil',\n",
       " 'Ganjil',\n",
       " 'Ganjil',\n",
       " 'Ganjil',\n",
       " 'Ganjil',\n",
       " 'Ganjil',\n",
       " 'Ganjil',\n",
       " 'Ganjil',\n",
       " 'Ganjil',\n",
       " 'Ganjil',\n",
       " 'Ganjil',\n",
       " 'Ganjil',\n",
       " 'Ganjil',\n",
       " 'Ganjil',\n",
       " 'Ganjil',\n",
       " 'Ganjil',\n",
       " 'Ganjil',\n",
       " 'Ganjil',\n",
       " 'Ganjil',\n",
       " 'Ganjil',\n",
       " 'Ganjil',\n",
       " 'Ganjil',\n",
       " 'Ganjil',\n",
       " 'Ganjil',\n",
       " 'Ganjil',\n",
       " 'Ganjil',\n",
       " 'Ganjil',\n",
       " 'Ganjil',\n",
       " 'Ganjil',\n",
       " 'Ganjil',\n",
       " 'Ganjil',\n",
       " 'Ganjil',\n",
       " 'Ganjil',\n",
       " 'Ganjil',\n",
       " 'Ganjil',\n",
       " 'Ganjil',\n",
       " 'Ganjil',\n",
       " 'Ganjil',\n",
       " 'Ganjil',\n",
       " 'Ganjil',\n",
       " 'Ganjil',\n",
       " 'Ganjil',\n",
       " 'Ganjil',\n",
       " 'Ganjil',\n",
       " 'Ganjil',\n",
       " 'Ganjil',\n",
       " 'Ganjil',\n",
       " 'Ganjil',\n",
       " 'Ganjil',\n",
       " 'Ganjil',\n",
       " 'Ganjil',\n",
       " 'Ganjil',\n",
       " 'Ganjil',\n",
       " 'Ganjil',\n",
       " 'Ganjil',\n",
       " 'Ganjil',\n",
       " 'Ganjil',\n",
       " 'Ganjil',\n",
       " 'Ganjil',\n",
       " 'Ganjil',\n",
       " 'Ganjil',\n",
       " 'Ganjil',\n",
       " 'Ganjil',\n",
       " 'Ganjil',\n",
       " 'Ganjil',\n",
       " 'Ganjil',\n",
       " 'Ganjil',\n",
       " 'Ganjil',\n",
       " 'Ganjil',\n",
       " 'Ganjil',\n",
       " 'Ganjil',\n",
       " 'Ganjil',\n",
       " 'Ganjil',\n",
       " 'Ganjil',\n",
       " 'Ganjil',\n",
       " 'Ganjil',\n",
       " 'Ganjil',\n",
       " 'Genap',\n",
       " 'Genap',\n",
       " 'Genap',\n",
       " 'Genap',\n",
       " 'Genap',\n",
       " 'Genap',\n",
       " 'Genap',\n",
       " 'Genap',\n",
       " 'Genap',\n",
       " 'Genap',\n",
       " 'Genap',\n",
       " 'Genap',\n",
       " 'Genap',\n",
       " 'Genap',\n",
       " 'Genap',\n",
       " 'Genap',\n",
       " 'Genap',\n",
       " 'Genap',\n",
       " 'Genap',\n",
       " 'Genap',\n",
       " 'Genap',\n",
       " 'Genap',\n",
       " 'Genap',\n",
       " 'Genap',\n",
       " 'Genap',\n",
       " 'Genap',\n",
       " 'Genap',\n",
       " 'Genap',\n",
       " 'Genap',\n",
       " 'Genap',\n",
       " 'Genap',\n",
       " 'Genap',\n",
       " 'Genap',\n",
       " 'Genap',\n",
       " 'Genap',\n",
       " 'Genap',\n",
       " 'Genap',\n",
       " 'Genap',\n",
       " 'Genap',\n",
       " 'Genap',\n",
       " 'Genap',\n",
       " 'Genap',\n",
       " 'Genap',\n",
       " 'Genap',\n",
       " 'Genap',\n",
       " 'Genap',\n",
       " 'Genap',\n",
       " 'Genap',\n",
       " 'Genap',\n",
       " 'Genap',\n",
       " 'Genap',\n",
       " 'Genap',\n",
       " 'Genap',\n",
       " 'Genap',\n",
       " 'Genap',\n",
       " 'Genap',\n",
       " 'Genap',\n",
       " 'Genap',\n",
       " 'Genap',\n",
       " 'Genap',\n",
       " 'Genap',\n",
       " 'Genap',\n",
       " 'Genap',\n",
       " 'Genap',\n",
       " 'Genap',\n",
       " 'Genap',\n",
       " 'Genap',\n",
       " 'Genap',\n",
       " 'Genap',\n",
       " 'Genap',\n",
       " 'Genap',\n",
       " 'Genap',\n",
       " 'Genap',\n",
       " 'Genap',\n",
       " 'Genap',\n",
       " 'Genap',\n",
       " 'Genap',\n",
       " 'Genap',\n",
       " 'Genap',\n",
       " 'Ganjil',\n",
       " 'Ganjil',\n",
       " 'Ganjil',\n",
       " 'Ganjil',\n",
       " 'Ganjil',\n",
       " 'Ganjil',\n",
       " 'Ganjil',\n",
       " 'Ganjil',\n",
       " 'Ganjil',\n",
       " 'Ganjil',\n",
       " 'Ganjil',\n",
       " 'Ganjil',\n",
       " 'Ganjil',\n",
       " 'Ganjil',\n",
       " 'Ganjil',\n",
       " 'Ganjil',\n",
       " 'Ganjil',\n",
       " 'Ganjil',\n",
       " 'Ganjil',\n",
       " 'Ganjil',\n",
       " 'Ganjil',\n",
       " 'Ganjil',\n",
       " 'Ganjil',\n",
       " 'Ganjil',\n",
       " 'Ganjil',\n",
       " 'Ganjil',\n",
       " 'Ganjil',\n",
       " 'Ganjil',\n",
       " 'Ganjil',\n",
       " 'Ganjil',\n",
       " 'Ganjil',\n",
       " 'Ganjil',\n",
       " 'Ganjil',\n",
       " 'Ganjil',\n",
       " 'Ganjil',\n",
       " 'Ganjil',\n",
       " 'Ganjil',\n",
       " 'Ganjil',\n",
       " 'Ganjil',\n",
       " 'Ganjil',\n",
       " 'Ganjil',\n",
       " 'Ganjil',\n",
       " 'Ganjil',\n",
       " 'Ganjil',\n",
       " 'Ganjil',\n",
       " 'Ganjil',\n",
       " 'Ganjil',\n",
       " 'Ganjil',\n",
       " 'Ganjil',\n",
       " 'Ganjil',\n",
       " 'Ganjil',\n",
       " 'Ganjil',\n",
       " 'Ganjil',\n",
       " 'Ganjil',\n",
       " 'Ganjil',\n",
       " 'Ganjil',\n",
       " 'Ganjil',\n",
       " 'Ganjil',\n",
       " 'Ganjil',\n",
       " 'Ganjil',\n",
       " 'Ganjil',\n",
       " 'Ganjil',\n",
       " 'Ganjil',\n",
       " 'Ganjil',\n",
       " 'Ganjil',\n",
       " 'Ganjil',\n",
       " 'Ganjil',\n",
       " 'Ganjil',\n",
       " 'Ganjil',\n",
       " 'Ganjil',\n",
       " 'Ganjil',\n",
       " 'Ganjil',\n",
       " 'Ganjil',\n",
       " 'Ganjil',\n",
       " 'Ganjil',\n",
       " 'Ganjil',\n",
       " 'Ganjil',\n",
       " 'Ganjil',\n",
       " 'Ganjil',\n",
       " 'Ganjil',\n",
       " 'Ganjil',\n",
       " 'Ganjil',\n",
       " 'Ganjil',\n",
       " 'Ganjil',\n",
       " 'Ganjil',\n",
       " 'Ganjil',\n",
       " 'Ganjil',\n",
       " 'Ganjil',\n",
       " 'Ganjil',\n",
       " 'Genap',\n",
       " 'Genap',\n",
       " 'Genap',\n",
       " 'Genap',\n",
       " 'Genap',\n",
       " 'Genap',\n",
       " 'Genap',\n",
       " 'Genap',\n",
       " 'Genap',\n",
       " 'Genap',\n",
       " 'Genap',\n",
       " 'Genap',\n",
       " 'Genap',\n",
       " 'Genap',\n",
       " 'Genap',\n",
       " 'Genap',\n",
       " 'Genap',\n",
       " 'Genap',\n",
       " 'Genap',\n",
       " 'Genap',\n",
       " 'Genap',\n",
       " 'Genap',\n",
       " 'Genap',\n",
       " 'Genap',\n",
       " 'Genap',\n",
       " 'Genap',\n",
       " 'Genap',\n",
       " 'Genap',\n",
       " 'Genap',\n",
       " 'Genap',\n",
       " 'Genap',\n",
       " 'Genap',\n",
       " 'Genap',\n",
       " 'Genap',\n",
       " 'Genap',\n",
       " 'Genap',\n",
       " 'Genap',\n",
       " 'Genap',\n",
       " 'Genap',\n",
       " 'Genap',\n",
       " 'Genap',\n",
       " 'Genap',\n",
       " 'Genap',\n",
       " 'Genap',\n",
       " 'Genap',\n",
       " 'Genap',\n",
       " 'Genap',\n",
       " 'Genap',\n",
       " 'Genap',\n",
       " 'Genap',\n",
       " 'Genap',\n",
       " 'Genap',\n",
       " 'Genap',\n",
       " 'Genap',\n",
       " 'Genap',\n",
       " 'Genap',\n",
       " 'Genap',\n",
       " 'Genap',\n",
       " 'Genap',\n",
       " 'Genap',\n",
       " 'Genap',\n",
       " 'Genap',\n",
       " 'Genap',\n",
       " 'Genap',\n",
       " 'Genap',\n",
       " 'Genap',\n",
       " 'Genap',\n",
       " 'Genap',\n",
       " 'Genap',\n",
       " 'Genap',\n",
       " 'Genap',\n",
       " 'Genap',\n",
       " 'Genap',\n",
       " 'Genap',\n",
       " 'Genap',\n",
       " 'Genap',\n",
       " 'Genap',\n",
       " 'Genap',\n",
       " 'Genap',\n",
       " 'Genap',\n",
       " 'Genap',\n",
       " 'Genap',\n",
       " 'Genap',\n",
       " 'Genap',\n",
       " 'Genap',\n",
       " 'Genap',\n",
       " 'Genap',\n",
       " 'Genap',\n",
       " 'Genap',\n",
       " 'Genap',\n",
       " 'Genap',\n",
       " 'Genap',\n",
       " 'Genap',\n",
       " 'Genap',\n",
       " 'Genap',\n",
       " 'Genap',\n",
       " 'Genap',\n",
       " 'Genap',\n",
       " 'Genap',\n",
       " 'Genap',\n",
       " 'Genap',\n",
       " 'Genap',\n",
       " 'Genap',\n",
       " 'Genap',\n",
       " 'Genap',\n",
       " 'Genap',\n",
       " 'Genap',\n",
       " 'Genap',\n",
       " 'Genap',\n",
       " 'Genap',\n",
       " 'Genap',\n",
       " 'Genap',\n",
       " 'Genap',\n",
       " 'Genap',\n",
       " 'Genap',\n",
       " 'Genap',\n",
       " 'Genap',\n",
       " 'Genap',\n",
       " 'Genap',\n",
       " 'Genap',\n",
       " 'Genap',\n",
       " 'Genap',\n",
       " 'Genap',\n",
       " 'Genap',\n",
       " 'Genap',\n",
       " 'Genap',\n",
       " 'Genap',\n",
       " 'Genap',\n",
       " 'Genap',\n",
       " 'Genap',\n",
       " 'Genap',\n",
       " 'Genap',\n",
       " 'Genap',\n",
       " 'Genap',\n",
       " 'Genap',\n",
       " 'Genap',\n",
       " 'Genap',\n",
       " 'Genap',\n",
       " 'Genap',\n",
       " 'Genap',\n",
       " 'Genap',\n",
       " 'Genap',\n",
       " 'Genap',\n",
       " 'Genap',\n",
       " 'Genap',\n",
       " 'Genap',\n",
       " 'Genap',\n",
       " 'Genap',\n",
       " 'Genap',\n",
       " 'Genap',\n",
       " 'Genap',\n",
       " 'Genap',\n",
       " 'Genap',\n",
       " 'Genap',\n",
       " 'Genap',\n",
       " 'Genap',\n",
       " 'Genap',\n",
       " 'Genap',\n",
       " 'Genap',\n",
       " 'Genap',\n",
       " 'Genap',\n",
       " 'Genap',\n",
       " 'Genap',\n",
       " 'Genap',\n",
       " 'Genap',\n",
       " 'Genap',\n",
       " 'Genap',\n",
       " 'Genap',\n",
       " 'Genap',\n",
       " 'Genap',\n",
       " 'Genap',\n",
       " 'Genap',\n",
       " 'Genap',\n",
       " 'Genap',\n",
       " 'Genap',\n",
       " 'Genap',\n",
       " 'Genap',\n",
       " 'Genap',\n",
       " 'Genap',\n",
       " 'Genap',\n",
       " 'Genap',\n",
       " 'Genap',\n",
       " 'Genap',\n",
       " 'Genap',\n",
       " 'Genap',\n",
       " 'Genap',\n",
       " 'Genap',\n",
       " 'Genap',\n",
       " 'Genap',\n",
       " 'Genap',\n",
       " 'Genap',\n",
       " 'Genap',\n",
       " 'Genap',\n",
       " 'Genap',\n",
       " 'Genap',\n",
       " 'Genap',\n",
       " 'Genap',\n",
       " 'Genap',\n",
       " 'Genap',\n",
       " 'Genap',\n",
       " 'Genap',\n",
       " 'Genap',\n",
       " 'Genap',\n",
       " 'Genap',\n",
       " 'Genap',\n",
       " 'Genap',\n",
       " 'Genap',\n",
       " 'Genap',\n",
       " 'Genap',\n",
       " 'Genap',\n",
       " 'Genap',\n",
       " 'Genap',\n",
       " 'Genap',\n",
       " 'Genap',\n",
       " 'Genap',\n",
       " 'Genap',\n",
       " 'Genap',\n",
       " 'Genap',\n",
       " 'Genap',\n",
       " 'Genap',\n",
       " 'Genap',\n",
       " 'Genap',\n",
       " 'Genap',\n",
       " 'Genap',\n",
       " 'Genap',\n",
       " 'Genap',\n",
       " 'Genap',\n",
       " 'Genap',\n",
       " 'Genap',\n",
       " 'Genap',\n",
       " 'Genap',\n",
       " 'Genap',\n",
       " 'Genap',\n",
       " 'Genap',\n",
       " 'Genap',\n",
       " 'Genap',\n",
       " 'Genap',\n",
       " 'Genap',\n",
       " 'Genap',\n",
       " 'Genap',\n",
       " 'Genap',\n",
       " 'Genap',\n",
       " 'Genap',\n",
       " 'Genap',\n",
       " 'Genap',\n",
       " 'Genap',\n",
       " 'Genap',\n",
       " 'Genap',\n",
       " 'Genap',\n",
       " 'Genap',\n",
       " 'Genap',\n",
       " 'Genap',\n",
       " 'Genap',\n",
       " 'Genap',\n",
       " 'Genap',\n",
       " 'Genap',\n",
       " 'Genap',\n",
       " 'Genap',\n",
       " 'Genap',\n",
       " 'Genap',\n",
       " 'Genap',\n",
       " 'Genap',\n",
       " 'Genap',\n",
       " 'Genap',\n",
       " 'Genap',\n",
       " 'Genap',\n",
       " 'Genap',\n",
       " 'Genap',\n",
       " 'Genap',\n",
       " 'Genap',\n",
       " 'Genap',\n",
       " 'Genap',\n",
       " 'Genap',\n",
       " 'Genap',\n",
       " 'Genap',\n",
       " 'Genap',\n",
       " 'Genap',\n",
       " 'Genap',\n",
       " 'Genap',\n",
       " 'Genap',\n",
       " 'Genap',\n",
       " 'Genap',\n",
       " 'Genap',\n",
       " 'Genap',\n",
       " 'Ganjil',\n",
       " 'Ganjil',\n",
       " 'Ganjil',\n",
       " 'Ganjil',\n",
       " 'Ganjil',\n",
       " 'Ganjil',\n",
       " 'Ganjil',\n",
       " 'Ganjil',\n",
       " 'Ganjil',\n",
       " 'Ganjil',\n",
       " 'Ganjil',\n",
       " 'Ganjil',\n",
       " 'Ganjil',\n",
       " 'Ganjil',\n",
       " 'Ganjil',\n",
       " 'Ganjil',\n",
       " 'Ganjil',\n",
       " 'Ganjil',\n",
       " 'Ganjil',\n",
       " 'Ganjil',\n",
       " 'Ganjil',\n",
       " 'Ganjil',\n",
       " 'Ganjil',\n",
       " 'Ganjil',\n",
       " 'Ganjil',\n",
       " 'Ganjil',\n",
       " 'Ganjil',\n",
       " 'Ganjil',\n",
       " 'Ganjil',\n",
       " 'Ganjil',\n",
       " 'Ganjil',\n",
       " 'Ganjil',\n",
       " 'Ganjil',\n",
       " 'Ganjil',\n",
       " 'Ganjil',\n",
       " 'Ganjil',\n",
       " 'Ganjil',\n",
       " 'Ganjil',\n",
       " 'Ganjil',\n",
       " 'Ganjil',\n",
       " 'Ganjil',\n",
       " 'Ganjil',\n",
       " 'Ganjil',\n",
       " 'Ganjil',\n",
       " 'Ganjil',\n",
       " 'Ganjil',\n",
       " 'Ganjil',\n",
       " 'Ganjil',\n",
       " 'Ganjil',\n",
       " 'Ganjil',\n",
       " 'Ganjil',\n",
       " 'Ganjil',\n",
       " 'Ganjil',\n",
       " 'Ganjil',\n",
       " 'Ganjil',\n",
       " 'Ganjil',\n",
       " 'Ganjil',\n",
       " 'Ganjil',\n",
       " 'Ganjil',\n",
       " 'Ganjil',\n",
       " 'Ganjil',\n",
       " 'Ganjil',\n",
       " 'Ganjil',\n",
       " 'Ganjil',\n",
       " 'Ganjil',\n",
       " 'Ganjil',\n",
       " 'Ganjil',\n",
       " 'Ganjil',\n",
       " 'Ganjil',\n",
       " 'Ganjil',\n",
       " 'Ganjil',\n",
       " 'Ganjil',\n",
       " 'Ganjil',\n",
       " 'Ganjil',\n",
       " 'Ganjil',\n",
       " 'Ganjil',\n",
       " 'Ganjil',\n",
       " 'Ganjil',\n",
       " 'Ganjil',\n",
       " 'Ganjil',\n",
       " 'Ganjil',\n",
       " 'Ganjil',\n",
       " 'Ganjil',\n",
       " 'Ganjil',\n",
       " 'Ganjil',\n",
       " 'Ganjil',\n",
       " 'Ganjil',\n",
       " 'Ganjil',\n",
       " 'Ganjil',\n",
       " 'Ganjil',\n",
       " 'Ganjil',\n",
       " 'Ganjil',\n",
       " 'Ganjil',\n",
       " 'Ganjil',\n",
       " 'Ganjil',\n",
       " 'Ganjil',\n",
       " 'Ganjil',\n",
       " 'Ganjil',\n",
       " 'Ganjil',\n",
       " 'Ganjil',\n",
       " 'Ganjil',\n",
       " 'Ganjil',\n",
       " 'Ganjil',\n",
       " 'Ganjil',\n",
       " 'Ganjil',\n",
       " 'Ganjil',\n",
       " 'Ganjil',\n",
       " 'Ganjil',\n",
       " 'Ganjil',\n",
       " 'Ganjil',\n",
       " 'Ganjil',\n",
       " 'Ganjil',\n",
       " 'Ganjil',\n",
       " 'Ganjil',\n",
       " 'Ganjil',\n",
       " 'Ganjil',\n",
       " 'Ganjil',\n",
       " 'Ganjil',\n",
       " 'Ganjil',\n",
       " 'Ganjil',\n",
       " 'Ganjil',\n",
       " 'Ganjil',\n",
       " 'Ganjil',\n",
       " 'Ganjil',\n",
       " 'Ganjil',\n",
       " 'Ganjil',\n",
       " 'Ganjil',\n",
       " 'Ganjil',\n",
       " 'Ganjil',\n",
       " 'Ganjil',\n",
       " 'Ganjil',\n",
       " 'Ganjil',\n",
       " 'Ganjil',\n",
       " 'Ganjil',\n",
       " 'Ganjil',\n",
       " 'Ganjil',\n",
       " 'Ganjil',\n",
       " 'Ganjil',\n",
       " 'Ganjil',\n",
       " 'Ganjil',\n",
       " 'Ganjil',\n",
       " 'Ganjil',\n",
       " 'Ganjil',\n",
       " 'Ganjil',\n",
       " 'Ganjil',\n",
       " 'Ganjil',\n",
       " 'Ganjil',\n",
       " 'Ganjil',\n",
       " 'Ganjil',\n",
       " 'Ganjil',\n",
       " 'Ganjil',\n",
       " 'Ganjil',\n",
       " 'Ganjil',\n",
       " 'Ganjil',\n",
       " 'Ganjil',\n",
       " 'Ganjil',\n",
       " 'Ganjil',\n",
       " 'Ganjil',\n",
       " 'Ganjil',\n",
       " 'Ganjil',\n",
       " 'Ganjil',\n",
       " 'Ganjil',\n",
       " 'Ganjil',\n",
       " 'Ganjil',\n",
       " 'Ganjil',\n",
       " 'Ganjil',\n",
       " 'Ganjil',\n",
       " 'Ganjil',\n",
       " 'Ganjil',\n",
       " 'Ganjil',\n",
       " 'Ganjil',\n",
       " 'Ganjil',\n",
       " 'Ganjil',\n",
       " 'Ganjil',\n",
       " 'Ganjil',\n",
       " 'Ganjil',\n",
       " 'Ganjil',\n",
       " 'Ganjil',\n",
       " 'Ganjil',\n",
       " 'Ganjil',\n",
       " 'Ganjil',\n",
       " 'Ganjil',\n",
       " 'Ganjil',\n",
       " 'Ganjil',\n",
       " 'Ganjil',\n",
       " 'Ganjil',\n",
       " 'Ganjil',\n",
       " 'Ganjil',\n",
       " 'Ganjil',\n",
       " 'Ganjil',\n",
       " 'Ganjil',\n",
       " 'Ganjil',\n",
       " 'Ganjil',\n",
       " 'Ganjil',\n",
       " 'Ganjil',\n",
       " 'Ganjil',\n",
       " 'Ganjil',\n",
       " 'Ganjil',\n",
       " 'Ganjil',\n",
       " 'Ganjil',\n",
       " 'Ganjil',\n",
       " 'Ganjil',\n",
       " 'Ganjil',\n",
       " 'Ganjil']"
      ]
     },
     "metadata":{
      
     },
     "output_type":"display_data"
    }
   ],
   "metadata":{
    "datalore":{
     "type":"CODE",
     "hide_input_from_viewers":false,
     "hide_output_from_viewers":false
    }
   }
  },
  {
   "cell_type":"code",
   "source":[
    "df2 = df\n",
    "df2['Semester'] = semester_apa\n",
    "df2 = df2.groupby(\"Nama Anggota\").min()\n",
    "df2"
   ],
   "execution_count":16,
   "outputs":[
    {
     "data":{
      "text\/html":[
       "<div>\n",
       "<style scoped>\n",
       "    .dataframe tbody tr th:only-of-type {\n",
       "        vertical-align: middle;\n",
       "    }\n",
       "\n",
       "    .dataframe tbody tr th {\n",
       "        vertical-align: top;\n",
       "    }\n",
       "\n",
       "    .dataframe thead th {\n",
       "        text-align: right;\n",
       "    }\n",
       "<\/style>\n",
       "<table border=\"1\" class=\"dataframe\">\n",
       "  <thead>\n",
       "    <tr style=\"text-align: right;\">\n",
       "      <th><\/th>\n",
       "      <th>ID Anggota<\/th>\n",
       "      <th>Kode Eksemplar<\/th>\n",
       "      <th>Judul<\/th>\n",
       "      <th>Tanggal Pinjam<\/th>\n",
       "      <th>Tanggal Kembali<\/th>\n",
       "      <th>Status peminjaman<\/th>\n",
       "      <th>Buta RLAC<\/th>\n",
       "      <th>angkatan<\/th>\n",
       "      <th>Semester<\/th>\n",
       "    <\/tr>\n",
       "    <tr>\n",
       "      <th>Nama Anggota<\/th>\n",
       "      <th><\/th>\n",
       "      <th><\/th>\n",
       "      <th><\/th>\n",
       "      <th><\/th>\n",
       "      <th><\/th>\n",
       "      <th><\/th>\n",
       "      <th><\/th>\n",
       "      <th><\/th>\n",
       "      <th><\/th>\n",
       "    <\/tr>\n",
       "  <\/thead>\n",
       "  <tbody>\n",
       "    <tr>\n",
       "      <th>Aaron Arquette<\/th>\n",
       "      <td>212100246<\/td>\n",
       "      <td>1033<\/td>\n",
       "      <td>Kalkulus, Jilid 1 = Calculus<\/td>\n",
       "      <td>10\/1\/2021<\/td>\n",
       "      <td>10\/1\/2021<\/td>\n",
       "      <td>1<\/td>\n",
       "      <td>0<\/td>\n",
       "      <td>21<\/td>\n",
       "      <td>Ganjil<\/td>\n",
       "    <\/tr>\n",
       "    <tr>\n",
       "      <th>Abrielle Irene Mirah<\/th>\n",
       "      <td>212100256<\/td>\n",
       "      <td>2147<\/td>\n",
       "      <td>Morfologi Tumbuhan<\/td>\n",
       "      <td>1\/26\/2022<\/td>\n",
       "      <td>2\/9\/2022<\/td>\n",
       "      <td>1<\/td>\n",
       "      <td>1<\/td>\n",
       "      <td>21<\/td>\n",
       "      <td>Genap<\/td>\n",
       "    <\/tr>\n",
       "    <tr>\n",
       "      <th>Adelaide Astrid Kusumawardhani<\/th>\n",
       "      <td>212100124<\/td>\n",
       "      <td>818<\/td>\n",
       "      <td>Brock Biology of Microorganisms<\/td>\n",
       "      <td>1\/10\/2022<\/td>\n",
       "      <td>1\/24\/2022<\/td>\n",
       "      <td>0<\/td>\n",
       "      <td>1<\/td>\n",
       "      <td>21<\/td>\n",
       "      <td>Genap<\/td>\n",
       "    <\/tr>\n",
       "    <tr>\n",
       "      <th>Alfa Marzelino<\/th>\n",
       "      <td>191900672<\/td>\n",
       "      <td>529<\/td>\n",
       "      <td>Depresi: Memandang Melampaui Kegelapan yang Su...<\/td>\n",
       "      <td>1\/20\/2022<\/td>\n",
       "      <td>10\/12\/2021<\/td>\n",
       "      <td>1<\/td>\n",
       "      <td>0<\/td>\n",
       "      <td>19<\/td>\n",
       "      <td>Ganjil<\/td>\n",
       "    <\/tr>\n",
       "    <tr>\n",
       "      <th>Alfred William Silele<\/th>\n",
       "      <td>212100709<\/td>\n",
       "      <td>2146<\/td>\n",
       "      <td>Morfologi Tumbuhan<\/td>\n",
       "      <td>2\/2\/2022<\/td>\n",
       "      <td>2\/16\/2022<\/td>\n",
       "      <td>1<\/td>\n",
       "      <td>1<\/td>\n",
       "      <td>21<\/td>\n",
       "      <td>Genap<\/td>\n",
       "    <\/tr>\n",
       "    <tr>\n",
       "      <th>...<\/th>\n",
       "      <td>...<\/td>\n",
       "      <td>...<\/td>\n",
       "      <td>...<\/td>\n",
       "      <td>...<\/td>\n",
       "      <td>...<\/td>\n",
       "      <td>...<\/td>\n",
       "      <td>...<\/td>\n",
       "      <td>...<\/td>\n",
       "      <td>...<\/td>\n",
       "    <\/tr>\n",
       "    <tr>\n",
       "      <th>Yabes Elmon<\/th>\n",
       "      <td>202000638<\/td>\n",
       "      <td>142<\/td>\n",
       "      <td>Allah Tritunggal<\/td>\n",
       "      <td>8\/30\/2021<\/td>\n",
       "      <td>9\/13\/2021<\/td>\n",
       "      <td>1<\/td>\n",
       "      <td>0<\/td>\n",
       "      <td>20<\/td>\n",
       "      <td>Ganjil<\/td>\n",
       "    <\/tr>\n",
       "    <tr>\n",
       "      <th>Yehezkiel Purnama Wijaya<\/th>\n",
       "      <td>10101190476<\/td>\n",
       "      <td>32<\/td>\n",
       "      <td>God's Fiery Challenger for Our Time: Festchrif...<\/td>\n",
       "      <td>8\/25\/2021<\/td>\n",
       "      <td>8\/19\/2021<\/td>\n",
       "      <td>1<\/td>\n",
       "      <td>0<\/td>\n",
       "      <td>19<\/td>\n",
       "      <td>Ganjil<\/td>\n",
       "    <\/tr>\n",
       "    <tr>\n",
       "      <th>Yolanda Charlota Thenu<\/th>\n",
       "      <td>202001260<\/td>\n",
       "      <td>746<\/td>\n",
       "      <td>Allah Tritunggal<\/td>\n",
       "      <td>1\/25\/2022<\/td>\n",
       "      <td>2\/8\/2022<\/td>\n",
       "      <td>0<\/td>\n",
       "      <td>0<\/td>\n",
       "      <td>20<\/td>\n",
       "      <td>Ganjil<\/td>\n",
       "    <\/tr>\n",
       "    <tr>\n",
       "      <th>Yosephine Priscilla Maris<\/th>\n",
       "      <td>191900292<\/td>\n",
       "      <td>735<\/td>\n",
       "      <td>Biology: A Global Approach<\/td>\n",
       "      <td>11\/8\/2021<\/td>\n",
       "      <td>1\/12\/2022<\/td>\n",
       "      <td>1<\/td>\n",
       "      <td>0<\/td>\n",
       "      <td>19<\/td>\n",
       "      <td>Ganjil<\/td>\n",
       "    <\/tr>\n",
       "    <tr>\n",
       "      <th>Yovan Carvallo<\/th>\n",
       "      <td>202000243<\/td>\n",
       "      <td>2500<\/td>\n",
       "      <td>Analisis Struktur dengan Metode Matriks Menggu...<\/td>\n",
       "      <td>10\/22\/2021<\/td>\n",
       "      <td>11\/5\/2021<\/td>\n",
       "      <td>1<\/td>\n",
       "      <td>1<\/td>\n",
       "      <td>20<\/td>\n",
       "      <td>Ganjil<\/td>\n",
       "    <\/tr>\n",
       "  <\/tbody>\n",
       "<\/table>\n",
       "<p>162 rows × 9 columns<\/p>\n",
       "<\/div>"
      ]
     },
     "metadata":{
      
     },
     "output_type":"display_data"
    }
   ],
   "metadata":{
    "datalore":{
     "type":"CODE",
     "hide_input_from_viewers":false,
     "hide_output_from_viewers":false
    }
   }
  },
  {
   "cell_type":"code",
   "source":[
    "semester_ganjil = df2['Buta RLAC'][df2[\"Semester\"] == 'Ganjil']\n",
    "semester_genap = df2['Buta RLAC'][df2[\"Semester\"] == 'Genap']\n",
    "proporsi_buta_RLAC_Ganjil = round(semester_ganjil.mean()*100,2)\n",
    "proporsi_buta_RLAC_Genap = round(semester_genap.mean()*100,2)\n",
    "proporsi_buta_RLAC_Genap"
   ],
   "execution_count":17,
   "outputs":[
    {
     "data":{
      "text\/plain":[
       "49.06"
      ]
     },
     "metadata":{
      
     },
     "output_type":"display_data"
    }
   ],
   "metadata":{
    "datalore":{
     "type":"CODE",
     "hide_input_from_viewers":false,
     "hide_output_from_viewers":false
    }
   }
  },
  {
   "cell_type":"code",
   "source":[
    "import numpy as np\n",
    "import matplotlib.pyplot as plt\n",
    "\n",
    "\n",
    "# creating the dataset\n",
    "data = {'Ganjil':proporsi_buta_RLAC_Ganjil, 'Genap':proporsi_buta_RLAC_Genap}\n",
    "courses = list(data.keys())\n",
    "values = list(data.values())\n",
    "\n",
    "fig = plt.figure(figsize = (10, 5))\n",
    "\n",
    "# creating the bar plot\n",
    "plt.bar(courses, [100,100], color ='maroon',alpha=0.1,\n",
    "\t\twidth = 0.5)\n",
    "plt.bar(courses, values, color ='maroon',\n",
    "\t\twidth = 0.5)\n",
    "\n",
    "plt.text(\"Ganjil\",25,f\"{proporsi_buta_RLAC_Ganjil}%\",ha=\"center\",color=\"white\", weight=\"bold\")\n",
    "plt.text(\"Genap\",43,f\"{proporsi_buta_RLAC_Genap}%\",ha=\"center\",color=\"white\", weight=\"bold\")\n",
    "\n",
    "plt.xlabel(\"Semester\")\n",
    "plt.ylabel(\"Persentase\")\n",
    "plt.title(\"Perbandingan sampel mahasiswa buta RLAC di semester genap dan ganjil\")\n",
    "plt.show()"
   ],
   "execution_count":18,
   "outputs":[
    {
     "data":{
      "image\/png":"[encoded data removed]"
     },
     "metadata":{
      "image\/png":{
       
      }
     },
     "output_type":"display_data"
    }
   ],
   "metadata":{
    "datalore":{
     "type":"CODE",
     "hide_input_from_viewers":false,
     "hide_output_from_viewers":false
    }
   }
  },
  {
   "cell_type":"code",
   "source":[
    "semester_ganjil = df2['Buta RLAC'][df2[\"Semester\"] == 'Ganjil']\n",
    "semester_genap = df2['Buta RLAC'][df2[\"Semester\"] == 'Genap']\n",
    "print(f'Jumlah Mahasiswa yang meminjam pada Semester Ganjil = {semester_ganjil.shape[0]}')\n",
    "print(f'Jumlah Mahasiswa yang meminjam pada Semester Genap = {semester_genap.shape[0]}')"
   ],
   "execution_count":19,
   "outputs":[
    {
     "name":"stdout",
     "text":[
      "Jumlah Mahasiswa yang meminjam pada Semester Ganjil = 109\n",
      "Jumlah Mahasiswa yang meminjam pada Semester Genap = 53\n"
     ],
     "output_type":"stream"
    }
   ],
   "metadata":{
    "datalore":{
     "type":"CODE",
     "hide_input_from_viewers":false,
     "hide_output_from_viewers":false
    }
   }
  },
  {
   "cell_type":"code",
   "source":[
    "x_ganjil = np.mean(semester_ganjil)\n",
    "x_genap = np.mean(semester_genap)\n",
    "std_ganjil = semester_ganjil.std()\n",
    "std_genap = semester_genap.std()\n",
    "n1_df2 = len(semester_ganjil)\n",
    "n2_df2 = len(semester_genap)\n",
    "print(f\"Rata - Rata Semester Ganjil = {x_ganjil}\")\n",
    "print(f\"Rata - Rata Semester Genap = {x_genap}\")\n",
    "print(f\"Standar Deviasi Semester Ganjil = {x_ganjil}\")\n",
    "print(f\"Standar Deviasi Semester Genap = {x_genap}\")"
   ],
   "execution_count":20,
   "outputs":[
    {
     "name":"stdout",
     "text":[
      "Rata - Rata Semester Ganjil = 0.3211009174311927\n",
      "Rata - Rata Semester Genap = 0.49056603773584906\n",
      "Standar Deviasi Semester Ganjil = 0.3211009174311927\n",
      "Standar Deviasi Semester Genap = 0.49056603773584906\n"
     ],
     "output_type":"stream"
    }
   ],
   "metadata":{
    "datalore":{
     "type":"CODE",
     "hide_input_from_viewers":false,
     "hide_output_from_viewers":false
    }
   }
  },
  {
   "cell_type":"markdown",
   "source":[
    "## Cara Manual\n",
    "Misalkan:<br>\n",
    "X1 adalah mahasiswa CIT yang membaca buku non-prodinya pada semester ganjil<br>\n",
    "X2 adalah mahasiswa CIT yang membaca buku non-prodinya pada semester genap\n",
    "\n",
    "H0: $\\mu1$ - $\\mu2 \\le$ 0 \n",
    "<br>\n",
    "H1: $\\mu1$ - $\\mu2 \\gt$ 0"
   ],
   "attachments":{
    
   },
   "metadata":{
    "datalore":{
     "type":"MD",
     "hide_input_from_viewers":false,
     "hide_output_from_viewers":false
    }
   }
  },
  {
   "cell_type":"code",
   "source":[
    "statistik_manual_df2 = (x_ganjil - x_genap) \/ (((std_ganjil**2)\/n1_df2)+((std_genap**2)\/n2_df2))**0.5\n",
    "print(\"Hasil Statistik:\", statistik_manual_df2)\n",
    "crit = stats.norm.ppf(0.99)\n",
    "print(f\"Critical region:({crit} , ∞)\")"
   ],
   "execution_count":21,
   "outputs":[
    {
     "name":"stdout",
     "text":[
      "Hasil Statistik: -2.051381175579928\n",
      "Critical region:(2.3263478740408408 , ∞)\n"
     ],
     "output_type":"stream"
    }
   ],
   "metadata":{
    "datalore":{
     "type":"CODE",
     "hide_input_from_viewers":false,
     "hide_output_from_viewers":false
    }
   }
  },
  {
   "cell_type":"markdown",
   "source":[
    "Karena Statistik ada di luar critical region maka kesimpulan Uji Hipotesis : H0 tidak ditolak<br>\n",
    "Karena Hipotesis Null tidak ditolak, maka data tidak cukup signifikan untuk menyimpulkan apapun"
   ],
   "attachments":{
    
   },
   "metadata":{
    "datalore":{
     "type":"MD",
     "hide_input_from_viewers":false,
     "hide_output_from_viewers":false
    }
   }
  },
  {
   "cell_type":"markdown",
   "source":[
    "### Membalik Uji Hipotesis Masalah 2 Cara Manual"
   ],
   "attachments":{
    
   },
   "metadata":{
    "datalore":{
     "type":"MD",
     "hide_input_from_viewers":false,
     "hide_output_from_viewers":false
    }
   }
  },
  {
   "cell_type":"markdown",
   "source":[
    "H0: $\\mu1$ - $\\mu2 \\ge$ 0 \n",
    "<br>\n",
    "H1: $\\mu1$ - $\\mu2 \\lt$ 0"
   ],
   "attachments":{
    
   },
   "metadata":{
    "datalore":{
     "type":"MD",
     "hide_input_from_viewers":false,
     "hide_output_from_viewers":false
    }
   }
  },
  {
   "cell_type":"code",
   "source":[
    "statistik_manual_df2 = (x_ganjil - x_genap) \/ (((std_ganjil**2)\/n1_df2)+((std_genap**2)\/n2_df2))**0.5\n",
    "print(\"Hasil Statistik:\", statistik_manual_df2)\n",
    "crit = stats.norm.ppf(0.99)\n",
    "print(f\"Critical region:(-∞ , {crit})\")"
   ],
   "execution_count":22,
   "outputs":[
    {
     "name":"stdout",
     "text":[
      "Hasil Statistik: -2.051381175579928\n",
      "Critical region:(-∞ , 2.3263478740408408)\n"
     ],
     "output_type":"stream"
    }
   ],
   "metadata":{
    "datalore":{
     "type":"CODE",
     "hide_input_from_viewers":false,
     "hide_output_from_viewers":false
    }
   }
  },
  {
   "cell_type":"markdown",
   "source":[
    "Karena statistik ada di dalam critical region maka kesimpulan Uji Hipotesis : H0 ditolak. <br>\n",
    "Dengan tingkat kepercayaan 99%, rata-rata mahasiswa membaca buku diluar prodinya semester 1 tidak lebih besar dari semester 2."
   ],
   "attachments":{
    
   },
   "metadata":{
    "datalore":{
     "type":"MD",
     "hide_input_from_viewers":false,
     "hide_output_from_viewers":false
    }
   }
  },
  {
   "cell_type":"markdown",
   "source":[
    "## Cara Modern\n",
    "Misalkan:<br>\n",
    "X1 adalah mahasiswa CIT yang membaca buku non-prodinya pada semester ganjil<br>\n",
    "X2 adalah mahasiswa CIT yang membaca buku non-prodinya pada semester genap\n",
    "\n",
    "H0: $\\mu1$ - $\\mu2 \\le$ 0 \n",
    "<br>\n",
    "H1: $\\mu1$ - $\\mu2 \\gt$ 0"
   ],
   "attachments":{
    
   },
   "metadata":{
    "datalore":{
     "type":"MD",
     "hide_input_from_viewers":false,
     "hide_output_from_viewers":false
    }
   }
  },
  {
   "cell_type":"code",
   "source":[
    "tstat, pval = statsmodels.stats.weightstats.ztest(semester_ganjil,semester_genap, value=0, alternative='larger')\n",
    "print(f'Hasil Statistik = {tstat}')\n",
    "print(f'P-Value = {pval}')"
   ],
   "execution_count":23,
   "outputs":[
    {
     "name":"stdout",
     "text":[
      "Hasil Statistik = -2.1042314806479245\n",
      "P-Value = 0.9823208701422311\n"
     ],
     "output_type":"stream"
    }
   ],
   "metadata":{
    "datalore":{
     "type":"CODE",
     "hide_input_from_viewers":false,
     "hide_output_from_viewers":false
    }
   }
  },
  {
   "cell_type":"markdown",
   "source":[
    "Karena P-Value (0.9823208701422311) >= alpha (0.01). Maka H0 tidak ditolak.<br>\n",
    "Karena Hipotesis Null tidak ditolak, maka data tidak cukup signifikan untuk menyimpulkan apapun"
   ],
   "attachments":{
    
   },
   "metadata":{
    "datalore":{
     "type":"MD",
     "hide_input_from_viewers":false,
     "hide_output_from_viewers":false
    }
   }
  },
  {
   "cell_type":"markdown",
   "source":[
    "H0: $\\mu1$ - $\\mu2 \\ge$ 0 \n",
    "<br>\n",
    "H1: $\\mu1$ - $\\mu2 \\lt$ 0"
   ],
   "attachments":{
    
   },
   "metadata":{
    "datalore":{
     "type":"MD",
     "hide_input_from_viewers":false,
     "hide_output_from_viewers":false
    }
   }
  },
  {
   "cell_type":"code",
   "source":[
    "tstat, pval = statsmodels.stats.weightstats.ztest(semester_ganjil,semester_genap, value=0, alternative='smaller')\n",
    "print(f'Hasil Statistik = {tstat}')\n",
    "print(f'P-Value = {pval}')\n",
    "the_alpha_ = 0.01\n",
    "if (pval < the_alpha_):\n",
    "    print('P Value < alpha (0.01)')\n",
    "else:\n",
    "    print('P Value >= alpha (0.01)')"
   ],
   "execution_count":24,
   "outputs":[
    {
     "name":"stdout",
     "text":[
      "Hasil Statistik = -2.1042314806479245\n",
      "P-Value = 0.017679129857768823\n",
      "P Value >= alpha (0.01)\n"
     ],
     "output_type":"stream"
    }
   ],
   "metadata":{
    "datalore":{
     "type":"CODE",
     "hide_input_from_viewers":false,
     "hide_output_from_viewers":false
    }
   }
  },
  {
   "cell_type":"markdown",
   "source":[
    "Karena P-Value (0.017679129857768823) >= alpha (0.01). Maka H0 tidak ditolak.<br>\n",
    "Karena Hipotesis Null tidak ditolak, maka data tidak cukup signifikan untuk menyimpulkan apapun"
   ],
   "attachments":{
    
   },
   "metadata":{
    "datalore":{
     "type":"MD",
     "hide_input_from_viewers":false,
     "hide_output_from_viewers":false
    }
   }
  },
  {
   "cell_type":"markdown",
   "source":[
    "**Buat tingkat kepercayaan : alpha=0.02**"
   ],
   "attachments":{
    
   },
   "metadata":{
    "datalore":{
     "type":"MD",
     "hide_input_from_viewers":false,
     "hide_output_from_viewers":false
    }
   }
  },
  {
   "cell_type":"code",
   "source":[
    "tstat, pval = statsmodels.stats.weightstats.ztest(semester_ganjil,semester_genap, value=0, alternative='smaller')\n",
    "print(f'Hasil Statistik = {tstat}')\n",
    "print(f'P-Value = {pval}')\n",
    "the_alpha_ = 0.02\n",
    "if pval <= the_alpha_:\n",
    "    print('H0 Ditolak')"
   ],
   "execution_count":25,
   "outputs":[
    {
     "name":"stdout",
     "text":[
      "Hasil Statistik = -2.1042314806479245\n",
      "P-Value = 0.017679129857768823\n",
      "H0 Ditolak\n"
     ],
     "output_type":"stream"
    }
   ],
   "metadata":{
    "datalore":{
     "type":"CODE",
     "hide_input_from_viewers":false,
     "hide_output_from_viewers":false
    }
   }
  },
  {
   "cell_type":"markdown",
   "source":[
    "Karena P-Value (0.017679129857768823) <= alpha (0.02). Maka H0 ditolak.<br>\n",
    "Dengan tingkat kepercayaan 99%, rata-rata mahasiswa membaca buku diluar prodinya semester 1 tidak lebih besar dari semester 2."
   ],
   "attachments":{
    
   },
   "metadata":{
    "datalore":{
     "type":"MD",
     "hide_input_from_viewers":false,
     "hide_output_from_viewers":false
    }
   }
  },
  {
   "cell_type":"markdown",
   "source":[
    "# Masalah 3 Selisih rataan 2 populasi"
   ],
   "attachments":{
    
   },
   "metadata":{
    "datalore":{
     "type":"MD",
     "hide_input_from_viewers":false,
     "hide_output_from_viewers":false
    }
   }
  },
  {
   "cell_type":"code",
   "source":[
    "df_th1 = pd.read_csv(\"angkatan_sulung.csv\")\n",
    "df_th1 = df_th1.groupby(\"Nama Anggota\").min()\n",
    "df_th1 = df_th1[[\"Buta RLAC\"]]\n",
    "df_th1.rename(columns={\"Buta RLAC\": \"Buta RLAC tahun 1\"}, inplace=True)\n",
    "df_th1"
   ],
   "execution_count":26,
   "outputs":[
    {
     "data":{
      "text\/html":[
       "<div>\n",
       "<style scoped>\n",
       "    .dataframe tbody tr th:only-of-type {\n",
       "        vertical-align: middle;\n",
       "    }\n",
       "\n",
       "    .dataframe tbody tr th {\n",
       "        vertical-align: top;\n",
       "    }\n",
       "\n",
       "    .dataframe thead th {\n",
       "        text-align: right;\n",
       "    }\n",
       "<\/style>\n",
       "<table border=\"1\" class=\"dataframe\">\n",
       "  <thead>\n",
       "    <tr style=\"text-align: right;\">\n",
       "      <th><\/th>\n",
       "      <th>Buta RLAC tahun 1<\/th>\n",
       "    <\/tr>\n",
       "    <tr>\n",
       "      <th>Nama Anggota<\/th>\n",
       "      <th><\/th>\n",
       "    <\/tr>\n",
       "  <\/thead>\n",
       "  <tbody>\n",
       "    <tr>\n",
       "      <th>Alfa Marzelino<\/th>\n",
       "      <td>0<\/td>\n",
       "    <\/tr>\n",
       "    <tr>\n",
       "      <th>Anatasia Militiachristy Gabriella Sumirat<\/th>\n",
       "      <td>1<\/td>\n",
       "    <\/tr>\n",
       "    <tr>\n",
       "      <th>Angelia Austina<\/th>\n",
       "      <td>0<\/td>\n",
       "    <\/tr>\n",
       "    <tr>\n",
       "      <th>Badia Tuahman L Sihaloho<\/th>\n",
       "      <td>1<\/td>\n",
       "    <\/tr>\n",
       "    <tr>\n",
       "      <th>Bambang Prapta Aji Budiarja<\/th>\n",
       "      <td>0<\/td>\n",
       "    <\/tr>\n",
       "    <tr>\n",
       "      <th>Brandon Christopher<\/th>\n",
       "      <td>1<\/td>\n",
       "    <\/tr>\n",
       "    <tr>\n",
       "      <th>Charis Christopher Hulu<\/th>\n",
       "      <td>0<\/td>\n",
       "    <\/tr>\n",
       "    <tr>\n",
       "      <th>Christopher Kornelius Santoso<\/th>\n",
       "      <td>0<\/td>\n",
       "    <\/tr>\n",
       "    <tr>\n",
       "      <th>Christopher Owen Candlerson<\/th>\n",
       "      <td>0<\/td>\n",
       "    <\/tr>\n",
       "    <tr>\n",
       "      <th>Christyane Zabdi<\/th>\n",
       "      <td>0<\/td>\n",
       "    <\/tr>\n",
       "    <tr>\n",
       "      <th>Edgar Tigor<\/th>\n",
       "      <td>1<\/td>\n",
       "    <\/tr>\n",
       "    <tr>\n",
       "      <th>Elisabeth Victoria Sampolino<\/th>\n",
       "      <td>0<\/td>\n",
       "    <\/tr>\n",
       "    <tr>\n",
       "      <th>Elson Prima Roulsie Sutrisno<\/th>\n",
       "      <td>1<\/td>\n",
       "    <\/tr>\n",
       "    <tr>\n",
       "      <th>Felicia Grace Yolanda<\/th>\n",
       "      <td>0<\/td>\n",
       "    <\/tr>\n",
       "    <tr>\n",
       "      <th>Florence Evangelin Rumteh<\/th>\n",
       "      <td>0<\/td>\n",
       "    <\/tr>\n",
       "    <tr>\n",
       "      <th>Franky Hendrata Gosaly<\/th>\n",
       "      <td>0<\/td>\n",
       "    <\/tr>\n",
       "    <tr>\n",
       "      <th>Giovanni Marchiano<\/th>\n",
       "      <td>0<\/td>\n",
       "    <\/tr>\n",
       "    <tr>\n",
       "      <th>Gracheilla Angel Siswanto<\/th>\n",
       "      <td>0<\/td>\n",
       "    <\/tr>\n",
       "    <tr>\n",
       "      <th>Halel Dwi Putra Baskara Wahono<\/th>\n",
       "      <td>0<\/td>\n",
       "    <\/tr>\n",
       "    <tr>\n",
       "      <th>Hans Nathaniel Hadi Soesilo<\/th>\n",
       "      <td>1<\/td>\n",
       "    <\/tr>\n",
       "    <tr>\n",
       "      <th>Isabella Stevani<\/th>\n",
       "      <td>1<\/td>\n",
       "    <\/tr>\n",
       "    <tr>\n",
       "      <th>Jasen Danka<\/th>\n",
       "      <td>1<\/td>\n",
       "    <\/tr>\n",
       "    <tr>\n",
       "      <th>Jason Yehezkiel Wijaya<\/th>\n",
       "      <td>0<\/td>\n",
       "    <\/tr>\n",
       "    <tr>\n",
       "      <th>Jeffries Nababan<\/th>\n",
       "      <td>0<\/td>\n",
       "    <\/tr>\n",
       "    <tr>\n",
       "      <th>Johan Saputro Budiono<\/th>\n",
       "      <td>0<\/td>\n",
       "    <\/tr>\n",
       "    <tr>\n",
       "      <th>Joy Milliaan<\/th>\n",
       "      <td>0<\/td>\n",
       "    <\/tr>\n",
       "    <tr>\n",
       "      <th>Kevin Imanuel Alrego<\/th>\n",
       "      <td>0<\/td>\n",
       "    <\/tr>\n",
       "    <tr>\n",
       "      <th>Kevin Rafela Audry Tjhang<\/th>\n",
       "      <td>1<\/td>\n",
       "    <\/tr>\n",
       "    <tr>\n",
       "      <th>Lawrence Nobel<\/th>\n",
       "      <td>0<\/td>\n",
       "    <\/tr>\n",
       "    <tr>\n",
       "      <th>Lea Eninta Br Purba<\/th>\n",
       "      <td>0<\/td>\n",
       "    <\/tr>\n",
       "    <tr>\n",
       "      <th>Leo Agusta Agek<\/th>\n",
       "      <td>0<\/td>\n",
       "    <\/tr>\n",
       "    <tr>\n",
       "      <th>Leonardo Daniel Gunawan<\/th>\n",
       "      <td>0<\/td>\n",
       "    <\/tr>\n",
       "    <tr>\n",
       "      <th>Livia Filias Tanira<\/th>\n",
       "      <td>0<\/td>\n",
       "    <\/tr>\n",
       "    <tr>\n",
       "      <th>Louis Alfred<\/th>\n",
       "      <td>0<\/td>\n",
       "    <\/tr>\n",
       "    <tr>\n",
       "      <th>Maleakhi Pandiangan<\/th>\n",
       "      <td>0<\/td>\n",
       "    <\/tr>\n",
       "    <tr>\n",
       "      <th>Mawar Monica Anastasya Situmeang<\/th>\n",
       "      <td>0<\/td>\n",
       "    <\/tr>\n",
       "    <tr>\n",
       "      <th>Mayrcellino Anderson<\/th>\n",
       "      <td>0<\/td>\n",
       "    <\/tr>\n",
       "    <tr>\n",
       "      <th>Mega Berlian Bate'e<\/th>\n",
       "      <td>0<\/td>\n",
       "    <\/tr>\n",
       "    <tr>\n",
       "      <th>Michael David Hanitio<\/th>\n",
       "      <td>0<\/td>\n",
       "    <\/tr>\n",
       "    <tr>\n",
       "      <th>Moody Asyer<\/th>\n",
       "      <td>0<\/td>\n",
       "    <\/tr>\n",
       "    <tr>\n",
       "      <th>Natalia Gabrielle Gunawan<\/th>\n",
       "      <td>1<\/td>\n",
       "    <\/tr>\n",
       "    <tr>\n",
       "      <th>Nicky Angelo<\/th>\n",
       "      <td>1<\/td>\n",
       "    <\/tr>\n",
       "    <tr>\n",
       "      <th>Paul Jason Teng Shi En<\/th>\n",
       "      <td>0<\/td>\n",
       "    <\/tr>\n",
       "    <tr>\n",
       "      <th>Ravaela Rizania<\/th>\n",
       "      <td>1<\/td>\n",
       "    <\/tr>\n",
       "    <tr>\n",
       "      <th>Reszisca Valentiana<\/th>\n",
       "      <td>0<\/td>\n",
       "    <\/tr>\n",
       "    <tr>\n",
       "      <th>Rivaldo Pieter Linogi<\/th>\n",
       "      <td>0<\/td>\n",
       "    <\/tr>\n",
       "    <tr>\n",
       "      <th>Sannyadissa Purba<\/th>\n",
       "      <td>1<\/td>\n",
       "    <\/tr>\n",
       "    <tr>\n",
       "      <th>Tellyliez Ambar Sari Dakhi<\/th>\n",
       "      <td>0<\/td>\n",
       "    <\/tr>\n",
       "    <tr>\n",
       "      <th>Tifanny Rosaliana Debora Sondakh<\/th>\n",
       "      <td>0<\/td>\n",
       "    <\/tr>\n",
       "    <tr>\n",
       "      <th>Victoriano Aribaldi<\/th>\n",
       "      <td>0<\/td>\n",
       "    <\/tr>\n",
       "    <tr>\n",
       "      <th>Vincent Chandra<\/th>\n",
       "      <td>1<\/td>\n",
       "    <\/tr>\n",
       "    <tr>\n",
       "      <th>Yehezkiel Purnama Wijaya<\/th>\n",
       "      <td>0<\/td>\n",
       "    <\/tr>\n",
       "    <tr>\n",
       "      <th>Yosephine Priscilla Maris<\/th>\n",
       "      <td>0<\/td>\n",
       "    <\/tr>\n",
       "  <\/tbody>\n",
       "<\/table>\n",
       "<\/div>"
      ]
     },
     "metadata":{
      
     },
     "output_type":"display_data"
    }
   ],
   "metadata":{
    "datalore":{
     "type":"CODE",
     "hide_input_from_viewers":false,
     "hide_output_from_viewers":false
    }
   }
  },
  {
   "cell_type":"code",
   "source":[
    "df_th2 = df1[df1['angkatan'] == 19]\n",
    "df_th2 = df_th2[[\"Buta RLAC\"]]\n",
    "df_th2.rename(columns={\"Buta RLAC\": \"Buta RLAC tahun 2\"}, inplace=True)\n",
    "df_th2"
   ],
   "execution_count":27,
   "outputs":[
    {
     "data":{
      "text\/html":[
       "<div>\n",
       "<style scoped>\n",
       "    .dataframe tbody tr th:only-of-type {\n",
       "        vertical-align: middle;\n",
       "    }\n",
       "\n",
       "    .dataframe tbody tr th {\n",
       "        vertical-align: top;\n",
       "    }\n",
       "\n",
       "    .dataframe thead th {\n",
       "        text-align: right;\n",
       "    }\n",
       "<\/style>\n",
       "<table border=\"1\" class=\"dataframe\">\n",
       "  <thead>\n",
       "    <tr style=\"text-align: right;\">\n",
       "      <th><\/th>\n",
       "      <th>Buta RLAC tahun 2<\/th>\n",
       "    <\/tr>\n",
       "    <tr>\n",
       "      <th>Nama Anggota<\/th>\n",
       "      <th><\/th>\n",
       "    <\/tr>\n",
       "  <\/thead>\n",
       "  <tbody>\n",
       "    <tr>\n",
       "      <th>Alfa Marzelino<\/th>\n",
       "      <td>0<\/td>\n",
       "    <\/tr>\n",
       "    <tr>\n",
       "      <th>Aquilira Andahan<\/th>\n",
       "      <td>0<\/td>\n",
       "    <\/tr>\n",
       "    <tr>\n",
       "      <th>Badia Tuahman L Sihaloho<\/th>\n",
       "      <td>0<\/td>\n",
       "    <\/tr>\n",
       "    <tr>\n",
       "      <th>Brandon Christopher<\/th>\n",
       "      <td>0<\/td>\n",
       "    <\/tr>\n",
       "    <tr>\n",
       "      <th>Charis Christopher Hulu<\/th>\n",
       "      <td>1<\/td>\n",
       "    <\/tr>\n",
       "    <tr>\n",
       "      <th>Christeven Cohen<\/th>\n",
       "      <td>0<\/td>\n",
       "    <\/tr>\n",
       "    <tr>\n",
       "      <th>Christopher Kornelius Santoso<\/th>\n",
       "      <td>0<\/td>\n",
       "    <\/tr>\n",
       "    <tr>\n",
       "      <th>Christopher Owen Candlerson<\/th>\n",
       "      <td>0<\/td>\n",
       "    <\/tr>\n",
       "    <tr>\n",
       "      <th>Christyane Zabdi<\/th>\n",
       "      <td>0<\/td>\n",
       "    <\/tr>\n",
       "    <tr>\n",
       "      <th>Edgar Tigor<\/th>\n",
       "      <td>0<\/td>\n",
       "    <\/tr>\n",
       "    <tr>\n",
       "      <th>Elisabeth Victoria Sampolino<\/th>\n",
       "      <td>0<\/td>\n",
       "    <\/tr>\n",
       "    <tr>\n",
       "      <th>Felicia Grace Yolanda<\/th>\n",
       "      <td>0<\/td>\n",
       "    <\/tr>\n",
       "    <tr>\n",
       "      <th>Fernando Octavianus Sibit<\/th>\n",
       "      <td>1<\/td>\n",
       "    <\/tr>\n",
       "    <tr>\n",
       "      <th>Florence Evangelin Rumteh<\/th>\n",
       "      <td>0<\/td>\n",
       "    <\/tr>\n",
       "    <tr>\n",
       "      <th>Franky Hendrata Gosaly<\/th>\n",
       "      <td>0<\/td>\n",
       "    <\/tr>\n",
       "    <tr>\n",
       "      <th>Gracheilla Angel Siswanto<\/th>\n",
       "      <td>1<\/td>\n",
       "    <\/tr>\n",
       "    <tr>\n",
       "      <th>Halel Dwi Putra Baskara Wahono<\/th>\n",
       "      <td>0<\/td>\n",
       "    <\/tr>\n",
       "    <tr>\n",
       "      <th>Hizkia Timothy Theodore Lesmana<\/th>\n",
       "      <td>1<\/td>\n",
       "    <\/tr>\n",
       "    <tr>\n",
       "      <th>Isabella Stevani<\/th>\n",
       "      <td>1<\/td>\n",
       "    <\/tr>\n",
       "    <tr>\n",
       "      <th>Jeffries Nababan<\/th>\n",
       "      <td>0<\/td>\n",
       "    <\/tr>\n",
       "    <tr>\n",
       "      <th>Johan Saputro Budiono<\/th>\n",
       "      <td>0<\/td>\n",
       "    <\/tr>\n",
       "    <tr>\n",
       "      <th>Joy Milliaan<\/th>\n",
       "      <td>0<\/td>\n",
       "    <\/tr>\n",
       "    <tr>\n",
       "      <th>Kevin Imanuel Alrego<\/th>\n",
       "      <td>1<\/td>\n",
       "    <\/tr>\n",
       "    <tr>\n",
       "      <th>Kevin Rafela Audry Tjhang<\/th>\n",
       "      <td>0<\/td>\n",
       "    <\/tr>\n",
       "    <tr>\n",
       "      <th>Lawrence Nobel<\/th>\n",
       "      <td>1<\/td>\n",
       "    <\/tr>\n",
       "    <tr>\n",
       "      <th>Lea Eninta Br Purba<\/th>\n",
       "      <td>1<\/td>\n",
       "    <\/tr>\n",
       "    <tr>\n",
       "      <th>Livia Filias Tanira<\/th>\n",
       "      <td>0<\/td>\n",
       "    <\/tr>\n",
       "    <tr>\n",
       "      <th>Louis Alfred<\/th>\n",
       "      <td>1<\/td>\n",
       "    <\/tr>\n",
       "    <tr>\n",
       "      <th>Maleakhi Pandiangan<\/th>\n",
       "      <td>1<\/td>\n",
       "    <\/tr>\n",
       "    <tr>\n",
       "      <th>Mawar Monica Anastasya Situmeang<\/th>\n",
       "      <td>0<\/td>\n",
       "    <\/tr>\n",
       "    <tr>\n",
       "      <th>Mega Berlian Bate'e<\/th>\n",
       "      <td>0<\/td>\n",
       "    <\/tr>\n",
       "    <tr>\n",
       "      <th>Michael David Hanitio<\/th>\n",
       "      <td>1<\/td>\n",
       "    <\/tr>\n",
       "    <tr>\n",
       "      <th>Moody Asyer<\/th>\n",
       "      <td>0<\/td>\n",
       "    <\/tr>\n",
       "    <tr>\n",
       "      <th>Ribka Christina<\/th>\n",
       "      <td>1<\/td>\n",
       "    <\/tr>\n",
       "    <tr>\n",
       "      <th>Rivaldo Pieter Linogi<\/th>\n",
       "      <td>1<\/td>\n",
       "    <\/tr>\n",
       "    <tr>\n",
       "      <th>Tabita Lidya Qudical<\/th>\n",
       "      <td>1<\/td>\n",
       "    <\/tr>\n",
       "    <tr>\n",
       "      <th>Tifanny Rosaliana Debora Sondakh<\/th>\n",
       "      <td>0<\/td>\n",
       "    <\/tr>\n",
       "    <tr>\n",
       "      <th>Victoriano Aribaldi<\/th>\n",
       "      <td>0<\/td>\n",
       "    <\/tr>\n",
       "    <tr>\n",
       "      <th>Yehezkiel Purnama Wijaya<\/th>\n",
       "      <td>0<\/td>\n",
       "    <\/tr>\n",
       "    <tr>\n",
       "      <th>Yosephine Priscilla Maris<\/th>\n",
       "      <td>0<\/td>\n",
       "    <\/tr>\n",
       "  <\/tbody>\n",
       "<\/table>\n",
       "<\/div>"
      ]
     },
     "metadata":{
      
     },
     "output_type":"display_data"
    }
   ],
   "metadata":{
    "datalore":{
     "type":"CODE",
     "hide_input_from_viewers":false,
     "hide_output_from_viewers":false
    }
   }
  },
  {
   "cell_type":"code",
   "source":[
    "df_pasangan = pd.concat([df_th1, df_th2], axis=1, join=\"inner\")\n",
    "df_pasangan"
   ],
   "execution_count":28,
   "outputs":[
    {
     "data":{
      "text\/html":[
       "<div>\n",
       "<style scoped>\n",
       "    .dataframe tbody tr th:only-of-type {\n",
       "        vertical-align: middle;\n",
       "    }\n",
       "\n",
       "    .dataframe tbody tr th {\n",
       "        vertical-align: top;\n",
       "    }\n",
       "\n",
       "    .dataframe thead th {\n",
       "        text-align: right;\n",
       "    }\n",
       "<\/style>\n",
       "<table border=\"1\" class=\"dataframe\">\n",
       "  <thead>\n",
       "    <tr style=\"text-align: right;\">\n",
       "      <th><\/th>\n",
       "      <th>Buta RLAC tahun 1<\/th>\n",
       "      <th>Buta RLAC tahun 2<\/th>\n",
       "    <\/tr>\n",
       "    <tr>\n",
       "      <th>Nama Anggota<\/th>\n",
       "      <th><\/th>\n",
       "      <th><\/th>\n",
       "    <\/tr>\n",
       "  <\/thead>\n",
       "  <tbody>\n",
       "    <tr>\n",
       "      <th>Alfa Marzelino<\/th>\n",
       "      <td>0<\/td>\n",
       "      <td>0<\/td>\n",
       "    <\/tr>\n",
       "    <tr>\n",
       "      <th>Badia Tuahman L Sihaloho<\/th>\n",
       "      <td>1<\/td>\n",
       "      <td>0<\/td>\n",
       "    <\/tr>\n",
       "    <tr>\n",
       "      <th>Brandon Christopher<\/th>\n",
       "      <td>1<\/td>\n",
       "      <td>0<\/td>\n",
       "    <\/tr>\n",
       "    <tr>\n",
       "      <th>Charis Christopher Hulu<\/th>\n",
       "      <td>0<\/td>\n",
       "      <td>1<\/td>\n",
       "    <\/tr>\n",
       "    <tr>\n",
       "      <th>Christopher Kornelius Santoso<\/th>\n",
       "      <td>0<\/td>\n",
       "      <td>0<\/td>\n",
       "    <\/tr>\n",
       "    <tr>\n",
       "      <th>Christopher Owen Candlerson<\/th>\n",
       "      <td>0<\/td>\n",
       "      <td>0<\/td>\n",
       "    <\/tr>\n",
       "    <tr>\n",
       "      <th>Christyane Zabdi<\/th>\n",
       "      <td>0<\/td>\n",
       "      <td>0<\/td>\n",
       "    <\/tr>\n",
       "    <tr>\n",
       "      <th>Edgar Tigor<\/th>\n",
       "      <td>1<\/td>\n",
       "      <td>0<\/td>\n",
       "    <\/tr>\n",
       "    <tr>\n",
       "      <th>Elisabeth Victoria Sampolino<\/th>\n",
       "      <td>0<\/td>\n",
       "      <td>0<\/td>\n",
       "    <\/tr>\n",
       "    <tr>\n",
       "      <th>Felicia Grace Yolanda<\/th>\n",
       "      <td>0<\/td>\n",
       "      <td>0<\/td>\n",
       "    <\/tr>\n",
       "    <tr>\n",
       "      <th>Florence Evangelin Rumteh<\/th>\n",
       "      <td>0<\/td>\n",
       "      <td>0<\/td>\n",
       "    <\/tr>\n",
       "    <tr>\n",
       "      <th>Franky Hendrata Gosaly<\/th>\n",
       "      <td>0<\/td>\n",
       "      <td>0<\/td>\n",
       "    <\/tr>\n",
       "    <tr>\n",
       "      <th>Gracheilla Angel Siswanto<\/th>\n",
       "      <td>0<\/td>\n",
       "      <td>1<\/td>\n",
       "    <\/tr>\n",
       "    <tr>\n",
       "      <th>Halel Dwi Putra Baskara Wahono<\/th>\n",
       "      <td>0<\/td>\n",
       "      <td>0<\/td>\n",
       "    <\/tr>\n",
       "    <tr>\n",
       "      <th>Isabella Stevani<\/th>\n",
       "      <td>1<\/td>\n",
       "      <td>1<\/td>\n",
       "    <\/tr>\n",
       "    <tr>\n",
       "      <th>Jeffries Nababan<\/th>\n",
       "      <td>0<\/td>\n",
       "      <td>0<\/td>\n",
       "    <\/tr>\n",
       "    <tr>\n",
       "      <th>Johan Saputro Budiono<\/th>\n",
       "      <td>0<\/td>\n",
       "      <td>0<\/td>\n",
       "    <\/tr>\n",
       "    <tr>\n",
       "      <th>Joy Milliaan<\/th>\n",
       "      <td>0<\/td>\n",
       "      <td>0<\/td>\n",
       "    <\/tr>\n",
       "    <tr>\n",
       "      <th>Kevin Imanuel Alrego<\/th>\n",
       "      <td>0<\/td>\n",
       "      <td>1<\/td>\n",
       "    <\/tr>\n",
       "    <tr>\n",
       "      <th>Kevin Rafela Audry Tjhang<\/th>\n",
       "      <td>1<\/td>\n",
       "      <td>0<\/td>\n",
       "    <\/tr>\n",
       "    <tr>\n",
       "      <th>Lawrence Nobel<\/th>\n",
       "      <td>0<\/td>\n",
       "      <td>1<\/td>\n",
       "    <\/tr>\n",
       "    <tr>\n",
       "      <th>Lea Eninta Br Purba<\/th>\n",
       "      <td>0<\/td>\n",
       "      <td>1<\/td>\n",
       "    <\/tr>\n",
       "    <tr>\n",
       "      <th>Livia Filias Tanira<\/th>\n",
       "      <td>0<\/td>\n",
       "      <td>0<\/td>\n",
       "    <\/tr>\n",
       "    <tr>\n",
       "      <th>Louis Alfred<\/th>\n",
       "      <td>0<\/td>\n",
       "      <td>1<\/td>\n",
       "    <\/tr>\n",
       "    <tr>\n",
       "      <th>Maleakhi Pandiangan<\/th>\n",
       "      <td>0<\/td>\n",
       "      <td>1<\/td>\n",
       "    <\/tr>\n",
       "    <tr>\n",
       "      <th>Mawar Monica Anastasya Situmeang<\/th>\n",
       "      <td>0<\/td>\n",
       "      <td>0<\/td>\n",
       "    <\/tr>\n",
       "    <tr>\n",
       "      <th>Mega Berlian Bate'e<\/th>\n",
       "      <td>0<\/td>\n",
       "      <td>0<\/td>\n",
       "    <\/tr>\n",
       "    <tr>\n",
       "      <th>Michael David Hanitio<\/th>\n",
       "      <td>0<\/td>\n",
       "      <td>1<\/td>\n",
       "    <\/tr>\n",
       "    <tr>\n",
       "      <th>Moody Asyer<\/th>\n",
       "      <td>0<\/td>\n",
       "      <td>0<\/td>\n",
       "    <\/tr>\n",
       "    <tr>\n",
       "      <th>Rivaldo Pieter Linogi<\/th>\n",
       "      <td>0<\/td>\n",
       "      <td>1<\/td>\n",
       "    <\/tr>\n",
       "    <tr>\n",
       "      <th>Tifanny Rosaliana Debora Sondakh<\/th>\n",
       "      <td>0<\/td>\n",
       "      <td>0<\/td>\n",
       "    <\/tr>\n",
       "    <tr>\n",
       "      <th>Victoriano Aribaldi<\/th>\n",
       "      <td>0<\/td>\n",
       "      <td>0<\/td>\n",
       "    <\/tr>\n",
       "    <tr>\n",
       "      <th>Yehezkiel Purnama Wijaya<\/th>\n",
       "      <td>0<\/td>\n",
       "      <td>0<\/td>\n",
       "    <\/tr>\n",
       "    <tr>\n",
       "      <th>Yosephine Priscilla Maris<\/th>\n",
       "      <td>0<\/td>\n",
       "      <td>0<\/td>\n",
       "    <\/tr>\n",
       "  <\/tbody>\n",
       "<\/table>\n",
       "<\/div>"
      ]
     },
     "metadata":{
      
     },
     "output_type":"display_data"
    }
   ],
   "metadata":{
    "datalore":{
     "type":"CODE",
     "hide_input_from_viewers":false,
     "hide_output_from_viewers":false
    }
   }
  },
  {
   "cell_type":"code",
   "source":[
    "tidak_berubah = len(df_pasangan[(df_pasangan[\"Buta RLAC tahun 1\"]==0) & (df_pasangan[\"Buta RLAC tahun 2\"]==0)])\n",
    "peningkatan_literasi = len(df_pasangan[(df_pasangan[\"Buta RLAC tahun 1\"]==1) & (df_pasangan[\"Buta RLAC tahun 2\"]==0)])\n",
    "penurunan_literasi = len(df_pasangan[(df_pasangan[\"Buta RLAC tahun 1\"]==0) & (df_pasangan[\"Buta RLAC tahun 2\"]==1)])\n"
   ],
   "execution_count":29,
   "outputs":[
    
   ],
   "metadata":{
    "datalore":{
     "type":"CODE",
     "hide_input_from_viewers":false,
     "hide_output_from_viewers":false
    }
   }
  },
  {
   "cell_type":"code",
   "source":[
    "import numpy as np\n",
    "import matplotlib.pyplot as plt\n",
    "\n",
    "\n",
    "# creating the dataset\n",
    "data = {'Tidak berubah':tidak_berubah, 'Peningkatan':peningkatan_literasi,'Penurunan':penurunan_literasi}\n",
    "courses = list(data.keys())\n",
    "values = list(data.values())\n",
    "\n",
    "fig = plt.figure(figsize = (10, 5))\n",
    "\n",
    "# creating the bar plot\n",
    "plt.bar(courses, values, color ='maroon',\n",
    "\t\twidth = 0.5)\n",
    "\n",
    "plt.text(\"Tidak berubah\",18.5,f\"{tidak_berubah} orang\",ha=\"center\",color=\"white\", weight=\"bold\")\n",
    "plt.text(\"Peningkatan\",2.5,f\"{peningkatan_literasi} orang\",ha=\"center\",color=\"white\", weight=\"bold\")\n",
    "plt.text(\"Penurunan\",7.5,f\"{penurunan_literasi} orang\",ha=\"center\",color=\"white\", weight=\"bold\")\n",
    "\n",
    "plt.ylabel(\"Jumlah\")\n",
    "plt.title(\"Perbandingan kondisi literasi ditahun pertama dan tahun kedua sampel\")\n",
    "plt.show()"
   ],
   "execution_count":30,
   "outputs":[
    {
     "data":{
      "image\/png":"[encoded data removed]"
     },
     "metadata":{
      "image\/png":{
       
      }
     },
     "output_type":"display_data"
    }
   ],
   "metadata":{
    "datalore":{
     "type":"CODE",
     "hide_input_from_viewers":false,
     "hide_output_from_viewers":false
    }
   }
  },
  {
   "cell_type":"markdown",
   "source":[
    "## Cara Modern\n",
    "X1 = mahasiswa tahun pertama\n",
    "X2 = mahasiswa setelah tahun pertama\n",
    "\n",
    "H0 : $ \\mu d \\le 0$ <br> \n",
    "H1 : $ \\mu d \\gt 0$ (mahasiswa mengalami peningkatan literasi liberal arts setelah tahun pertama) <br>\n",
    "Tingkat signifikansi = 0.1"
   ],
   "attachments":{
    
   },
   "metadata":{
    "datalore":{
     "type":"MD",
     "hide_input_from_viewers":false,
     "hide_output_from_viewers":false
    }
   }
  },
  {
   "cell_type":"code",
   "source":[
    "statistic, pvalue = stats.ttest_rel(df_pasangan.iloc[:, 0], df_pasangan.iloc[:, 1], alternative=\"greater\")\n",
    "print(f'Hasil Statistik = {statistic}')\n",
    "print(f'P Value = {pvalue}')\n",
    "print(f'Tingkat Signifikansi = {0.1}')\n",
    "if pvalue > 0.1:\n",
    "    print('H0 tidak ditolak')"
   ],
   "execution_count":31,
   "outputs":[
    {
     "name":"stdout",
     "text":[
      "Hasil Statistik = -1.4065622155408024\n",
      "P Value = 0.9155474314301933\n",
      "Tingkat Signifikansi = 0.1\n",
      "H0 tidak ditolak\n"
     ],
     "output_type":"stream"
    }
   ],
   "metadata":{
    "datalore":{
     "type":"CODE",
     "hide_input_from_viewers":false,
     "hide_output_from_viewers":false
    }
   }
  },
  {
   "cell_type":"markdown",
   "source":[
    "Karena hasil pvalue lebih besar dari tingkat signifikansi yang kita tetapkan, maka H0 tidak ditolak sehingga tidak dapat diambil kesimpulan dari hipotesis analisa ke-3. Maka kami mencoba untuk membalik hipotesis tersebut."
   ],
   "attachments":{
    
   },
   "metadata":{
    "datalore":{
     "type":"MD",
     "hide_input_from_viewers":false,
     "hide_output_from_viewers":false
    }
   }
  },
  {
   "cell_type":"markdown",
   "source":[
    "### Balik Hipotesis Cara Modern (Masalah 3)"
   ],
   "attachments":{
    
   },
   "metadata":{
    "datalore":{
     "type":"MD",
     "hide_input_from_viewers":false,
     "hide_output_from_viewers":false
    }
   }
  },
  {
   "cell_type":"markdown",
   "source":[
    "X1 = mahasiswa tahun pertama\n",
    "X2 = mahasiswa setelah tahun pertama\n",
    "\n",
    "H0 : $ \\mu \\ge 0$ <br> \n",
    "H1 : $ \\mu \\lt 0$ (mahasiswa mengalami penurunan literasi liberal arts setelah tahun pertama) <br>\n",
    "Tingkat signifikansi = 0.1"
   ],
   "attachments":{
    
   },
   "metadata":{
    "datalore":{
     "type":"MD",
     "hide_input_from_viewers":false,
     "hide_output_from_viewers":false
    }
   }
  },
  {
   "cell_type":"code",
   "source":[
    "statistic, pvalue = stats.ttest_rel(df_pasangan.iloc[:, 0], df_pasangan.iloc[:, 1], alternative=\"less\")\n",
    "print(f'Hasil Statistik = {statistic}')\n",
    "print(f'P Value = {pvalue}')\n",
    "print(f'Tingkat Signifikansi = {0.1}')\n",
    "if pvalue <= 0.1:\n",
    "    print('H0 ditolak')"
   ],
   "execution_count":32,
   "outputs":[
    {
     "name":"stdout",
     "text":[
      "Hasil Statistik = -1.4065622155408024\n",
      "P Value = 0.08445256856980668\n",
      "Tingkat Signifikansi = 0.1\n",
      "H0 ditolak\n"
     ],
     "output_type":"stream"
    }
   ],
   "metadata":{
    "datalore":{
     "type":"CODE",
     "hide_input_from_viewers":false,
     "hide_output_from_viewers":false
    }
   }
  },
  {
   "cell_type":"markdown",
   "source":[
    "Setelah dibalik, ternyata pvalue lebih kecil dari tingkat signifikansi, sehingga H0 ditolak. Dengan demikian kesimpulan yang bisa diambil adalah mahasiswa CIT mengalami penurunan literasi liberal arts setelah tahun pertama."
   ],
   "attachments":{
    
   },
   "metadata":{
    "datalore":{
     "type":"MD",
     "hide_input_from_viewers":false,
     "hide_output_from_viewers":false
    }
   }
  },
  {
   "cell_type":"markdown",
   "source":[
    "## Cara Manual \n",
    "X1 = mahasiswa tahun pertama\n",
    "X2 = mahasiswa setelah tahun pertama\n",
    "\n",
    "H0 : $ \\mu d\\ge 0$ <br> \n",
    "H1 : $ \\mu d\\lt 0$ (mahasiswa mengalami penurunan literasi liberal arts setelah tahun pertama) <br>\n",
    "Tingkat signifikansi = 0.1"
   ],
   "attachments":{
    
   },
   "metadata":{
    "datalore":{
     "type":"MD",
     "hide_input_from_viewers":false,
     "hide_output_from_viewers":false
    }
   }
  },
  {
   "cell_type":"code",
   "source":[
    "statistik_manual_df3 = (d_bar - 0) \/ (s\/(n ** 0.5))\n",
    "print(\"Hasil Statistik:\", statistik_manual_df3)\n",
    "hasil_ppf = stats.t.ppf(0.99, n - 1)\n",
    "print(f'Critical Region: ({hasil_ppf},∞)')"
   ],
   "execution_count":37,
   "outputs":[
    {
     "name":"stdout",
     "text":[
      "Hasil Statistik: -1.4065622155408024\n",
      "Critical Region: (2.4447941998077973,∞)\n"
     ],
     "output_type":"stream"
    }
   ],
   "metadata":{
    "datalore":{
     "type":"CODE",
     "hide_input_from_viewers":false,
     "hide_output_from_viewers":false
    }
   }
  },
  {
   "cell_type":"markdown",
   "source":[
    "Karena statistik tidak ada di dalam critical region maka kesimpulan Uji Hipotesis : H0 tidak ditolak. <br>\n",
    "\n",
    "Maka dari itu, data tidak cukup signifikan untuk menyimpulkan apapun."
   ],
   "attachments":{
    
   },
   "metadata":{
    "datalore":{
     "type":"MD",
     "hide_input_from_viewers":false,
     "hide_output_from_viewers":false
    }
   }
  },
  {
   "cell_type":"markdown",
   "source":[
    "### Balik Hipotesis Cara Old (Masalah 3)"
   ],
   "attachments":{
    
   },
   "metadata":{
    "datalore":{
     "type":"MD",
     "hide_input_from_viewers":false,
     "hide_output_from_viewers":false
    }
   }
  },
  {
   "cell_type":"markdown",
   "source":[
    "## Cara Manual \n",
    "X1 = mahasiswa tahun pertama\n",
    "X2 = mahasiswa setelah tahun pertama\n",
    "\n",
    "H0 : $ \\mu d\\le 0$ <br> \n",
    "H1 : $ \\mu d\\gt 0$ (mahasiswa mengalami penurunan literasi liberal arts setelah tahun pertama) <br>\n",
    "Tingkat signifikansi = 0.1"
   ],
   "attachments":{
    
   },
   "metadata":{
    "datalore":{
     "type":"MD",
     "hide_input_from_viewers":false,
     "hide_output_from_viewers":false
    }
   }
  },
  {
   "cell_type":"code",
   "source":[
    "df_selisih = df_pasangan.iloc[:, 0] - df_pasangan.iloc[:, 1]\n",
    "d_bar = df_selisih.mean()\n",
    "s = stats.tstd(df_selisih)\n",
    "n = len(df_selisih)\n",
    "print(d_bar)\n",
    "print(s)\n",
    "print(n)"
   ],
   "execution_count":33,
   "outputs":[
    {
     "name":"stdout",
     "text":[
      "-0.14705882352941177\n",
      "0.6096373955153138\n",
      "34\n"
     ],
     "output_type":"stream"
    }
   ],
   "metadata":{
    "datalore":{
     "type":"CODE",
     "hide_input_from_viewers":false,
     "hide_output_from_viewers":false
    }
   }
  },
  {
   "cell_type":"code",
   "source":[
    "statistik_manual_df3 = (d_bar - 0) \/ (s\/(n ** 0.5))\n",
    "print(\"Hasil Statistik:\", statistik_manual_df3)\n",
    "hasil_ppf = stats.t.ppf(0.99, n - 1)\n",
    "print(f'Critical Region: (-∞, {hasil_ppf})')"
   ],
   "execution_count":36,
   "outputs":[
    {
     "name":"stdout",
     "text":[
      "Hasil Statistik: -1.4065622155408024\n",
      "Critical Region: (-∞, 2.4447941998077973)\n"
     ],
     "output_type":"stream"
    }
   ],
   "metadata":{
    "datalore":{
     "type":"CODE",
     "hide_input_from_viewers":false,
     "hide_output_from_viewers":false
    }
   }
  },
  {
   "cell_type":"markdown",
   "source":[
    "Karena statistik ada di dalam critical region maka kesimpulan Uji Hipotesis : H0 ditolak. <br>\n",
    "\n",
    "Maka dari itu, H1 dapat dipertimbangkan. Dengan demikian kesimpulan yang bisa diambil adalah mahasiswa CIT mengalami penurunan literasi liberal arts setelah tahun pertama.  "
   ],
   "attachments":{
    
   },
   "metadata":{
    "datalore":{
     "type":"MD",
     "hide_input_from_viewers":false,
     "hide_output_from_viewers":false
    }
   }
  }
 ],
 "metadata":{
  "datalore":{
   "version":1,
   "computation_mode":"JUPYTER",
   "package_manager":"pip",
   "base_environment":"default",
   "packages":[
    
   ]
  }
 },
 "nbformat":4,
 "nbformat_minor":4
}