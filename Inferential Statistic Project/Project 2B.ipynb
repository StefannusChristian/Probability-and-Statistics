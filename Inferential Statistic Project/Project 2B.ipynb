{
 "cells": [
  {
   "attachments": {},
   "cell_type": "markdown",
   "metadata": {
    "datalore": {
     "hide_input_from_viewers": false,
     "hide_output_from_viewers": false,
     "type": "MD"
    }
   },
   "source": [
    "# Import Library yang dibutuhkan"
   ]
  },
  {
   "cell_type": "code",
   "execution_count": 3,
   "metadata": {
    "datalore": {
     "hide_input_from_viewers": false,
     "hide_output_from_viewers": false,
     "type": "CODE"
    }
   },
   "outputs": [],
   "source": [
    "import pandas as pd\n",
    "from scipy import stats\n",
    "from matplotlib import pyplot as plt\n",
    "import seaborn as sns\n",
    "import numpy as np"
   ]
  },
  {
   "attachments": {},
   "cell_type": "markdown",
   "metadata": {
    "datalore": {
     "hide_input_from_viewers": false,
     "hide_output_from_viewers": false,
     "type": "MD"
    }
   },
   "source": [
    "# Pemrosesan Data"
   ]
  },
  {
   "cell_type": "code",
   "execution_count": 4,
   "metadata": {
    "datalore": {
     "hide_input_from_viewers": false,
     "hide_output_from_viewers": false,
     "type": "CODE"
    }
   },
   "outputs": [
    {
     "data": {
      "text/html": [
       "<div>\n",
       "<style scoped>\n",
       "    .dataframe tbody tr th:only-of-type {\n",
       "        vertical-align: middle;\n",
       "    }\n",
       "\n",
       "    .dataframe tbody tr th {\n",
       "        vertical-align: top;\n",
       "    }\n",
       "\n",
       "    .dataframe thead th {\n",
       "        text-align: right;\n",
       "    }\n",
       "</style>\n",
       "<table border=\"1\" class=\"dataframe\">\n",
       "  <thead>\n",
       "    <tr style=\"text-align: right;\">\n",
       "      <th></th>\n",
       "      <th>Income</th>\n",
       "      <th>Car price</th>\n",
       "    </tr>\n",
       "  </thead>\n",
       "  <tbody>\n",
       "    <tr>\n",
       "      <th>0</th>\n",
       "      <td>72.0</td>\n",
       "      <td>37.0</td>\n",
       "    </tr>\n",
       "    <tr>\n",
       "      <th>1</th>\n",
       "      <td>153.0</td>\n",
       "      <td>76.0</td>\n",
       "    </tr>\n",
       "    <tr>\n",
       "      <th>2</th>\n",
       "      <td>28.0</td>\n",
       "      <td>13.9</td>\n",
       "    </tr>\n",
       "    <tr>\n",
       "      <th>3</th>\n",
       "      <td>26.0</td>\n",
       "      <td>13.0</td>\n",
       "    </tr>\n",
       "    <tr>\n",
       "      <th>4</th>\n",
       "      <td>23.0</td>\n",
       "      <td>11.3</td>\n",
       "    </tr>\n",
       "    <tr>\n",
       "      <th>...</th>\n",
       "      <td>...</td>\n",
       "      <td>...</td>\n",
       "    </tr>\n",
       "    <tr>\n",
       "      <th>6395</th>\n",
       "      <td>207.0</td>\n",
       "      <td>85.3</td>\n",
       "    </tr>\n",
       "    <tr>\n",
       "      <th>6396</th>\n",
       "      <td>60.0</td>\n",
       "      <td>30.8</td>\n",
       "    </tr>\n",
       "    <tr>\n",
       "      <th>6397</th>\n",
       "      <td>59.0</td>\n",
       "      <td>29.1</td>\n",
       "    </tr>\n",
       "    <tr>\n",
       "      <th>6398</th>\n",
       "      <td>44.0</td>\n",
       "      <td>21.8</td>\n",
       "    </tr>\n",
       "    <tr>\n",
       "      <th>6399</th>\n",
       "      <td>62.0</td>\n",
       "      <td>30.6</td>\n",
       "    </tr>\n",
       "  </tbody>\n",
       "</table>\n",
       "<p>6400 rows × 2 columns</p>\n",
       "</div>"
      ],
      "text/plain": [
       "      Income  Car price\n",
       "0       72.0       37.0\n",
       "1      153.0       76.0\n",
       "2       28.0       13.9\n",
       "3       26.0       13.0\n",
       "4       23.0       11.3\n",
       "...      ...        ...\n",
       "6395   207.0       85.3\n",
       "6396    60.0       30.8\n",
       "6397    59.0       29.1\n",
       "6398    44.0       21.8\n",
       "6399    62.0       30.6\n",
       "\n",
       "[6400 rows x 2 columns]"
      ]
     },
     "execution_count": 4,
     "metadata": {},
     "output_type": "execute_result"
    }
   ],
   "source": [
    "full_data = pd.read_csv('income.csv')\n",
    "df_inc_car = full_data[['Income','Car price']]\n",
    "df_inc_car"
   ]
  },
  {
   "cell_type": "code",
   "execution_count": 5,
   "metadata": {
    "datalore": {
     "hide_input_from_viewers": false,
     "hide_output_from_viewers": false,
     "type": "CODE"
    }
   },
   "outputs": [
    {
     "data": {
      "text/html": [
       "<div>\n",
       "<style scoped>\n",
       "    .dataframe tbody tr th:only-of-type {\n",
       "        vertical-align: middle;\n",
       "    }\n",
       "\n",
       "    .dataframe tbody tr th {\n",
       "        vertical-align: top;\n",
       "    }\n",
       "\n",
       "    .dataframe thead th {\n",
       "        text-align: right;\n",
       "    }\n",
       "</style>\n",
       "<table border=\"1\" class=\"dataframe\">\n",
       "  <thead>\n",
       "    <tr style=\"text-align: right;\">\n",
       "      <th></th>\n",
       "      <th>Income</th>\n",
       "    </tr>\n",
       "  </thead>\n",
       "  <tbody>\n",
       "    <tr>\n",
       "      <th>0</th>\n",
       "      <td>72.0</td>\n",
       "    </tr>\n",
       "    <tr>\n",
       "      <th>1</th>\n",
       "      <td>153.0</td>\n",
       "    </tr>\n",
       "    <tr>\n",
       "      <th>2</th>\n",
       "      <td>28.0</td>\n",
       "    </tr>\n",
       "    <tr>\n",
       "      <th>3</th>\n",
       "      <td>26.0</td>\n",
       "    </tr>\n",
       "    <tr>\n",
       "      <th>4</th>\n",
       "      <td>23.0</td>\n",
       "    </tr>\n",
       "    <tr>\n",
       "      <th>...</th>\n",
       "      <td>...</td>\n",
       "    </tr>\n",
       "    <tr>\n",
       "      <th>6395</th>\n",
       "      <td>207.0</td>\n",
       "    </tr>\n",
       "    <tr>\n",
       "      <th>6396</th>\n",
       "      <td>60.0</td>\n",
       "    </tr>\n",
       "    <tr>\n",
       "      <th>6397</th>\n",
       "      <td>59.0</td>\n",
       "    </tr>\n",
       "    <tr>\n",
       "      <th>6398</th>\n",
       "      <td>44.0</td>\n",
       "    </tr>\n",
       "    <tr>\n",
       "      <th>6399</th>\n",
       "      <td>62.0</td>\n",
       "    </tr>\n",
       "  </tbody>\n",
       "</table>\n",
       "<p>6400 rows × 1 columns</p>\n",
       "</div>"
      ],
      "text/plain": [
       "      Income\n",
       "0       72.0\n",
       "1      153.0\n",
       "2       28.0\n",
       "3       26.0\n",
       "4       23.0\n",
       "...      ...\n",
       "6395   207.0\n",
       "6396    60.0\n",
       "6397    59.0\n",
       "6398    44.0\n",
       "6399    62.0\n",
       "\n",
       "[6400 rows x 1 columns]"
      ]
     },
     "execution_count": 5,
     "metadata": {},
     "output_type": "execute_result"
    }
   ],
   "source": [
    "df_income = df_inc_car[['Income']]\n",
    "df_income"
   ]
  },
  {
   "cell_type": "code",
   "execution_count": 6,
   "metadata": {
    "datalore": {
     "hide_input_from_viewers": false,
     "hide_output_from_viewers": false,
     "type": "CODE"
    }
   },
   "outputs": [
    {
     "data": {
      "text/html": [
       "<div>\n",
       "<style scoped>\n",
       "    .dataframe tbody tr th:only-of-type {\n",
       "        vertical-align: middle;\n",
       "    }\n",
       "\n",
       "    .dataframe tbody tr th {\n",
       "        vertical-align: top;\n",
       "    }\n",
       "\n",
       "    .dataframe thead th {\n",
       "        text-align: right;\n",
       "    }\n",
       "</style>\n",
       "<table border=\"1\" class=\"dataframe\">\n",
       "  <thead>\n",
       "    <tr style=\"text-align: right;\">\n",
       "      <th></th>\n",
       "      <th>Car price</th>\n",
       "    </tr>\n",
       "  </thead>\n",
       "  <tbody>\n",
       "    <tr>\n",
       "      <th>0</th>\n",
       "      <td>37.0</td>\n",
       "    </tr>\n",
       "    <tr>\n",
       "      <th>1</th>\n",
       "      <td>76.0</td>\n",
       "    </tr>\n",
       "    <tr>\n",
       "      <th>2</th>\n",
       "      <td>13.9</td>\n",
       "    </tr>\n",
       "    <tr>\n",
       "      <th>3</th>\n",
       "      <td>13.0</td>\n",
       "    </tr>\n",
       "    <tr>\n",
       "      <th>4</th>\n",
       "      <td>11.3</td>\n",
       "    </tr>\n",
       "    <tr>\n",
       "      <th>...</th>\n",
       "      <td>...</td>\n",
       "    </tr>\n",
       "    <tr>\n",
       "      <th>6395</th>\n",
       "      <td>85.3</td>\n",
       "    </tr>\n",
       "    <tr>\n",
       "      <th>6396</th>\n",
       "      <td>30.8</td>\n",
       "    </tr>\n",
       "    <tr>\n",
       "      <th>6397</th>\n",
       "      <td>29.1</td>\n",
       "    </tr>\n",
       "    <tr>\n",
       "      <th>6398</th>\n",
       "      <td>21.8</td>\n",
       "    </tr>\n",
       "    <tr>\n",
       "      <th>6399</th>\n",
       "      <td>30.6</td>\n",
       "    </tr>\n",
       "  </tbody>\n",
       "</table>\n",
       "<p>6400 rows × 1 columns</p>\n",
       "</div>"
      ],
      "text/plain": [
       "      Car price\n",
       "0          37.0\n",
       "1          76.0\n",
       "2          13.9\n",
       "3          13.0\n",
       "4          11.3\n",
       "...         ...\n",
       "6395       85.3\n",
       "6396       30.8\n",
       "6397       29.1\n",
       "6398       21.8\n",
       "6399       30.6\n",
       "\n",
       "[6400 rows x 1 columns]"
      ]
     },
     "execution_count": 6,
     "metadata": {},
     "output_type": "execute_result"
    }
   ],
   "source": [
    "df_car = df_inc_car[['Car price']]\n",
    "df_car"
   ]
  },
  {
   "cell_type": "code",
   "execution_count": 7,
   "metadata": {
    "datalore": {
     "hide_input_from_viewers": false,
     "hide_output_from_viewers": false,
     "type": "CODE"
    }
   },
   "outputs": [
    {
     "name": "stdout",
     "output_type": "stream",
     "text": [
      "Total data sampel\t: 6400\n",
      "Rata-rata data sampel\t: 69.88703125\n",
      "Stdev data sampel\t: 77.99393243336522\n"
     ]
    }
   ],
   "source": [
    "# menghitung statistik data sampel Income\n",
    "\n",
    "n = len(df_income)\n",
    "x_bar = df_income.mean()\n",
    "s = df_income.std() # method ini digunakan untuk stdev sampel (default pandas telah menggunakan n-1)\n",
    "\n",
    "print(\"Total data sampel\\t: {}\".format(n))\n",
    "print(\"Rata-rata data sampel\\t: {}\".format(x_bar.iloc[0]))\n",
    "print(\"Stdev data sampel\\t: {}\".format(s.iloc[0]))"
   ]
  },
  {
   "attachments": {},
   "cell_type": "markdown",
   "metadata": {
    "datalore": {
     "hide_input_from_viewers": false,
     "hide_output_from_viewers": false,
     "type": "MD"
    }
   },
   "source": [
    "# Visualisasi Data"
   ]
  },
  {
   "attachments": {},
   "cell_type": "markdown",
   "metadata": {
    "datalore": {
     "hide_input_from_viewers": false,
     "hide_output_from_viewers": false,
     "type": "MD"
    }
   },
   "source": [
    "## Sebaran Data Income dan Car Price"
   ]
  },
  {
   "cell_type": "code",
   "execution_count": 8,
   "metadata": {
    "datalore": {
     "hide_input_from_viewers": false,
     "hide_output_from_viewers": false,
     "type": "CODE"
    }
   },
   "outputs": [
    {
     "data": {
      "text/plain": [
       "Income    52.0\n",
       "dtype: float64"
      ]
     },
     "execution_count": 8,
     "metadata": {},
     "output_type": "execute_result"
    }
   ],
   "source": [
    "q1 = df_income.describe().loc[\"25%\"]\n",
    "q3 = df_income.describe().loc[\"75%\"]\n",
    "income_iqr = q3 - q1\n",
    "income_iqr"
   ]
  },
  {
   "cell_type": "code",
   "execution_count": 9,
   "metadata": {
    "datalore": {
     "hide_input_from_viewers": false,
     "hide_output_from_viewers": false,
     "type": "CODE"
    }
   },
   "outputs": [
    {
     "data": {
      "text/plain": [
       "Income    52.0\n",
       "dtype: float64"
      ]
     },
     "execution_count": 9,
     "metadata": {},
     "output_type": "execute_result"
    }
   ],
   "source": [
    "q1_car = df_car.describe().loc[\"25%\"]\n",
    "q3_car = df_car.describe().loc[\"75%\"]\n",
    "car_iqr = q3 - q1\n",
    "car_iqr"
   ]
  },
  {
   "cell_type": "code",
   "execution_count": 10,
   "metadata": {
    "datalore": {
     "hide_input_from_viewers": false,
     "hide_output_from_viewers": false,
     "type": "CODE"
    }
   },
   "outputs": [],
   "source": [
    "income_bin_size = int(2*income_iqr/(n**(1/3)))\n",
    "car_price_bins_size = int(2*car_iqr/(n**(1/3)))"
   ]
  },
  {
   "cell_type": "code",
   "execution_count": 11,
   "metadata": {
    "datalore": {
     "hide_input_from_viewers": false,
     "hide_output_from_viewers": false,
     "type": "CODE"
    }
   },
   "outputs": [
    {
     "data": {
      "image/png": "[encoded data removed]",
      "text/plain": [
       "<Figure size 1080x720 with 2 Axes>"
      ]
     },
     "metadata": {
      "needs_background": "light"
     },
     "output_type": "display_data"
    }
   ],
   "source": [
    "plt.figure(figsize=(15,10))\n",
    "\n",
    "plt.subplot(221)\n",
    "plt.title(\"Histogram Income (K)\")\n",
    "sns.histplot(df_income,kde=True,bins=30,label='Income')\n",
    "# Garis Rata - Rata\n",
    "plt.axvline(df_income.mean()[0],color='red',label=f'rata-rata Income: ${round((df_income.mean()[0]),2)} K')\n",
    "# Garis Rata - Rata + Std\n",
    "plt.axvline(df_income.mean()[0]+df_income.std(ddof=1)[0],color='yellow',label=f'rata-rata + std Income: ${round((df_income.mean()[0]+df_income.std(ddof=1)[0]),2)} K')\n",
    "# Garis Rata - Rata - Std\n",
    "plt.axvline(df_income.mean()[0]-df_income.std(ddof=1)[0],color='purple',label=f'rata-rata - std Income: ${round((df_income.mean()[0]-df_income.std(ddof=1)[0]),2)} K')\n",
    "plt.legend()\n",
    "\n",
    "plt.subplot(222)\n",
    "plt.title(\"Histogram Car Price (K)\")\n",
    "sns.histplot(df_car,kde=True,binwidth=car_price_bins_size,label='Car Price')\n",
    "# Garis Rata - Rata\n",
    "plt.axvline(df_car.mean()[0],color='red',label=f'rata-rata Car Price: ${round((df_car.mean()[0]),2)} K')\n",
    "# Garis Rata - Rata + Std\n",
    "plt.axvline(df_car.mean()[0]+df_car.std(ddof=1)[0],color='yellow',label=f'rata-rata + std Income: ${round((df_car.mean()[0]+df_car.std(ddof=1)[0]),2)} K')\n",
    "# Garis Rata - Rata - Std\n",
    "plt.axvline(df_car.mean()[0]-df_car.std(ddof=1)[0],color='purple',label=f'rata-rata - std Income: ${round((df_car.mean()[0]-df_car.std(ddof=1)[0]),2)} K')\n",
    "plt.legend()\n",
    "\n",
    "plt.show()"
   ]
  },
  {
   "cell_type": "code",
   "execution_count": 12,
   "metadata": {
    "datalore": {
     "hide_input_from_viewers": false,
     "hide_output_from_viewers": false,
     "type": "CODE"
    }
   },
   "outputs": [],
   "source": [
    "median_income = df_income.describe().loc['50%']\n",
    "median_car = df_car.describe().loc['50%']"
   ]
  },
  {
   "cell_type": "code",
   "execution_count": 13,
   "metadata": {
    "datalore": {
     "hide_input_from_viewers": false,
     "hide_output_from_viewers": false,
     "type": "CODE"
    }
   },
   "outputs": [],
   "source": [
    "data_terkecil_income = df_income.describe().loc['min'][0]\n",
    "data_terkecil_car = df_car.describe().loc['min'][0]\n",
    "q1_income,q3_income = df_income.describe().loc['25%'][0],df_income.describe().loc['75%'][0]\n",
    "q1_car,q3_car = df_car.describe().loc['25%'][0],df_car.describe().loc['75%'][0]\n",
    "rata_income,rata_car = round(df_income.mean(),2),round(df_car.mean(),2)\n",
    "batas_atas_income = q3_income + 1.5*income_iqr[0]"
   ]
  },
  {
   "cell_type": "code",
   "execution_count": 14,
   "metadata": {
    "datalore": {
     "hide_input_from_viewers": false,
     "hide_output_from_viewers": false,
     "type": "CODE"
    }
   },
   "outputs": [
    {
     "data": {
      "image/png": "[encoded data removed]",
      "text/plain": [
       "<Figure size 1800x1080 with 2 Axes>"
      ]
     },
     "metadata": {
      "needs_background": "light"
     },
     "output_type": "display_data"
    }
   ],
   "source": [
    "plt.figure(figsize=(25,15))\n",
    "# BoxPlot Income\n",
    "plt.subplot(221)\n",
    "plt.ticklabel_format(style='plain')\n",
    "plt.title(\"Boxplot Income (K)\")\n",
    "sns.boxplot(data=df_income,orient='h')\n",
    "plt.axvline(median_income[0],color='yellow',label=f'Median = {median_income[0]}')\n",
    "plt.axvline(data_terkecil_income,color='pink',label=f'Data Terkecil = {data_terkecil_income}')\n",
    "plt.axvline(q1_income,color='orange',label=f'Kuartil 1 = {q1_income}')\n",
    "plt.axvline(q3_income,color='green',label=f'Kuartil 3 = {q3_income}')\n",
    "plt.axvline(rata_income[0],color='red',label=f'Average = {rata_income[0]}')\n",
    "plt.axvline(batas_atas_income,color='skyblue',label=f'Batas Atas = {batas_atas_income}')\n",
    "\n",
    "plt.legend()\n",
    "\n",
    "\n",
    "# BoxPlot Car Price\n",
    "plt.subplot(222)\n",
    "plt.ticklabel_format(style='plain')\n",
    "plt.title(\"BoxPlot Car Price (K)\")\n",
    "sns.boxplot(data=df_car,orient='h')\n",
    "plt.axvline(median_car[0],color='yellow',label=f'Median = {median_car[0]}')\n",
    "plt.axvline(data_terkecil_car,color='pink',label=f'Data Terkecil = {data_terkecil_car}')\n",
    "plt.axvline(q1_car,color='orange',label=f'Kuartil 1 = {q1_car}')\n",
    "plt.axvline(q3_car,color='green',label=f'Kuartil 3 = {q3_car}')\n",
    "plt.axvline(rata_car[0],color='red',label=f'Average = {rata_car[0]}')\n",
    "\n",
    "plt.legend()\n",
    "plt.show()"
   ]
  },
  {
   "attachments": {},
   "cell_type": "markdown",
   "metadata": {
    "datalore": {
     "hide_input_from_viewers": false,
     "hide_output_from_viewers": false,
     "type": "MD"
    }
   },
   "source": [
    "## Estimasi 1 sisi dari bawah berdasarkan rataan sampel Income "
   ]
  },
  {
   "cell_type": "code",
   "execution_count": 15,
   "metadata": {
    "datalore": {
     "hide_input_from_viewers": false,
     "hide_output_from_viewers": false,
     "type": "CODE"
    }
   },
   "outputs": [],
   "source": [
    "def estimasi_sisi_dari_bawah(x_bar,s,alpha):\n",
    "    z_alpha = stats.norm.ppf(1-alpha, loc=0, scale=1)\n",
    "    batas_bawah = x_bar - z_alpha * s / np.sqrt(n)\n",
    "    return batas_bawah\n",
    "\n",
    "\n",
    "def estimasi_sisi_dari_atas(x_bar,s,alpha):\n",
    "    z_alpha = stats.norm.ppf(1-alpha, loc=0, scale=1)\n",
    "    batas_atas = x_bar + z_alpha * s / np.sqrt(n)\n",
    "    return batas_atas"
   ]
  },
  {
   "cell_type": "code",
   "execution_count": 16,
   "metadata": {
    "datalore": {
     "hide_input_from_viewers": false,
     "hide_output_from_viewers": false,
     "type": "CODE"
    }
   },
   "outputs": [
    {
     "name": "stdout",
     "output_type": "stream",
     "text": [
      "Estimasi 1 sisi dari atas rataan populasi\n",
      "-------------------------------\n",
      "Total data sampel\t: 6400\n",
      "Rata-rata data sampel\t: 69.88703125\n",
      "Stdev data sampel\t: 77.99393243336522\n",
      "\n",
      "\n",
      "Tingkat kepercayaan estimasi\t: 0.99\n",
      "Batas bawah interval estimasi\t: 67.61901851369446\n"
     ]
    }
   ],
   "source": [
    "# menghitung estimasi 1 sisi dari bawah interval rataan populasi berdasarkan rataan sampel Income\n",
    "alpha = 0.01\n",
    "# mencari nilai z_alpha sehingga P(Z>z_alpha) = 1 - alpha\n",
    "z_alpha = stats.norm.ppf(1-alpha, loc=0, scale=1)\n",
    "\n",
    "# menghitung batas bawah\n",
    "batas_bawah_rataan_sampel_99 = x_bar - z_alpha * s / np.sqrt(n)\n",
    "\n",
    "print(\"Estimasi 1 sisi dari atas rataan populasi\")\n",
    "print(\"-------------------------------\")\n",
    "print(\"Total data sampel\\t: {}\".format(n))\n",
    "print(\"Rata-rata data sampel\\t: {}\".format(x_bar.iloc[0]))\n",
    "print(\"Stdev data sampel\\t: {}\".format(s.iloc[0]))\n",
    "print(\"\\n\")\n",
    "print(\"Tingkat kepercayaan estimasi\\t: {}\".format(1-alpha))\n",
    "print(\"Batas bawah interval estimasi\\t: {}\".format(batas_bawah_rataan_sampel_99.iloc[0]))"
   ]
  },
  {
   "cell_type": "code",
   "execution_count": 17,
   "metadata": {
    "datalore": {
     "hide_input_from_viewers": false,
     "hide_output_from_viewers": false,
     "type": "CODE"
    }
   },
   "outputs": [
    {
     "name": "stderr",
     "output_type": "stream",
     "text": [
      "c:\\Users\\Lenovo\\AppData\\Local\\Programs\\Python\\Python310\\lib\\site-packages\\numpy\\core\\shape_base.py:65: VisibleDeprecationWarning: Creating an ndarray from ragged nested sequences (which is a list-or-tuple of lists-or-tuples-or ndarrays with different lengths or shapes) is deprecated. If you meant to do this, you must specify 'dtype=object' when creating the ndarray.\n",
      "  ary = asanyarray(ary)\n"
     ]
    },
    {
     "data": {
      "image/png": "[encoded data removed]",
      "text/plain": [
       "<Figure size 1440x720 with 1 Axes>"
      ]
     },
     "metadata": {
      "needs_background": "light"
     },
     "output_type": "display_data"
    }
   ],
   "source": [
    "batas_bawah_rataan_sampel_80 = estimasi_sisi_dari_bawah(x_bar,  s, 0.2)\n",
    "batas_atas_rataan_sampel_80 = estimasi_sisi_dari_atas(x_bar, s, 0.2)\n",
    "\n",
    "batas_bawah_rataan_sampel_85 = estimasi_sisi_dari_bawah(x_bar, s, 1-0.85)\n",
    "batas_atas_rataan_sampel_85 = estimasi_sisi_dari_atas(x_bar, s, 1-0.85)\n",
    "\n",
    "batas_bawah_rataan_sampel_90 = estimasi_sisi_dari_bawah(x_bar, s, 1-0.9)\n",
    "batas_atas_rataan_sampel_90 = estimasi_sisi_dari_atas(x_bar, s, 1-0.9)\n",
    "\n",
    "batas_bawah_rataan_sampel_95 = estimasi_sisi_dari_bawah(x_bar, s, 1-0.95)\n",
    "batas_atas_rataan_sampel_95 = estimasi_sisi_dari_atas(x_bar, s, 1-0.95)\n",
    "\n",
    "batas_bawah_rataan_sampel_99 = estimasi_sisi_dari_bawah(x_bar,s,1-0.99)\n",
    "batas_atas_rataan_sampel_99 = estimasi_sisi_dari_atas(x_bar,s,1-0.99)\n",
    "\n",
    "batas_bawah_rataan_sampel_100 = estimasi_sisi_dari_bawah(x_bar,s,1-0.9999999999)\n",
    "batas_atas_rataan_sampel_100 = estimasi_sisi_dari_atas(x_bar,s,1-0.99999999999)\n",
    "max_ = df_income.max()[0]\n",
    "\n",
    "plt.figure(figsize=(20,10))\n",
    "df_income_view = df_income[df_income.iloc[:] < 200]\n",
    "plt.hist(df_income_view, bins=50, fc=(0,0,1,0.2))\n",
    "plt.plot([batas_bawah_rataan_sampel_80,max_],[100,100],marker='|',label='80%')\n",
    "plt.plot([batas_bawah_rataan_sampel_85,max_],[200,200],marker='|',label='85%')\n",
    "plt.plot([batas_bawah_rataan_sampel_90,max_],[300,300],marker='|',label='90%')\n",
    "plt.plot([batas_bawah_rataan_sampel_95,max_],[400,400],marker='|',label='95%')\n",
    "plt.plot([batas_bawah_rataan_sampel_99,max_],[500,500],marker='|',label='99%')\n",
    "plt.plot([batas_bawah_rataan_sampel_100,max_],[600,600],marker='|',label='99.999999999%')\n",
    "\n",
    "plt.text(75.5,100,'80%')\n",
    "plt.text(75.5,200,'85%')\n",
    "plt.text(75.5,300,'90%')\n",
    "plt.text(75.5,400,'95%')\n",
    "plt.text(75.5,500,'99%')\n",
    "plt.text(73,  600,'99.999999999%')\n",
    "plt.xlim((0,200))\n",
    "plt.xlabel('Rata-Rata Income')\n",
    "\n",
    "plt.legend()\n",
    "plt.grid()\n",
    "plt.show()"
   ]
  },
  {
   "attachments": {},
   "cell_type": "markdown",
   "metadata": {
    "datalore": {
     "hide_input_from_viewers": false,
     "hide_output_from_viewers": false,
     "type": "MD"
    }
   },
   "source": [
    "## Menghitung estimasi 2 sisi interval standar deviasi populasi berdasarkan rataan sampel Income"
   ]
  },
  {
   "cell_type": "code",
   "execution_count": 18,
   "metadata": {
    "datalore": {
     "hide_input_from_viewers": false,
     "hide_output_from_viewers": false,
     "type": "CODE"
    }
   },
   "outputs": [
    {
     "name": "stdout",
     "output_type": "stream",
     "text": [
      "Estimasi 2 sisi st dev populasi Income\n",
      "-------------------------------\n",
      "Total data sampel\t: 6400\n",
      "Rata-rata data sampel\t: 69.88703125\n",
      "Stdev data sampel\t: 77.99393243336522\n",
      "\n",
      "\n",
      "Tingkat kepercayaan estimasi\t: 0.95\n",
      "Batas bawah interval estimasi\t: 76.66587616791233\n",
      "Batas atas interval estimasi\t: 79.36914351821885\n"
     ]
    }
   ],
   "source": [
    "# menghitung estimasi 2 sisi interval standar deviasi populasi berdasarkan rataan sampel Income\n",
    "\n",
    "alpha = 0.05\n",
    "df = n-1\n",
    "\n",
    "# mencari nilai c_alpha_half sehingga P(Chi<c_alpha_half) = 1 - alpha/2\n",
    "c_alpha_half = stats.chi2.ppf(1-alpha/2, df)\n",
    "# mencari nilai c_alpha_half sehingga P(Chi<c_alpha_half) = alpha/2\n",
    "c_one_min_alpha_half = stats.chi2.ppf(alpha/2, df)\n",
    "\n",
    "# menghitung batas bawah dan batas atas\n",
    "batas_bawah = s * np.sqrt(df/c_alpha_half)\n",
    "batas_atas = s * np.sqrt(df/c_one_min_alpha_half)\n",
    "\n",
    "print(\"Estimasi 2 sisi st dev populasi Income\")\n",
    "print(\"-------------------------------\")\n",
    "print(\"Total data sampel\\t: {}\".format(n))\n",
    "print(\"Rata-rata data sampel\\t: {}\".format(x_bar.iloc[0]))\n",
    "print(\"Stdev data sampel\\t: {}\".format(s.iloc[0]))\n",
    "print(\"\\n\")\n",
    "print(\"Tingkat kepercayaan estimasi\\t: {}\".format(1-alpha))\n",
    "print(\"Batas bawah interval estimasi\\t: {}\".format(batas_bawah.iloc[0]))\n",
    "print(\"Batas atas interval estimasi\\t: {}\".format(batas_atas.iloc[0]))"
   ]
  },
  {
   "cell_type": "code",
   "execution_count": 19,
   "metadata": {
    "datalore": {
     "hide_input_from_viewers": false,
     "hide_output_from_viewers": false,
     "type": "CODE"
    }
   },
   "outputs": [
    {
     "name": "stdout",
     "output_type": "stream",
     "text": [
      "Total data sampel\t: 6400\n",
      "Rata-rata data sampel\t: 30.283625\n",
      "Stdev data sampel\t: 21.998228003691366\n"
     ]
    }
   ],
   "source": [
    "# menghitung statistik data sampel Car Price\n",
    "\n",
    "n_car = len(df_car)\n",
    "x_bar_car = df_car.mean()\n",
    "s_car = df_car.std() # method ini digunakan untuk stdev sampel\n",
    "\n",
    "print(\"Total data sampel\\t: {}\".format(n_car))\n",
    "print(\"Rata-rata data sampel\\t: {}\".format(x_bar_car.iloc[0]))\n",
    "print(\"Stdev data sampel\\t: {}\".format(s_car.iloc[0]))"
   ]
  },
  {
   "cell_type": "code",
   "execution_count": 20,
   "metadata": {
    "datalore": {
     "hide_input_from_viewers": false,
     "hide_output_from_viewers": false,
     "type": "CODE"
    }
   },
   "outputs": [
    {
     "name": "stdout",
     "output_type": "stream",
     "text": [
      "Estimasi 1 sisi dari atas rataan populasi Car price\n",
      "-------------------------------\n",
      "Total data sampel\t: 6400\n",
      "Rata-rata data sampel\t: 30.283625\n",
      "Stdev data sampel\t: 21.998228003691366\n",
      "\n",
      "\n",
      "Tingkat kepercayaan estimasi\t: 0.99\n",
      "Batas atas interval estimasi\t: 30.923319136863164\n"
     ]
    }
   ],
   "source": [
    "# menghitung estimasi 1 sisi dari atas interval rataan populasi berdasarkan rataan sampel Car Price\n",
    "\n",
    "alpha = 0.01\n",
    "# mencari nilai z_alpha sehingga P(Z>z_alpha) = 1 - alpha\n",
    "z_alpha = stats.norm.ppf(1-alpha, loc=0, scale=1)\n",
    "\n",
    "# menghitung batas atas\n",
    "batas_atas = x_bar_car + z_alpha * s_car / np.sqrt(n_car)\n",
    "\n",
    "print(\"Estimasi 1 sisi dari atas rataan populasi Car price\")\n",
    "print(\"-------------------------------\")\n",
    "print(\"Total data sampel\\t: {}\".format(n_car))\n",
    "print(\"Rata-rata data sampel\\t: {}\".format(x_bar_car.iloc[0]))\n",
    "print(\"Stdev data sampel\\t: {}\".format(s_car.iloc[0]))\n",
    "print(\"\\n\")\n",
    "print(\"Tingkat kepercayaan estimasi\\t: {}\".format(1-alpha))\n",
    "print(\"Batas atas interval estimasi\\t: {}\".format(batas_atas.iloc[0]))"
   ]
  },
  {
   "cell_type": "code",
   "execution_count": 21,
   "metadata": {
    "datalore": {
     "hide_input_from_viewers": false,
     "hide_output_from_viewers": false,
     "type": "CODE"
    }
   },
   "outputs": [
    {
     "data": {
      "image/png": "[encoded data removed]",
      "text/plain": [
       "<Figure size 1440x720 with 1 Axes>"
      ]
     },
     "metadata": {
      "needs_background": "light"
     },
     "output_type": "display_data"
    }
   ],
   "source": [
    "batas_bawah_rataan_sampel_80 = estimasi_sisi_dari_bawah(x_bar_car, s_car, 0.2)\n",
    "batas_atas_rataan_sampel_80 = estimasi_sisi_dari_atas(x_bar_car, s_car, 0.2)\n",
    "\n",
    "batas_bawah_rataan_sampel_85 = estimasi_sisi_dari_bawah(x_bar_car, s_car, 1-0.85)\n",
    "batas_atas_rataan_sampel_85 = estimasi_sisi_dari_atas(x_bar_car, s_car, 1-0.85)\n",
    "\n",
    "batas_bawah_rataan_sampel_90 = estimasi_sisi_dari_bawah(x_bar_car, s_car, 1-0.9)\n",
    "batas_atas_rataan_sampel_90 = estimasi_sisi_dari_atas(x_bar_car, s_car, 1-0.9)\n",
    "\n",
    "batas_bawah_rataan_sampel_95 = estimasi_sisi_dari_bawah(x_bar_car, s_car, 1-0.95)\n",
    "batas_atas_rataan_sampel_95 = estimasi_sisi_dari_atas(x_bar_car, s_car, 1-0.95)\n",
    "\n",
    "batas_bawah_rataan_sampel_99 = estimasi_sisi_dari_bawah(x_bar_car, s_car,1-0.99)\n",
    "batas_atas_rataan_sampel_99 = estimasi_sisi_dari_atas(x_bar_car, s_car,1-0.99)\n",
    "\n",
    "batas_bawah_rataan_sampel_100 = estimasi_sisi_dari_bawah(x_bar_car, s_car,1-0.9999999999)\n",
    "batas_atas_rataan_sampel_100 = estimasi_sisi_dari_atas(x_bar_car, s_car,1-0.99999999999)\n",
    "min_ = df_car.min()[0]\n",
    "\n",
    "plt.figure(figsize=(20,10))\n",
    "df_car_view = df_car[df_car.iloc[:] < 50]\n",
    "plt.hist(df_car_view, bins=50, fc=(0, 0, 0.3, 0.2))\n",
    "plt.plot([min_,batas_atas_rataan_sampel_80],[50,50],marker='|',label='80%')\n",
    "plt.plot([min_,batas_atas_rataan_sampel_85],[100,100],marker='|',label='85%')\n",
    "plt.plot([min_,batas_atas_rataan_sampel_90],[150,150],marker='|',label='90%')\n",
    "plt.plot([min_,batas_atas_rataan_sampel_95],[200,200],marker='|',label='95%')\n",
    "plt.plot([min_,batas_atas_rataan_sampel_99],[250, 250],marker='|',label='99%')\n",
    "plt.plot([min_,batas_atas_rataan_sampel_100],[300,300],marker='|',label='99.999999999%')\n",
    "\n",
    "plt.text(5,50,'80%')\n",
    "plt.text(5,100,'85%')\n",
    "plt.text(5,150,'90%')\n",
    "plt.text(5,200,'95%')\n",
    "plt.text(5,250,'99%')\n",
    "plt.text(5,  300,'99.999999999%')\n",
    "# plt.xlim((0,200))\n",
    "plt.xlabel('Rata-Rata Car')\n",
    "plt.legend()\n",
    "plt.grid()\n",
    "plt.show()"
   ]
  },
  {
   "cell_type": "code",
   "execution_count": 22,
   "metadata": {
    "datalore": {
     "hide_input_from_viewers": false,
     "hide_output_from_viewers": false,
     "type": "CODE"
    }
   },
   "outputs": [
    {
     "name": "stdout",
     "output_type": "stream",
     "text": [
      "Estimasi 2 sisi st dev populasi Car price\n",
      "-------------------------------\n",
      "Total data sampel\t: 6400\n",
      "Rata-rata data sampel\t: 30.283625\n",
      "Stdev data sampel\t: 21.998228003691366\n",
      "\n",
      "\n",
      "Tingkat kepercayaan estimasi\t: 0.95\n",
      "Batas bawah interval estimasi\t: 21.623649063795966\n",
      "Batas atas interval estimasi\t: 22.386106984196168\n"
     ]
    }
   ],
   "source": [
    "# menghitung estimasi 2 sisi interval standar deviasi populasi berdasarkan rataan sampel Car Price\n",
    "\n",
    "alpha = 0.05\n",
    "df = n-1\n",
    "\n",
    "# mencari nilai c_alpha_half sehingga P(Chi<c_alpha_half) = 1 - alpha/2\n",
    "c_alpha_half_car = stats.chi2.ppf(1-alpha/2, df)\n",
    "# mencari nilai c_alpha_half sehingga P(Chi<c_alpha_half) = alpha/2\n",
    "c_one_min_alpha_half_car = stats.chi2.ppf(alpha/2, df)\n",
    "\n",
    "# menghitung batas bawah dan batas atas\n",
    "batas_bawah_car = s_car * np.sqrt(df/c_alpha_half_car)\n",
    "batas_atas_car = s_car * np.sqrt(df/c_one_min_alpha_half_car)\n",
    "\n",
    "print(\"Estimasi 2 sisi st dev populasi Car price\")\n",
    "print(\"-------------------------------\")\n",
    "print(\"Total data sampel\\t: {}\".format(n_car))\n",
    "print(\"Rata-rata data sampel\\t: {}\".format(x_bar_car.iloc[0]))\n",
    "print(\"Stdev data sampel\\t: {}\".format(s_car.iloc[0]))\n",
    "print(\"\\n\")\n",
    "print(\"Tingkat kepercayaan estimasi\\t: {}\".format(1-alpha))\n",
    "print(\"Batas bawah interval estimasi\\t: {}\".format(batas_bawah_car.iloc[0]))\n",
    "print(\"Batas atas interval estimasi\\t: {}\".format(batas_atas_car.iloc[0]))"
   ]
  },
  {
   "attachments": {},
   "cell_type": "markdown",
   "metadata": {
    "datalore": {
     "hide_input_from_viewers": false,
     "hide_output_from_viewers": false,
     "type": "MD"
    }
   },
   "source": [
    "## Visualisasi Histogram ditambah batas bawah dan atas"
   ]
  },
  {
   "cell_type": "code",
   "execution_count": 23,
   "metadata": {
    "datalore": {
     "hide_input_from_viewers": false,
     "hide_output_from_viewers": false,
     "type": "CODE"
    }
   },
   "outputs": [
    {
     "data": {
      "image/png": "[encoded data removed]",
      "text/plain": [
       "<Figure size 1080x720 with 2 Axes>"
      ]
     },
     "metadata": {
      "needs_background": "light"
     },
     "output_type": "display_data"
    }
   ],
   "source": [
    "plt.figure(figsize=(15,10))\n",
    "\n",
    "ax1 = plt.subplot(211)\n",
    "plt.title(\"Histogram Income (K)\")\n",
    "sns.histplot(df_income,kde=True,bins=30,label='Income')\n",
    "# Garis Rata - Rata\n",
    "plt.axvline(df_income.mean()[0],color='red',label=f'rata-rata Income: ${round((df_income.mean()[0]),2)} K')\n",
    "# Garis Rata - Rata + Std\n",
    "plt.axvline(df_income.mean()[0]+df_income.std(ddof=1)[0],color='yellow',label=f'rata-rata + std Income: ${round((df_income.mean()[0]+df_income.std(ddof=1)[0]),2)} K')\n",
    "# Garis Rata - Rata - Std\n",
    "plt.axvline(df_income.mean()[0]-df_income.std(ddof=1)[0],color='purple',label=f'rata-rata - std Income: ${round((df_income.mean()[0]-df_income.std(ddof=1)[0]),2)} K')\n",
    "plt.axvline(batas_bawah_rataan_sampel_99[0],color='green',label=f'Batas Bawah ${round(batas_bawah_rataan_sampel_99[0],3)}K')\n",
    "\n",
    "\n",
    "plt.legend()\n",
    "\n",
    "plt.subplot(212)\n",
    "plt.title(\"Histogram Car Price (K)\")\n",
    "sns.histplot(df_car,kde=True,binwidth=car_price_bins_size,label='Car Price')\n",
    "# Garis Rata - Rata\n",
    "plt.axvline(df_car.mean()[0],color='red',label=f'rata-rata Car Price: ${round((df_car.mean()[0]),2)} K')\n",
    "# Garis Rata - Rata + Std\n",
    "plt.axvline(df_car.mean()[0]+df_car.std(ddof=1)[0],color='yellow',label=f'rata-rata + std Income: ${round((df_car.mean()[0]+df_car.std(ddof=1)[0]),2)} K')\n",
    "# Garis Rata - Rata - Std\n",
    "plt.axvline(df_car.mean()[0]-df_car.std(ddof=1)[0],color='purple',label=f'rata-rata - std Income: ${round((df_car.mean()[0]-df_car.std(ddof=1)[0]),2)} K')\n",
    "plt.axvline(batas_atas[0],color='green',label=f'Batas Atas ${round(batas_atas[0])}K')\n",
    "plt.legend()\n",
    "\n",
    "plt.show()"
   ]
  },
  {
   "cell_type": "code",
   "execution_count": 24,
   "metadata": {
    "datalore": {
     "hide_input_from_viewers": false,
     "hide_output_from_viewers": false,
     "type": "CODE"
    }
   },
   "outputs": [
    {
     "name": "stdout",
     "output_type": "stream",
     "text": [
      "Total data sampel\t: 6400\n",
      "Rata-rata data sampel\t: Car price    30.283625\n",
      "dtype: float64\n",
      "Stdev data sampel\t: Car price    21.998228\n",
      "dtype: float64\n"
     ]
    }
   ],
   "source": [
    "#Statik Data Income - Car Price\n",
    "n_pop = len(df_inc_car)\n",
    "x_bar_pop = x_bar - x_bar_car\n",
    "s_car = df_car.std() # method ini digunakan untuk stdev sampel\n",
    "\n",
    "print(\"Total data sampel\\t: {}\".format(n_car))\n",
    "print(\"Rata-rata data sampel\\t: {}\".format(x_bar_car))\n",
    "print(\"Stdev data sampel\\t: {}\".format(s_car))\n"
   ]
  },
  {
   "cell_type": "code",
   "execution_count": 25,
   "metadata": {
    "datalore": {
     "hide_input_from_viewers": false,
     "hide_output_from_viewers": false,
     "type": "CODE"
    }
   },
   "outputs": [
    {
     "data": {
      "text/plain": [
       "35.65625"
      ]
     },
     "execution_count": 25,
     "metadata": {},
     "output_type": "execute_result"
    }
   ],
   "source": [
    "df_inc_diatas_60 =  df_inc_car[df_inc_car[\"Income\"]>60]\n",
    "persentasi_prospektif = len(df_inc_diatas_60)/len(df_inc_car) * 100\n",
    "persentasi_prospektif"
   ]
  },
  {
   "cell_type": "code",
   "execution_count": 26,
   "metadata": {
    "datalore": {
     "hide_input_from_viewers": false,
     "hide_output_from_viewers": false,
     "type": "CODE"
    }
   },
   "outputs": [
    {
     "name": "stdout",
     "output_type": "stream",
     "text": [
      "427875\n"
     ]
    }
   ],
   "source": [
    "df_promosi = df_inc_diatas_60[df_inc_diatas_60[\"Car price\"]>15]\n",
    "peresentasi_promosi = len(df_promosi)/len(df_inc_car) * 100\n",
    "jlh_promosi_populasi = int(1200000 * peresentasi_promosi / 100)\n",
    "print(jlh_promosi_populasi)"
   ]
  },
  {
   "cell_type": "code",
   "execution_count": 27,
   "metadata": {
    "datalore": {
     "hide_input_from_viewers": false,
     "hide_output_from_viewers": false,
     "type": "CODE"
    }
   },
   "outputs": [],
   "source": [
    "def to_indikator_prospektif(x):\n",
    "    if x > 60: return 1\n",
    "    return 0\n",
    "\n",
    "indikator_prospektif = df_inc_car[\"Income\"].apply(to_indikator_prospektif)\n",
    "mean_indikator_prospektif = indikator_prospektif.mean()\n",
    "std_s_indikator_prospektif = indikator_prospektif.std(ddof=1)\n",
    "n_indikator_prospektif = len(indikator_prospektif)"
   ]
  },
  {
   "cell_type": "code",
   "execution_count": 28,
   "metadata": {
    "datalore": {
     "hide_input_from_viewers": false,
     "hide_output_from_viewers": false,
     "type": "CODE"
    }
   },
   "outputs": [
    {
     "name": "stdout",
     "output_type": "stream",
     "text": [
      "Estimasi 2 sisi proporsi calon nasabah prospektif\n",
      "-------------------------------\n",
      "Total data indikator prospektif\t: 6400\n",
      "Rata-rata data indikator prospektif : 0.3565625\n",
      "Stdev data indikator prospektif\t: 0.4790214368469326\n",
      "\n",
      "\n",
      "Tingkat kepercayaan estimasi\t: 0.95\n",
      "Batas bawah interval estimasi\t: 0.3448266904494673\n",
      "Batas atas interval estimasi\t: 0.3682983095505327\n",
      "\n",
      "\n",
      "Batas bawah interval estimasi persentase calon nasabah prospektif secara keseluruhan\t: 34.483%\n",
      "Batas atas interval estimasi persentase calon nasabah prospektif secara keseluruhan\t: 36.83%\n"
     ]
    }
   ],
   "source": [
    "# menghitung estimasi 2 sisi interval proposi calon nasabah prospektif secara keseluruhan populasi berdasarkan rataan indikator prospektif\n",
    "\n",
    "alpha = 0.05\n",
    "\n",
    "# mencari nilai t_alpha_half sehingga P(T>t_alpha_half) = 1 - alpha/2\n",
    "z_alpha_half = stats.norm.ppf(1-alpha/2, loc=0, scale=1)\n",
    "\n",
    "# menghitung standard error berdasarkan formula estimasi\n",
    "standard_error = z_alpha_half * std_s_indikator_prospektif / np.sqrt(n_indikator_prospektif)\n",
    "\n",
    "# menghitung batas bawah dan batas atas\n",
    "batas_bawah_prospektif = mean_indikator_prospektif - standard_error\n",
    "batas_atas_prospektif  = mean_indikator_prospektif + standard_error\n",
    "\n",
    "print(\"Estimasi 2 sisi proporsi calon nasabah prospektif\")\n",
    "print(\"-------------------------------\")\n",
    "print(\"Total data indikator prospektif\\t: {}\".format(n_indikator_prospektif))\n",
    "print(\"Rata-rata data indikator prospektif : {}\".format(mean_indikator_prospektif))\n",
    "print(\"Stdev data indikator prospektif\\t: {}\".format(std_s_indikator_prospektif))\n",
    "print(\"\\n\")\n",
    "print(\"Tingkat kepercayaan estimasi\\t: {}\".format(1-alpha))\n",
    "print(\"Batas bawah interval estimasi\\t: {}\".format(batas_bawah_prospektif))\n",
    "print(\"Batas atas interval estimasi\\t: {}\".format(batas_atas_prospektif))\n",
    "print(\"\\n\")\n",
    "print(\"Batas bawah interval estimasi persentase calon nasabah prospektif secara keseluruhan\\t: {}%\".format(round(batas_bawah_prospektif*100,3)))\n",
    "print(\"Batas atas interval estimasi persentase calon nasabah prospektif secara keseluruhan\\t: {}%\".format(round(batas_atas_prospektif*100,3)))"
   ]
  },
  {
   "cell_type": "code",
   "execution_count": 29,
   "metadata": {
    "datalore": {
     "hide_input_from_viewers": false,
     "hide_output_from_viewers": false,
     "type": "CODE"
    }
   },
   "outputs": [
    {
     "data": {
      "text/plain": [
       "0.3565625"
      ]
     },
     "execution_count": 29,
     "metadata": {},
     "output_type": "execute_result"
    }
   ],
   "source": [
    "def to_indikator_promosi(x):\n",
    "    if x[0] > 60 and x[1] > 15: return 1\n",
    "    return 0\n",
    "\n",
    "indikator_promosi = df_inc_car.apply(to_indikator_promosi, axis=1)\n",
    "mean_indikator_promosi = indikator_promosi.mean()\n",
    "sdf_s_indikator_promosi = indikator_promosi.std(ddof=1)\n",
    "n_indikator_promosi = len(indikator_promosi)\n",
    "mean_indikator_promosi\n"
   ]
  },
  {
   "cell_type": "code",
   "execution_count": 30,
   "metadata": {
    "datalore": {
     "hide_input_from_viewers": false,
     "hide_output_from_viewers": false,
     "type": "CODE"
    }
   },
   "outputs": [
    {
     "name": "stdout",
     "output_type": "stream",
     "text": [
      "Banyaknya calon nasabah yang akan diberikan promosi ada di interval 413,792 sampai 441,957 dengan tingkat kepercayaan 95%.\n"
     ]
    }
   ],
   "source": [
    "N = 1200000\n",
    "\n",
    "batas_bawah_promosi = int(batas_bawah_prospektif*N)\n",
    "batas_atas_promosi = int(batas_atas_prospektif*N)\n",
    "print(f\"Banyaknya calon nasabah yang akan diberikan promosi ada di interval {batas_bawah_promosi:,} sampai {batas_atas_promosi:,} dengan tingkat kepercayaan 95%.\")"
   ]
  },
  {
   "cell_type": "code",
   "execution_count": 31,
   "metadata": {
    "datalore": {
     "hide_input_from_viewers": false,
     "hide_output_from_viewers": false,
     "type": "CODE"
    }
   },
   "outputs": [
    {
     "name": "stdout",
     "output_type": "stream",
     "text": [
      "Total data sampel\t: 6400\n",
      "Rata-rata data sampel\t: 69.88703125\n",
      "Stdev data sampel\t: 77.99393243336522\n",
      "Estimasi 1 sisi dari atas rataan populasi\n",
      "-------------------------------\n",
      "Total data sampel\t: 6400\n",
      "Rata-rata data sampel\t: 69.88703125\n",
      "Stdev data sampel\t: 77.99393243336522\n",
      "\n",
      "\n",
      "Tingkat kepercayaan estimasi\t: 0.95\n",
      "Batas bawah interval estimasi\t: 68.28342371695965\n"
     ]
    }
   ],
   "source": [
    "# menghitung statistik data sampel income\n",
    "\n",
    "n_income = len(df_income)\n",
    "x_bar_income = df_income.mean()\n",
    "s_income = df_income.std() # method ini digunakan untuk stdev sampel\n",
    "\n",
    "print(\"Total data sampel\\t: {}\".format(n_income))\n",
    "print(\"Rata-rata data sampel\\t: {}\".format(x_bar_income.iloc[0]))\n",
    "print(\"Stdev data sampel\\t: {}\".format(s_income.iloc[0]))\n",
    "\n",
    "# menghitung estimasi 1 sisi dari bawah interval rataan populasi Income berdasarkan rataan sampel Income\n",
    "alpha = 0.05\n",
    "# mencari nilai z_alpha sehingga P(Z>z_alpha) = 1 - alpha\n",
    "z_alpha = stats.norm.ppf(1-alpha, loc=0, scale=1)\n",
    "\n",
    "# menghitung batas bawah\n",
    "batas_bawah_rataan_income = x_bar - z_alpha * s / np.sqrt(n)\n",
    "\n",
    "print(\"Estimasi 1 sisi dari atas rataan populasi\")\n",
    "print(\"-------------------------------\")\n",
    "print(\"Total data sampel\\t: {}\".format(n))\n",
    "print(\"Rata-rata data sampel\\t: {}\".format(x_bar.iloc[0]))\n",
    "print(\"Stdev data sampel\\t: {}\".format(s.iloc[0]))\n",
    "print(\"\\n\")\n",
    "print(\"Tingkat kepercayaan estimasi\\t: {}\".format(1-alpha))\n",
    "print(\"Batas bawah interval estimasi\\t: {}\".format(batas_bawah_rataan_income.iloc[0]))"
   ]
  }
 ],
 "metadata": {
  "datalore": {
   "base_environment": "default",
   "computation_mode": "JUPYTER",
   "package_manager": "pip",
   "packages": [],
   "version": 1
  },
  "kernelspec": {
   "display_name": "Python 3.10.0 64-bit",
   "language": "python",
   "name": "python3"
  },
  "language_info": {
   "codemirror_mode": {
    "name": "ipython",
    "version": 3
   },
   "file_extension": ".py",
   "mimetype": "text/x-python",
   "name": "python",
   "nbconvert_exporter": "python",
   "pygments_lexer": "ipython3",
   "version": "3.10.0"
  },
  "vscode": {
   "interpreter": {
    "hash": "8c3d4d9970fc5c09c50d9318a9c7fbf4d0159e4b28833276f5678ee22bded273"
   }
  }
 },
 "nbformat": 4,
 "nbformat_minor": 4
}
