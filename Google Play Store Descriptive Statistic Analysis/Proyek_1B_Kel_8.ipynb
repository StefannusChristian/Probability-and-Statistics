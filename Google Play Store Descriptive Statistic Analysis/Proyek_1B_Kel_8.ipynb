{
 "cells": [
  {
   "attachments": {},
   "cell_type": "markdown",
   "metadata": {
    "datalore": {
     "hide_input_from_viewers": false,
     "hide_output_from_viewers": false,
     "node_id": "YwkCV2qk4Kcd8idiwUcxOD",
     "type": "MD"
    }
   },
   "source": [
    "# **Persiapan Data**"
   ]
  },
  {
   "cell_type": "code",
   "execution_count": 3,
   "metadata": {
    "datalore": {
     "hide_input_from_viewers": false,
     "hide_output_from_viewers": false,
     "node_id": "zKNpgDLsFkVwvAPmct2tX0",
     "type": "CODE"
    }
   },
   "outputs": [],
   "source": [
    "import pandas as pd\n",
    "import matplotlib.pyplot as plt\n",
    "import seaborn as sns\n",
    "plt.style.use(\"ggplot\")"
   ]
  },
  {
   "attachments": {},
   "cell_type": "markdown",
   "metadata": {
    "datalore": {
     "hide_input_from_viewers": false,
     "hide_output_from_viewers": false,
     "node_id": "W7zDpFWQIiL064sS20tkpw",
     "type": "MD"
    }
   },
   "source": [
    "## Menampilkan Isi  Dataset"
   ]
  },
  {
   "cell_type": "code",
   "execution_count": 4,
   "metadata": {
    "datalore": {
     "hide_input_from_viewers": false,
     "hide_output_from_viewers": false,
     "node_id": "TP7GU3SEZmncQg1eQPvJdL",
     "type": "CODE"
    }
   },
   "outputs": [
    {
     "data": {
      "text/html": [
       "<div>\n",
       "<style scoped>\n",
       "    .dataframe tbody tr th:only-of-type {\n",
       "        vertical-align: middle;\n",
       "    }\n",
       "\n",
       "    .dataframe tbody tr th {\n",
       "        vertical-align: top;\n",
       "    }\n",
       "\n",
       "    .dataframe thead th {\n",
       "        text-align: right;\n",
       "    }\n",
       "</style>\n",
       "<table border=\"1\" class=\"dataframe\">\n",
       "  <thead>\n",
       "    <tr style=\"text-align: right;\">\n",
       "      <th></th>\n",
       "      <th>rank</th>\n",
       "      <th>title</th>\n",
       "      <th>total ratings</th>\n",
       "      <th>installs</th>\n",
       "      <th>average rating</th>\n",
       "      <th>growth (30 days)</th>\n",
       "      <th>growth (60 days)</th>\n",
       "      <th>price</th>\n",
       "      <th>category</th>\n",
       "      <th>5 star ratings</th>\n",
       "      <th>4 star ratings</th>\n",
       "      <th>3 star ratings</th>\n",
       "      <th>2 star ratings</th>\n",
       "      <th>1 star ratings</th>\n",
       "      <th>paid</th>\n",
       "    </tr>\n",
       "  </thead>\n",
       "  <tbody>\n",
       "    <tr>\n",
       "      <th>0</th>\n",
       "      <td>1</td>\n",
       "      <td>Garena Free Fire - The Cobra</td>\n",
       "      <td>80678661</td>\n",
       "      <td>500.0 M</td>\n",
       "      <td>4.33</td>\n",
       "      <td>2.9</td>\n",
       "      <td>7.9</td>\n",
       "      <td>0.0</td>\n",
       "      <td>GAME ACTION</td>\n",
       "      <td>61935712</td>\n",
       "      <td>4478738</td>\n",
       "      <td>2795172</td>\n",
       "      <td>1814999</td>\n",
       "      <td>9654037</td>\n",
       "      <td>False</td>\n",
       "    </tr>\n",
       "    <tr>\n",
       "      <th>1</th>\n",
       "      <td>2</td>\n",
       "      <td>PUBG MOBILE: Graffiti Prank</td>\n",
       "      <td>35971961</td>\n",
       "      <td>100.0 M</td>\n",
       "      <td>4.24</td>\n",
       "      <td>2.0</td>\n",
       "      <td>3.1</td>\n",
       "      <td>0.0</td>\n",
       "      <td>GAME ACTION</td>\n",
       "      <td>26670566</td>\n",
       "      <td>2109631</td>\n",
       "      <td>1352610</td>\n",
       "      <td>893674</td>\n",
       "      <td>4945478</td>\n",
       "      <td>False</td>\n",
       "    </tr>\n",
       "    <tr>\n",
       "      <th>2</th>\n",
       "      <td>3</td>\n",
       "      <td>Mobile Legends: Bang Bang</td>\n",
       "      <td>25836869</td>\n",
       "      <td>100.0 M</td>\n",
       "      <td>4.08</td>\n",
       "      <td>1.6</td>\n",
       "      <td>3.3</td>\n",
       "      <td>0.0</td>\n",
       "      <td>GAME ACTION</td>\n",
       "      <td>17850942</td>\n",
       "      <td>1796761</td>\n",
       "      <td>1066095</td>\n",
       "      <td>725429</td>\n",
       "      <td>4397640</td>\n",
       "      <td>False</td>\n",
       "    </tr>\n",
       "    <tr>\n",
       "      <th>3</th>\n",
       "      <td>4</td>\n",
       "      <td>Brawl Stars</td>\n",
       "      <td>17181659</td>\n",
       "      <td>100.0 M</td>\n",
       "      <td>4.27</td>\n",
       "      <td>4.1</td>\n",
       "      <td>6.6</td>\n",
       "      <td>0.0</td>\n",
       "      <td>GAME ACTION</td>\n",
       "      <td>12493668</td>\n",
       "      <td>1474319</td>\n",
       "      <td>741410</td>\n",
       "      <td>383478</td>\n",
       "      <td>2088781</td>\n",
       "      <td>False</td>\n",
       "    </tr>\n",
       "    <tr>\n",
       "      <th>4</th>\n",
       "      <td>5</td>\n",
       "      <td>Sniper 3D: Fun Free Online FPS Shooting Game</td>\n",
       "      <td>14237554</td>\n",
       "      <td>100.0 M</td>\n",
       "      <td>4.33</td>\n",
       "      <td>0.8</td>\n",
       "      <td>1.8</td>\n",
       "      <td>0.0</td>\n",
       "      <td>GAME ACTION</td>\n",
       "      <td>9657878</td>\n",
       "      <td>2124544</td>\n",
       "      <td>1034025</td>\n",
       "      <td>375159</td>\n",
       "      <td>1045945</td>\n",
       "      <td>False</td>\n",
       "    </tr>\n",
       "    <tr>\n",
       "      <th>...</th>\n",
       "      <td>...</td>\n",
       "      <td>...</td>\n",
       "      <td>...</td>\n",
       "      <td>...</td>\n",
       "      <td>...</td>\n",
       "      <td>...</td>\n",
       "      <td>...</td>\n",
       "      <td>...</td>\n",
       "      <td>...</td>\n",
       "      <td>...</td>\n",
       "      <td>...</td>\n",
       "      <td>...</td>\n",
       "      <td>...</td>\n",
       "      <td>...</td>\n",
       "      <td>...</td>\n",
       "    </tr>\n",
       "    <tr>\n",
       "      <th>1725</th>\n",
       "      <td>96</td>\n",
       "      <td>Piknik Słowo - Word Snack</td>\n",
       "      <td>122845</td>\n",
       "      <td>1.0 M</td>\n",
       "      <td>4.67</td>\n",
       "      <td>0.1</td>\n",
       "      <td>0.3</td>\n",
       "      <td>0.0</td>\n",
       "      <td>GAME WORD</td>\n",
       "      <td>96954</td>\n",
       "      <td>17233</td>\n",
       "      <td>5098</td>\n",
       "      <td>1249</td>\n",
       "      <td>2309</td>\n",
       "      <td>False</td>\n",
       "    </tr>\n",
       "    <tr>\n",
       "      <th>1726</th>\n",
       "      <td>97</td>\n",
       "      <td>Wordox – Free multiplayer word game</td>\n",
       "      <td>120476</td>\n",
       "      <td>1.0 M</td>\n",
       "      <td>4.21</td>\n",
       "      <td>0.0</td>\n",
       "      <td>0.1</td>\n",
       "      <td>0.0</td>\n",
       "      <td>GAME WORD</td>\n",
       "      <td>74010</td>\n",
       "      <td>21546</td>\n",
       "      <td>10648</td>\n",
       "      <td>4710</td>\n",
       "      <td>9560</td>\n",
       "      <td>False</td>\n",
       "    </tr>\n",
       "    <tr>\n",
       "      <th>1727</th>\n",
       "      <td>98</td>\n",
       "      <td>4 Fotos 1 Palavra</td>\n",
       "      <td>114852</td>\n",
       "      <td>5.0 M</td>\n",
       "      <td>4.52</td>\n",
       "      <td>0.3</td>\n",
       "      <td>0.6</td>\n",
       "      <td>0.0</td>\n",
       "      <td>GAME WORD</td>\n",
       "      <td>84688</td>\n",
       "      <td>16783</td>\n",
       "      <td>6619</td>\n",
       "      <td>1867</td>\n",
       "      <td>4892</td>\n",
       "      <td>False</td>\n",
       "    </tr>\n",
       "    <tr>\n",
       "      <th>1728</th>\n",
       "      <td>99</td>\n",
       "      <td>زوايا - لعبة ستحرك زوايا عقلك</td>\n",
       "      <td>110293</td>\n",
       "      <td>1.0 M</td>\n",
       "      <td>4.76</td>\n",
       "      <td>0.8</td>\n",
       "      <td>1.9</td>\n",
       "      <td>0.0</td>\n",
       "      <td>GAME WORD</td>\n",
       "      <td>99168</td>\n",
       "      <td>3528</td>\n",
       "      <td>3258</td>\n",
       "      <td>1059</td>\n",
       "      <td>3278</td>\n",
       "      <td>False</td>\n",
       "    </tr>\n",
       "    <tr>\n",
       "      <th>1729</th>\n",
       "      <td>100</td>\n",
       "      <td>Word Life - Connect crosswords puzzle</td>\n",
       "      <td>109809</td>\n",
       "      <td>5.0 M</td>\n",
       "      <td>4.38</td>\n",
       "      <td>6.9</td>\n",
       "      <td>14.2</td>\n",
       "      <td>0.0</td>\n",
       "      <td>GAME WORD</td>\n",
       "      <td>70647</td>\n",
       "      <td>22630</td>\n",
       "      <td>8794</td>\n",
       "      <td>2775</td>\n",
       "      <td>4961</td>\n",
       "      <td>False</td>\n",
       "    </tr>\n",
       "  </tbody>\n",
       "</table>\n",
       "<p>1730 rows × 15 columns</p>\n",
       "</div>"
      ],
      "text/plain": [
       "      rank                                         title  total ratings  \\\n",
       "0        1                  Garena Free Fire - The Cobra       80678661   \n",
       "1        2                   PUBG MOBILE: Graffiti Prank       35971961   \n",
       "2        3                     Mobile Legends: Bang Bang       25836869   \n",
       "3        4                                   Brawl Stars       17181659   \n",
       "4        5  Sniper 3D: Fun Free Online FPS Shooting Game       14237554   \n",
       "...    ...                                           ...            ...   \n",
       "1725    96                     Piknik Słowo - Word Snack         122845   \n",
       "1726    97           Wordox – Free multiplayer word game         120476   \n",
       "1727    98                             4 Fotos 1 Palavra         114852   \n",
       "1728    99                 زوايا - لعبة ستحرك زوايا عقلك         110293   \n",
       "1729   100         Word Life - Connect crosswords puzzle         109809   \n",
       "\n",
       "     installs  average rating  growth (30 days)  growth (60 days)  price  \\\n",
       "0     500.0 M            4.33               2.9               7.9    0.0   \n",
       "1     100.0 M            4.24               2.0               3.1    0.0   \n",
       "2     100.0 M            4.08               1.6               3.3    0.0   \n",
       "3     100.0 M            4.27               4.1               6.6    0.0   \n",
       "4     100.0 M            4.33               0.8               1.8    0.0   \n",
       "...       ...             ...               ...               ...    ...   \n",
       "1725    1.0 M            4.67               0.1               0.3    0.0   \n",
       "1726    1.0 M            4.21               0.0               0.1    0.0   \n",
       "1727    5.0 M            4.52               0.3               0.6    0.0   \n",
       "1728    1.0 M            4.76               0.8               1.9    0.0   \n",
       "1729    5.0 M            4.38               6.9              14.2    0.0   \n",
       "\n",
       "         category  5 star ratings  4 star ratings  3 star ratings  \\\n",
       "0     GAME ACTION        61935712         4478738         2795172   \n",
       "1     GAME ACTION        26670566         2109631         1352610   \n",
       "2     GAME ACTION        17850942         1796761         1066095   \n",
       "3     GAME ACTION        12493668         1474319          741410   \n",
       "4     GAME ACTION         9657878         2124544         1034025   \n",
       "...           ...             ...             ...             ...   \n",
       "1725    GAME WORD           96954           17233            5098   \n",
       "1726    GAME WORD           74010           21546           10648   \n",
       "1727    GAME WORD           84688           16783            6619   \n",
       "1728    GAME WORD           99168            3528            3258   \n",
       "1729    GAME WORD           70647           22630            8794   \n",
       "\n",
       "      2 star ratings  1 star ratings   paid  \n",
       "0            1814999         9654037  False  \n",
       "1             893674         4945478  False  \n",
       "2             725429         4397640  False  \n",
       "3             383478         2088781  False  \n",
       "4             375159         1045945  False  \n",
       "...              ...             ...    ...  \n",
       "1725            1249            2309  False  \n",
       "1726            4710            9560  False  \n",
       "1727            1867            4892  False  \n",
       "1728            1059            3278  False  \n",
       "1729            2775            4961  False  \n",
       "\n",
       "[1730 rows x 15 columns]"
      ]
     },
     "metadata": {},
     "output_type": "display_data"
    }
   ],
   "source": [
    "data = pd.read_csv('Dataset1B.csv')\n",
    "display(data)"
   ]
  },
  {
   "cell_type": "code",
   "execution_count": 5,
   "metadata": {
    "datalore": {
     "hide_input_from_viewers": false,
     "hide_output_from_viewers": false,
     "node_id": "RQak7dYX45q5Ji2roZTTwi",
     "type": "CODE"
    }
   },
   "outputs": [
    {
     "data": {
      "text/plain": [
       "(1730, 15)"
      ]
     },
     "execution_count": 5,
     "metadata": {},
     "output_type": "execute_result"
    }
   ],
   "source": [
    "data.shape"
   ]
  },
  {
   "attachments": {},
   "cell_type": "markdown",
   "metadata": {
    "datalore": {
     "hide_input_from_viewers": false,
     "hide_output_from_viewers": false,
     "node_id": "NsSDQZMqmCrPKFmpFJsdyT",
     "type": "MD"
    }
   },
   "source": [
    "## Membuat Fungsi untuk mengconvert kolom/fitur install menjadi satuan ratusan ribu (K)"
   ]
  },
  {
   "cell_type": "code",
   "execution_count": 6,
   "metadata": {
    "datalore": {
     "hide_input_from_viewers": false,
     "hide_output_from_viewers": false,
     "node_id": "iXLoaMAMcav5jEqC3r5qMB",
     "type": "CODE"
    }
   },
   "outputs": [],
   "source": [
    "def toFloat(val):\n",
    "  num, ket = val.split()\n",
    "  if ket == 'M':\n",
    "    return float(num) * 10**3\n",
    "  return float(num)"
   ]
  },
  {
   "attachments": {},
   "cell_type": "markdown",
   "metadata": {
    "datalore": {
     "hide_input_from_viewers": false,
     "hide_output_from_viewers": false,
     "node_id": "uuBDGOVEUKxXNoRZq9I44C",
     "type": "MD"
    }
   },
   "source": [
    "## Menyimpan parameter-parameter yang akan dianalisis ke dalam variabel dan membuat dataframe yang isinya parameter-parameter numerik tersebut"
   ]
  },
  {
   "cell_type": "code",
   "execution_count": 7,
   "metadata": {
    "datalore": {
     "hide_input_from_viewers": false,
     "hide_output_from_viewers": false,
     "node_id": "d2v5GIS819LRIHks7sPyPN",
     "type": "CODE"
    }
   },
   "outputs": [],
   "source": [
    "install = data[\"installs\"].apply(toFloat)\n",
    "great = data[[\"5 star ratings\",\"4 star ratings\"]].apply(sum,axis=1) / data[[\"1 star ratings\", \"2 star ratings\", \"3 star ratings\", \"4 star ratings\", \"5 star ratings\"]].apply(sum,axis=1) * 100\n",
    "poor = data[[\"2 star ratings\",\"1 star ratings\"]].apply(sum,axis=1) / data[[\"1 star ratings\", \"2 star ratings\", \"3 star ratings\", \"4 star ratings\", \"5 star ratings\"]].apply(sum,axis=1) * 100"
   ]
  },
  {
   "cell_type": "code",
   "execution_count": 8,
   "metadata": {
    "datalore": {
     "hide_input_from_viewers": false,
     "hide_output_from_viewers": false,
     "node_id": "btnM96StJCkZFsYRTW7kv5",
     "type": "CODE"
    }
   },
   "outputs": [
    {
     "data": {
      "text/html": [
       "<div>\n",
       "<style scoped>\n",
       "    .dataframe tbody tr th:only-of-type {\n",
       "        vertical-align: middle;\n",
       "    }\n",
       "\n",
       "    .dataframe tbody tr th {\n",
       "        vertical-align: top;\n",
       "    }\n",
       "\n",
       "    .dataframe thead th {\n",
       "        text-align: right;\n",
       "    }\n",
       "</style>\n",
       "<table border=\"1\" class=\"dataframe\">\n",
       "  <thead>\n",
       "    <tr style=\"text-align: right;\">\n",
       "      <th></th>\n",
       "      <th>title</th>\n",
       "      <th>average_rating</th>\n",
       "      <th>install (K)</th>\n",
       "      <th>great</th>\n",
       "      <th>poor</th>\n",
       "      <th>category</th>\n",
       "    </tr>\n",
       "  </thead>\n",
       "  <tbody>\n",
       "    <tr>\n",
       "      <th>0</th>\n",
       "      <td>Garena Free Fire - The Cobra</td>\n",
       "      <td>4.33</td>\n",
       "      <td>500000.0</td>\n",
       "      <td>82.319726</td>\n",
       "      <td>14.215700</td>\n",
       "      <td>GAME ACTION</td>\n",
       "    </tr>\n",
       "    <tr>\n",
       "      <th>1</th>\n",
       "      <td>PUBG MOBILE: Graffiti Prank</td>\n",
       "      <td>4.24</td>\n",
       "      <td>100000.0</td>\n",
       "      <td>80.007311</td>\n",
       "      <td>16.232510</td>\n",
       "      <td>GAME ACTION</td>\n",
       "    </tr>\n",
       "    <tr>\n",
       "      <th>2</th>\n",
       "      <td>Mobile Legends: Bang Bang</td>\n",
       "      <td>4.08</td>\n",
       "      <td>100000.0</td>\n",
       "      <td>76.045223</td>\n",
       "      <td>19.828523</td>\n",
       "      <td>GAME ACTION</td>\n",
       "    </tr>\n",
       "    <tr>\n",
       "      <th>3</th>\n",
       "      <td>Brawl Stars</td>\n",
       "      <td>4.27</td>\n",
       "      <td>100000.0</td>\n",
       "      <td>81.295930</td>\n",
       "      <td>14.388945</td>\n",
       "      <td>GAME ACTION</td>\n",
       "    </tr>\n",
       "    <tr>\n",
       "      <th>4</th>\n",
       "      <td>Sniper 3D: Fun Free Online FPS Shooting Game</td>\n",
       "      <td>4.33</td>\n",
       "      <td>100000.0</td>\n",
       "      <td>82.755960</td>\n",
       "      <td>9.981380</td>\n",
       "      <td>GAME ACTION</td>\n",
       "    </tr>\n",
       "    <tr>\n",
       "      <th>...</th>\n",
       "      <td>...</td>\n",
       "      <td>...</td>\n",
       "      <td>...</td>\n",
       "      <td>...</td>\n",
       "      <td>...</td>\n",
       "      <td>...</td>\n",
       "    </tr>\n",
       "    <tr>\n",
       "      <th>1725</th>\n",
       "      <td>Piknik Słowo - Word Snack</td>\n",
       "      <td>4.67</td>\n",
       "      <td>1000.0</td>\n",
       "      <td>92.953607</td>\n",
       "      <td>2.896380</td>\n",
       "      <td>GAME WORD</td>\n",
       "    </tr>\n",
       "    <tr>\n",
       "      <th>1726</th>\n",
       "      <td>Wordox – Free multiplayer word game</td>\n",
       "      <td>4.21</td>\n",
       "      <td>1000.0</td>\n",
       "      <td>79.316699</td>\n",
       "      <td>11.844879</td>\n",
       "      <td>GAME WORD</td>\n",
       "    </tr>\n",
       "    <tr>\n",
       "      <th>1727</th>\n",
       "      <td>4 Fotos 1 Palavra</td>\n",
       "      <td>4.52</td>\n",
       "      <td>5000.0</td>\n",
       "      <td>88.351662</td>\n",
       "      <td>5.885119</td>\n",
       "      <td>GAME WORD</td>\n",
       "    </tr>\n",
       "    <tr>\n",
       "      <th>1728</th>\n",
       "      <td>زوايا - لعبة ستحرك زوايا عقلك</td>\n",
       "      <td>4.76</td>\n",
       "      <td>1000.0</td>\n",
       "      <td>93.113672</td>\n",
       "      <td>3.932324</td>\n",
       "      <td>GAME WORD</td>\n",
       "    </tr>\n",
       "    <tr>\n",
       "      <th>1729</th>\n",
       "      <td>Word Life - Connect crosswords puzzle</td>\n",
       "      <td>4.38</td>\n",
       "      <td>5000.0</td>\n",
       "      <td>84.946315</td>\n",
       "      <td>7.045088</td>\n",
       "      <td>GAME WORD</td>\n",
       "    </tr>\n",
       "  </tbody>\n",
       "</table>\n",
       "<p>1730 rows × 6 columns</p>\n",
       "</div>"
      ],
      "text/plain": [
       "                                             title  average_rating  \\\n",
       "0                     Garena Free Fire - The Cobra            4.33   \n",
       "1                      PUBG MOBILE: Graffiti Prank            4.24   \n",
       "2                        Mobile Legends: Bang Bang            4.08   \n",
       "3                                      Brawl Stars            4.27   \n",
       "4     Sniper 3D: Fun Free Online FPS Shooting Game            4.33   \n",
       "...                                            ...             ...   \n",
       "1725                     Piknik Słowo - Word Snack            4.67   \n",
       "1726           Wordox – Free multiplayer word game            4.21   \n",
       "1727                             4 Fotos 1 Palavra            4.52   \n",
       "1728                 زوايا - لعبة ستحرك زوايا عقلك            4.76   \n",
       "1729         Word Life - Connect crosswords puzzle            4.38   \n",
       "\n",
       "      install (K)      great       poor     category  \n",
       "0        500000.0  82.319726  14.215700  GAME ACTION  \n",
       "1        100000.0  80.007311  16.232510  GAME ACTION  \n",
       "2        100000.0  76.045223  19.828523  GAME ACTION  \n",
       "3        100000.0  81.295930  14.388945  GAME ACTION  \n",
       "4        100000.0  82.755960   9.981380  GAME ACTION  \n",
       "...           ...        ...        ...          ...  \n",
       "1725       1000.0  92.953607   2.896380    GAME WORD  \n",
       "1726       1000.0  79.316699  11.844879    GAME WORD  \n",
       "1727       5000.0  88.351662   5.885119    GAME WORD  \n",
       "1728       1000.0  93.113672   3.932324    GAME WORD  \n",
       "1729       5000.0  84.946315   7.045088    GAME WORD  \n",
       "\n",
       "[1730 rows x 6 columns]"
      ]
     },
     "metadata": {},
     "output_type": "display_data"
    }
   ],
   "source": [
    "df = pd.DataFrame({\"title\" : data[\"title\"],\n",
    "                   \"average_rating\" : data[\"average rating\"],\n",
    "                   \"install (K)\" : install,\n",
    "                   \"great\" : great,\n",
    "                   \"poor\" : poor,\n",
    "                   \"category\" : data[\"category\"]})\n",
    "\n",
    "display(df)"
   ]
  },
  {
   "attachments": {},
   "cell_type": "markdown",
   "metadata": {
    "datalore": {
     "hide_input_from_viewers": false,
     "hide_output_from_viewers": false,
     "node_id": "xDMndTRITC3mJ0GWnjsN3K",
     "type": "MD"
    }
   },
   "source": [
    " ## Menampilkan Dataframe baru dengan parameter-parameter yang akan di analisis saja"
   ]
  },
  {
   "cell_type": "code",
   "execution_count": 9,
   "metadata": {
    "datalore": {
     "hide_input_from_viewers": false,
     "hide_output_from_viewers": false,
     "node_id": "E6qDzckG5dxRErozcbTsM0",
     "type": "CODE"
    }
   },
   "outputs": [
    {
     "data": {
      "text/html": [
       "<div>\n",
       "<style scoped>\n",
       "    .dataframe tbody tr th:only-of-type {\n",
       "        vertical-align: middle;\n",
       "    }\n",
       "\n",
       "    .dataframe tbody tr th {\n",
       "        vertical-align: top;\n",
       "    }\n",
       "\n",
       "    .dataframe thead th {\n",
       "        text-align: right;\n",
       "    }\n",
       "</style>\n",
       "<table border=\"1\" class=\"dataframe\">\n",
       "  <thead>\n",
       "    <tr style=\"text-align: right;\">\n",
       "      <th></th>\n",
       "      <th>title</th>\n",
       "      <th>average_rating</th>\n",
       "      <th>install (K)</th>\n",
       "      <th>great</th>\n",
       "      <th>poor</th>\n",
       "      <th>category</th>\n",
       "    </tr>\n",
       "  </thead>\n",
       "  <tbody>\n",
       "    <tr>\n",
       "      <th>0</th>\n",
       "      <td>Garena Free Fire - The Cobra</td>\n",
       "      <td>4.33</td>\n",
       "      <td>500000.0</td>\n",
       "      <td>82.319726</td>\n",
       "      <td>14.215700</td>\n",
       "      <td>GAME ACTION</td>\n",
       "    </tr>\n",
       "    <tr>\n",
       "      <th>1</th>\n",
       "      <td>PUBG MOBILE: Graffiti Prank</td>\n",
       "      <td>4.24</td>\n",
       "      <td>100000.0</td>\n",
       "      <td>80.007311</td>\n",
       "      <td>16.232510</td>\n",
       "      <td>GAME ACTION</td>\n",
       "    </tr>\n",
       "    <tr>\n",
       "      <th>2</th>\n",
       "      <td>Mobile Legends: Bang Bang</td>\n",
       "      <td>4.08</td>\n",
       "      <td>100000.0</td>\n",
       "      <td>76.045223</td>\n",
       "      <td>19.828523</td>\n",
       "      <td>GAME ACTION</td>\n",
       "    </tr>\n",
       "    <tr>\n",
       "      <th>3</th>\n",
       "      <td>Brawl Stars</td>\n",
       "      <td>4.27</td>\n",
       "      <td>100000.0</td>\n",
       "      <td>81.295930</td>\n",
       "      <td>14.388945</td>\n",
       "      <td>GAME ACTION</td>\n",
       "    </tr>\n",
       "    <tr>\n",
       "      <th>4</th>\n",
       "      <td>Sniper 3D: Fun Free Online FPS Shooting Game</td>\n",
       "      <td>4.33</td>\n",
       "      <td>100000.0</td>\n",
       "      <td>82.755960</td>\n",
       "      <td>9.981380</td>\n",
       "      <td>GAME ACTION</td>\n",
       "    </tr>\n",
       "    <tr>\n",
       "      <th>...</th>\n",
       "      <td>...</td>\n",
       "      <td>...</td>\n",
       "      <td>...</td>\n",
       "      <td>...</td>\n",
       "      <td>...</td>\n",
       "      <td>...</td>\n",
       "    </tr>\n",
       "    <tr>\n",
       "      <th>1725</th>\n",
       "      <td>Piknik Słowo - Word Snack</td>\n",
       "      <td>4.67</td>\n",
       "      <td>1000.0</td>\n",
       "      <td>92.953607</td>\n",
       "      <td>2.896380</td>\n",
       "      <td>GAME WORD</td>\n",
       "    </tr>\n",
       "    <tr>\n",
       "      <th>1726</th>\n",
       "      <td>Wordox – Free multiplayer word game</td>\n",
       "      <td>4.21</td>\n",
       "      <td>1000.0</td>\n",
       "      <td>79.316699</td>\n",
       "      <td>11.844879</td>\n",
       "      <td>GAME WORD</td>\n",
       "    </tr>\n",
       "    <tr>\n",
       "      <th>1727</th>\n",
       "      <td>4 Fotos 1 Palavra</td>\n",
       "      <td>4.52</td>\n",
       "      <td>5000.0</td>\n",
       "      <td>88.351662</td>\n",
       "      <td>5.885119</td>\n",
       "      <td>GAME WORD</td>\n",
       "    </tr>\n",
       "    <tr>\n",
       "      <th>1728</th>\n",
       "      <td>زوايا - لعبة ستحرك زوايا عقلك</td>\n",
       "      <td>4.76</td>\n",
       "      <td>1000.0</td>\n",
       "      <td>93.113672</td>\n",
       "      <td>3.932324</td>\n",
       "      <td>GAME WORD</td>\n",
       "    </tr>\n",
       "    <tr>\n",
       "      <th>1729</th>\n",
       "      <td>Word Life - Connect crosswords puzzle</td>\n",
       "      <td>4.38</td>\n",
       "      <td>5000.0</td>\n",
       "      <td>84.946315</td>\n",
       "      <td>7.045088</td>\n",
       "      <td>GAME WORD</td>\n",
       "    </tr>\n",
       "  </tbody>\n",
       "</table>\n",
       "<p>1730 rows × 6 columns</p>\n",
       "</div>"
      ],
      "text/plain": [
       "                                             title  average_rating  \\\n",
       "0                     Garena Free Fire - The Cobra            4.33   \n",
       "1                      PUBG MOBILE: Graffiti Prank            4.24   \n",
       "2                        Mobile Legends: Bang Bang            4.08   \n",
       "3                                      Brawl Stars            4.27   \n",
       "4     Sniper 3D: Fun Free Online FPS Shooting Game            4.33   \n",
       "...                                            ...             ...   \n",
       "1725                     Piknik Słowo - Word Snack            4.67   \n",
       "1726           Wordox – Free multiplayer word game            4.21   \n",
       "1727                             4 Fotos 1 Palavra            4.52   \n",
       "1728                 زوايا - لعبة ستحرك زوايا عقلك            4.76   \n",
       "1729         Word Life - Connect crosswords puzzle            4.38   \n",
       "\n",
       "      install (K)      great       poor     category  \n",
       "0        500000.0  82.319726  14.215700  GAME ACTION  \n",
       "1        100000.0  80.007311  16.232510  GAME ACTION  \n",
       "2        100000.0  76.045223  19.828523  GAME ACTION  \n",
       "3        100000.0  81.295930  14.388945  GAME ACTION  \n",
       "4        100000.0  82.755960   9.981380  GAME ACTION  \n",
       "...           ...        ...        ...          ...  \n",
       "1725       1000.0  92.953607   2.896380    GAME WORD  \n",
       "1726       1000.0  79.316699  11.844879    GAME WORD  \n",
       "1727       5000.0  88.351662   5.885119    GAME WORD  \n",
       "1728       1000.0  93.113672   3.932324    GAME WORD  \n",
       "1729       5000.0  84.946315   7.045088    GAME WORD  \n",
       "\n",
       "[1730 rows x 6 columns]"
      ]
     },
     "metadata": {},
     "output_type": "display_data"
    }
   ],
   "source": [
    "display(df)"
   ]
  },
  {
   "attachments": {},
   "cell_type": "markdown",
   "metadata": {
    "datalore": {
     "hide_input_from_viewers": false,
     "hide_output_from_viewers": false,
     "node_id": "AOPBtCnVf2xZIxLXk8CPYK",
     "type": "MD"
    }
   },
   "source": [
    "## Menampilkan Ringkasan Statistik dari DataFrame"
   ]
  },
  {
   "cell_type": "code",
   "execution_count": 10,
   "metadata": {
    "datalore": {
     "hide_input_from_viewers": false,
     "hide_output_from_viewers": false,
     "node_id": "BWU1U2c8Xf0fecYcRkf8Km",
     "type": "CODE"
    }
   },
   "outputs": [
    {
     "data": {
      "text/html": [
       "<div>\n",
       "<style scoped>\n",
       "    .dataframe tbody tr th:only-of-type {\n",
       "        vertical-align: middle;\n",
       "    }\n",
       "\n",
       "    .dataframe tbody tr th {\n",
       "        vertical-align: top;\n",
       "    }\n",
       "\n",
       "    .dataframe thead th {\n",
       "        text-align: right;\n",
       "    }\n",
       "</style>\n",
       "<table border=\"1\" class=\"dataframe\">\n",
       "  <thead>\n",
       "    <tr style=\"text-align: right;\">\n",
       "      <th></th>\n",
       "      <th>average_rating</th>\n",
       "      <th>install (K)</th>\n",
       "      <th>great</th>\n",
       "      <th>poor</th>\n",
       "    </tr>\n",
       "  </thead>\n",
       "  <tbody>\n",
       "    <tr>\n",
       "      <th>count</th>\n",
       "      <td>1730.000000</td>\n",
       "      <td>1730.000000</td>\n",
       "      <td>1730.000000</td>\n",
       "      <td>1730.000000</td>\n",
       "    </tr>\n",
       "    <tr>\n",
       "      <th>mean</th>\n",
       "      <td>4.313410</td>\n",
       "      <td>28894.624277</td>\n",
       "      <td>82.200989</td>\n",
       "      <td>11.909658</td>\n",
       "    </tr>\n",
       "    <tr>\n",
       "      <th>std</th>\n",
       "      <td>0.253545</td>\n",
       "      <td>58100.441838</td>\n",
       "      <td>7.270490</td>\n",
       "      <td>6.183109</td>\n",
       "    </tr>\n",
       "    <tr>\n",
       "      <th>min</th>\n",
       "      <td>3.090000</td>\n",
       "      <td>100.000000</td>\n",
       "      <td>48.731953</td>\n",
       "      <td>0.795315</td>\n",
       "    </tr>\n",
       "    <tr>\n",
       "      <th>25%</th>\n",
       "      <td>4.180000</td>\n",
       "      <td>5000.000000</td>\n",
       "      <td>78.216136</td>\n",
       "      <td>7.220126</td>\n",
       "    </tr>\n",
       "    <tr>\n",
       "      <th>50%</th>\n",
       "      <td>4.330000</td>\n",
       "      <td>10000.000000</td>\n",
       "      <td>82.667720</td>\n",
       "      <td>11.217507</td>\n",
       "    </tr>\n",
       "    <tr>\n",
       "      <th>75%</th>\n",
       "      <td>4.490000</td>\n",
       "      <td>50000.000000</td>\n",
       "      <td>87.367990</td>\n",
       "      <td>15.358730</td>\n",
       "    </tr>\n",
       "    <tr>\n",
       "      <th>max</th>\n",
       "      <td>4.910000</td>\n",
       "      <td>1000000.000000</td>\n",
       "      <td>98.294662</td>\n",
       "      <td>43.948247</td>\n",
       "    </tr>\n",
       "  </tbody>\n",
       "</table>\n",
       "</div>"
      ],
      "text/plain": [
       "       average_rating     install (K)        great         poor\n",
       "count     1730.000000     1730.000000  1730.000000  1730.000000\n",
       "mean         4.313410    28894.624277    82.200989    11.909658\n",
       "std          0.253545    58100.441838     7.270490     6.183109\n",
       "min          3.090000      100.000000    48.731953     0.795315\n",
       "25%          4.180000     5000.000000    78.216136     7.220126\n",
       "50%          4.330000    10000.000000    82.667720    11.217507\n",
       "75%          4.490000    50000.000000    87.367990    15.358730\n",
       "max          4.910000  1000000.000000    98.294662    43.948247"
      ]
     },
     "metadata": {},
     "output_type": "display_data"
    }
   ],
   "source": [
    "describe = df.describe()\n",
    "display(describe)"
   ]
  },
  {
   "attachments": {},
   "cell_type": "markdown",
   "metadata": {
    "datalore": {
     "hide_input_from_viewers": false,
     "hide_output_from_viewers": false,
     "node_id": "Me7liAqTFLM9FvNY9TKXD6",
     "type": "MD"
    }
   },
   "source": [
    "## Mencari Modus dari masing-masing parameter dataframe"
   ]
  },
  {
   "cell_type": "code",
   "execution_count": 11,
   "metadata": {
    "datalore": {
     "hide_input_from_viewers": false,
     "hide_output_from_viewers": false,
     "node_id": "s2DQ00yaew8zqPgmvdjLdj",
     "type": "CODE"
    }
   },
   "outputs": [
    {
     "name": "stdout",
     "output_type": "stream",
     "text": [
      "0       82.319726\n",
      "1       80.007311\n",
      "2       76.045223\n",
      "3       81.295930\n",
      "4       82.755960\n",
      "          ...    \n",
      "1725    92.953607\n",
      "1726    79.316699\n",
      "1727    88.351662\n",
      "1728    93.113672\n",
      "1729    84.946315\n",
      "Name: great, Length: 1730, dtype: float64\n"
     ]
    }
   ],
   "source": [
    "print(df['great'])"
   ]
  },
  {
   "cell_type": "code",
   "execution_count": 12,
   "metadata": {
    "datalore": {
     "hide_input_from_viewers": false,
     "hide_output_from_viewers": false,
     "node_id": "68GPfMKONDd6iXKy18Usv2",
     "type": "CODE"
    }
   },
   "outputs": [
    {
     "name": "stdout",
     "output_type": "stream",
     "text": [
      "modus average rating = 4.3\n",
      "modus install (K) = 10000.0\n",
      "modus great = 89.90595973219078\n",
      "modus poor = 5.090760531000174\n"
     ]
    }
   ],
   "source": [
    "import statistics as stat\n",
    "modus_average_rating = stat.mode(df[\"average_rating\"])\n",
    "print(\"modus average rating =\",modus_average_rating)\n",
    "modus_install = stat.mode(df[\"install (K)\"])\n",
    "print(\"modus install (K) =\",  modus_install)\n",
    "modus_great = stat.mode(df[\"great\"])\n",
    "print(\"modus great =\",modus_great)\n",
    "modus_poor = stat.mode(df[\"poor\"])\n",
    "print(\"modus poor =\" , modus_poor)"
   ]
  },
  {
   "attachments": {},
   "cell_type": "markdown",
   "metadata": {
    "datalore": {
     "hide_input_from_viewers": false,
     "hide_output_from_viewers": false,
     "node_id": "yRsBBSTvSRqSFmfIrQXtTx",
     "type": "MD"
    }
   },
   "source": [
    "## Mencari IQR untuk masing-masing parameter"
   ]
  },
  {
   "cell_type": "code",
   "execution_count": 13,
   "metadata": {
    "datalore": {
     "hide_input_from_viewers": false,
     "hide_output_from_viewers": false,
     "node_id": "P396nuCVtZEpOzpuIpfGv4",
     "type": "CODE"
    }
   },
   "outputs": [
    {
     "data": {
      "text/plain": [
       "average_rating        0.310000\n",
       "install (K)       45000.000000\n",
       "great                 9.151854\n",
       "poor                  8.138604\n",
       "dtype: float64"
      ]
     },
     "execution_count": 13,
     "metadata": {},
     "output_type": "execute_result"
    }
   ],
   "source": [
    "# IQR masing-masing kategori atau Jangkauan Interkuartil\n",
    "q1 = df.describe().loc[\"25%\"]\n",
    "q3 = df.describe().loc[\"75%\"]\n",
    "iqr = q3 - q1\n",
    "iqr"
   ]
  },
  {
   "attachments": {},
   "cell_type": "markdown",
   "metadata": {
    "datalore": {
     "hide_input_from_viewers": false,
     "hide_output_from_viewers": false,
     "node_id": "VtLqxWXM6aAejDW8ef2QHd",
     "type": "MD"
    }
   },
   "source": [
    "## Membuat Rangkuman Statistika atas parameter #averagerating, #install, #great, dan #poor"
   ]
  },
  {
   "cell_type": "code",
   "execution_count": 14,
   "metadata": {
    "datalore": {
     "hide_input_from_viewers": false,
     "hide_output_from_viewers": false,
     "node_id": "n6HUHqh4UUXP2Y19K9Auj5",
     "type": "CODE"
    }
   },
   "outputs": [
    {
     "data": {
      "text/html": [
       "<div>\n",
       "<style scoped>\n",
       "    .dataframe tbody tr th:only-of-type {\n",
       "        vertical-align: middle;\n",
       "    }\n",
       "\n",
       "    .dataframe tbody tr th {\n",
       "        vertical-align: top;\n",
       "    }\n",
       "\n",
       "    .dataframe thead th {\n",
       "        text-align: right;\n",
       "    }\n",
       "</style>\n",
       "<table border=\"1\" class=\"dataframe\">\n",
       "  <thead>\n",
       "    <tr style=\"text-align: right;\">\n",
       "      <th></th>\n",
       "      <th>average_rating</th>\n",
       "      <th>install (K)</th>\n",
       "      <th>great</th>\n",
       "      <th>poor</th>\n",
       "    </tr>\n",
       "  </thead>\n",
       "  <tbody>\n",
       "    <tr>\n",
       "      <th>mean</th>\n",
       "      <td>4.313410</td>\n",
       "      <td>28894.624277</td>\n",
       "      <td>82.200989</td>\n",
       "      <td>11.909658</td>\n",
       "    </tr>\n",
       "    <tr>\n",
       "      <th>median</th>\n",
       "      <td>4.330000</td>\n",
       "      <td>10000.000000</td>\n",
       "      <td>82.667720</td>\n",
       "      <td>11.217507</td>\n",
       "    </tr>\n",
       "    <tr>\n",
       "      <th>modus</th>\n",
       "      <td>4.300000</td>\n",
       "      <td>10000.000000</td>\n",
       "      <td>89.905960</td>\n",
       "      <td>5.090761</td>\n",
       "    </tr>\n",
       "    <tr>\n",
       "      <th>std</th>\n",
       "      <td>0.253545</td>\n",
       "      <td>58100.441838</td>\n",
       "      <td>7.270490</td>\n",
       "      <td>6.183109</td>\n",
       "    </tr>\n",
       "    <tr>\n",
       "      <th>Q1</th>\n",
       "      <td>4.180000</td>\n",
       "      <td>5000.000000</td>\n",
       "      <td>78.216136</td>\n",
       "      <td>7.220126</td>\n",
       "    </tr>\n",
       "    <tr>\n",
       "      <th>Q3</th>\n",
       "      <td>4.490000</td>\n",
       "      <td>50000.000000</td>\n",
       "      <td>87.367990</td>\n",
       "      <td>15.358730</td>\n",
       "    </tr>\n",
       "    <tr>\n",
       "      <th>IQR</th>\n",
       "      <td>0.310000</td>\n",
       "      <td>45000.000000</td>\n",
       "      <td>9.151854</td>\n",
       "      <td>8.138604</td>\n",
       "    </tr>\n",
       "  </tbody>\n",
       "</table>\n",
       "</div>"
      ],
      "text/plain": [
       "        average_rating   install (K)      great       poor\n",
       "mean          4.313410  28894.624277  82.200989  11.909658\n",
       "median        4.330000  10000.000000  82.667720  11.217507\n",
       "modus         4.300000  10000.000000  89.905960   5.090761\n",
       "std           0.253545  58100.441838   7.270490   6.183109\n",
       "Q1            4.180000   5000.000000  78.216136   7.220126\n",
       "Q3            4.490000  50000.000000  87.367990  15.358730\n",
       "IQR           0.310000  45000.000000   9.151854   8.138604"
      ]
     },
     "metadata": {},
     "output_type": "display_data"
    }
   ],
   "source": [
    "nomor1 = describe.iloc[[1, 5]]\n",
    "nomor1 = pd.concat([nomor1, pd.DataFrame([[modus_average_rating, modus_install, modus_great, modus_poor]], index=[\"modus\"], columns=[\"average_rating\", \"install (K)\", \"great\", \"poor\"])])\n",
    "nomor1 = pd.concat([nomor1, describe.iloc[[2, 4, 6]]])\n",
    "nomor1 = pd.concat([nomor1, pd.DataFrame(iqr).T])\n",
    "nomor1 = nomor1.rename(index= {\"25%\" : \"Q1\", \"50%\": \"median\", \"75%\": \"Q3\", 0: \"IQR\"})\n",
    "display(nomor1)"
   ]
  },
  {
   "attachments": {},
   "cell_type": "markdown",
   "metadata": {
    "datalore": {
     "hide_input_from_viewers": false,
     "hide_output_from_viewers": false,
     "node_id": "4SVr7l7l41UH7vWYpu25mR",
     "type": "MD"
    }
   },
   "source": [
    "## Mencari dan Menampilkan Pencilan masing-masing parameter"
   ]
  },
  {
   "cell_type": "code",
   "execution_count": 15,
   "metadata": {
    "datalore": {
     "hide_input_from_viewers": false,
     "hide_output_from_viewers": false,
     "node_id": "IPEkaUv27CgD0ZbUmekNwo",
     "type": "CODE"
    }
   },
   "outputs": [
    {
     "name": "stdout",
     "output_type": "stream",
     "text": [
      "Batas atas:\n",
      "average_rating         4.955000\n",
      "install (K)       117500.000000\n",
      "great                101.095771\n",
      "poor                  27.566637\n",
      "dtype: float64\n",
      "\n",
      "Batas bawah:\n",
      "average_rating        3.715000\n",
      "install (K)      -62500.000000\n",
      "great                64.488355\n",
      "poor                 -4.987781\n",
      "dtype: float64\n"
     ]
    }
   ],
   "source": [
    "upperbound = q3 + (1.5 * iqr)\n",
    "lowerbound = q1 - (1.5 * iqr)\n",
    "print(\"Batas atas:\")\n",
    "print(upperbound)\n",
    "print(\"\\nBatas bawah:\")\n",
    "print(lowerbound)"
   ]
  },
  {
   "attachments": {},
   "cell_type": "markdown",
   "metadata": {
    "datalore": {
     "hide_input_from_viewers": false,
     "hide_output_from_viewers": false,
     "node_id": "WwFQbEqanOkP8ngZiyeZwd",
     "type": "MD"
    }
   },
   "source": []
  },
  {
   "cell_type": "code",
   "execution_count": 16,
   "metadata": {
    "datalore": {
     "hide_input_from_viewers": false,
     "hide_output_from_viewers": false,
     "node_id": "1R2oQEgyC0zyFHBJiqCPV2",
     "type": "CODE"
    }
   },
   "outputs": [
    {
     "data": {
      "text/html": [
       "<div>\n",
       "<style scoped>\n",
       "    .dataframe tbody tr th:only-of-type {\n",
       "        vertical-align: middle;\n",
       "    }\n",
       "\n",
       "    .dataframe tbody tr th {\n",
       "        vertical-align: top;\n",
       "    }\n",
       "\n",
       "    .dataframe thead th {\n",
       "        text-align: right;\n",
       "    }\n",
       "</style>\n",
       "<table border=\"1\" class=\"dataframe\">\n",
       "  <thead>\n",
       "    <tr style=\"text-align: right;\">\n",
       "      <th></th>\n",
       "      <th>jenis</th>\n",
       "      <th>jumlah pencilan</th>\n",
       "      <th>pencilan</th>\n",
       "    </tr>\n",
       "  </thead>\n",
       "  <tbody>\n",
       "    <tr>\n",
       "      <th>0</th>\n",
       "      <td>average_rating</td>\n",
       "      <td>49</td>\n",
       "      <td>[3.09, 3.13, 3.16, 3.2, 3.21, 3.36, 3.37, 3.39...</td>\n",
       "    </tr>\n",
       "    <tr>\n",
       "      <th>1</th>\n",
       "      <td>install (K)</td>\n",
       "      <td>12</td>\n",
       "      <td>[500000.0, 1000000.0]</td>\n",
       "    </tr>\n",
       "    <tr>\n",
       "      <th>2</th>\n",
       "      <td>great</td>\n",
       "      <td>42</td>\n",
       "      <td>[48.73195295979066, 49.31699381010599, 50.4054...</td>\n",
       "    </tr>\n",
       "    <tr>\n",
       "      <th>3</th>\n",
       "      <td>poor</td>\n",
       "      <td>42</td>\n",
       "      <td>[27.777039890202325, 27.815934967891053, 27.86...</td>\n",
       "    </tr>\n",
       "  </tbody>\n",
       "</table>\n",
       "</div>"
      ],
      "text/plain": [
       "            jenis  jumlah pencilan  \\\n",
       "0  average_rating               49   \n",
       "1     install (K)               12   \n",
       "2           great               42   \n",
       "3            poor               42   \n",
       "\n",
       "                                            pencilan  \n",
       "0  [3.09, 3.13, 3.16, 3.2, 3.21, 3.36, 3.37, 3.39...  \n",
       "1                              [500000.0, 1000000.0]  \n",
       "2  [48.73195295979066, 49.31699381010599, 50.4054...  \n",
       "3  [27.777039890202325, 27.815934967891053, 27.86...  "
      ]
     },
     "execution_count": 16,
     "metadata": {},
     "output_type": "execute_result"
    }
   ],
   "source": [
    "pencilan_avg_rt = df[\"average_rating\"][(df[\"average_rating\"] < lowerbound.iloc[0])|(df[\"average_rating\"] > upperbound.iloc[0])].tolist()\n",
    "pencilan_install = df[\"install (K)\"][(df[\"install (K)\"] < lowerbound.iloc[1])|(df[\"install (K)\"] > upperbound.iloc[1])].tolist()\n",
    "pencilan_great = df[\"great\"][(df[\"great\"] < lowerbound.iloc[2])|(df[\"great\"] > upperbound.iloc[2])].tolist()\n",
    "pencilan_poor = df[\"poor\"][(df[\"poor\"] < lowerbound.iloc[3])|(df[\"poor\"] > upperbound.iloc[3])].tolist()\n",
    "\n",
    "pd.DataFrame({\"jenis\" : [\"average_rating\", \"install (K)\", \"great\", \"poor\"],\n",
    "              \"jumlah pencilan\" : [len(pencilan_avg_rt), len(pencilan_install), len(pencilan_great), len(pencilan_poor)],\n",
    "              \"pencilan\" : [sorted(list(set(pencilan_avg_rt))), sorted(list(set(pencilan_install))), sorted(list(set(pencilan_great))), sorted(list(set(pencilan_poor)))]\n",
    "              })"
   ]
  },
  {
   "cell_type": "code",
   "execution_count": 17,
   "metadata": {
    "datalore": {
     "hide_input_from_viewers": false,
     "hide_output_from_viewers": false,
     "node_id": "ii4f9fP9Ij4zOpXFCUTZkm",
     "type": "CODE"
    }
   },
   "outputs": [
    {
     "data": {
      "text/plain": [
       "0       4.33\n",
       "1       4.24\n",
       "2       4.08\n",
       "3       4.27\n",
       "4       4.33\n",
       "        ... \n",
       "1725    4.67\n",
       "1726    4.21\n",
       "1727    4.52\n",
       "1728    4.76\n",
       "1729    4.38\n",
       "Name: average_rating, Length: 1730, dtype: float64"
      ]
     },
     "execution_count": 17,
     "metadata": {},
     "output_type": "execute_result"
    }
   ],
   "source": [
    "df['average_rating']"
   ]
  },
  {
   "cell_type": "code",
   "execution_count": 18,
   "metadata": {
    "datalore": {
     "hide_input_from_viewers": false,
     "hide_output_from_viewers": false,
     "node_id": "AGQFvC5g8HoBAQovaU7Y17",
     "type": "CODE"
    }
   },
   "outputs": [
    {
     "data": {
      "text/plain": [
       "[500000.0,\n",
       " 500000.0,\n",
       " 1000000.0,\n",
       " 500000.0,\n",
       " 500000.0,\n",
       " 1000000.0,\n",
       " 500000.0,\n",
       " 500000.0,\n",
       " 500000.0,\n",
       " 500000.0,\n",
       " 500000.0,\n",
       " 500000.0]"
      ]
     },
     "execution_count": 18,
     "metadata": {},
     "output_type": "execute_result"
    }
   ],
   "source": [
    "pencilan_install = df[\"install (K)\"][df[\"install (K)\"] > 100000].tolist()\n",
    "(pencilan_install)"
   ]
  },
  {
   "cell_type": "code",
   "execution_count": 19,
   "metadata": {
    "datalore": {
     "hide_input_from_viewers": false,
     "hide_output_from_viewers": false,
     "node_id": "jK5GGbe2zPzLCuHfi5GgTS",
     "type": "CODE"
    }
   },
   "outputs": [
    {
     "data": {
      "text/html": [
       "<div>\n",
       "<style scoped>\n",
       "    .dataframe tbody tr th:only-of-type {\n",
       "        vertical-align: middle;\n",
       "    }\n",
       "\n",
       "    .dataframe tbody tr th {\n",
       "        vertical-align: top;\n",
       "    }\n",
       "\n",
       "    .dataframe thead th {\n",
       "        text-align: right;\n",
       "    }\n",
       "</style>\n",
       "<table border=\"1\" class=\"dataframe\">\n",
       "  <thead>\n",
       "    <tr style=\"text-align: right;\">\n",
       "      <th></th>\n",
       "      <th>title</th>\n",
       "      <th>average_rating</th>\n",
       "      <th>install (K)</th>\n",
       "      <th>great</th>\n",
       "      <th>poor</th>\n",
       "      <th>category</th>\n",
       "    </tr>\n",
       "  </thead>\n",
       "  <tbody>\n",
       "    <tr>\n",
       "      <th>200</th>\n",
       "      <td>Subway Surfers</td>\n",
       "      <td>4.44</td>\n",
       "      <td>1000000.0</td>\n",
       "      <td>85.590572</td>\n",
       "      <td>9.825235</td>\n",
       "      <td>GAME ARCADE</td>\n",
       "    </tr>\n",
       "    <tr>\n",
       "      <th>622</th>\n",
       "      <td>Candy Crush Saga</td>\n",
       "      <td>4.56</td>\n",
       "      <td>1000000.0</td>\n",
       "      <td>89.600463</td>\n",
       "      <td>5.587845</td>\n",
       "      <td>GAME CASUAL</td>\n",
       "    </tr>\n",
       "    <tr>\n",
       "      <th>0</th>\n",
       "      <td>Garena Free Fire - The Cobra</td>\n",
       "      <td>4.33</td>\n",
       "      <td>500000.0</td>\n",
       "      <td>82.319726</td>\n",
       "      <td>14.215700</td>\n",
       "      <td>GAME ACTION</td>\n",
       "    </tr>\n",
       "    <tr>\n",
       "      <th>624</th>\n",
       "      <td>My Talking Angela</td>\n",
       "      <td>4.19</td>\n",
       "      <td>500000.0</td>\n",
       "      <td>78.550867</td>\n",
       "      <td>16.481059</td>\n",
       "      <td>GAME CASUAL</td>\n",
       "    </tr>\n",
       "    <tr>\n",
       "      <th>1024</th>\n",
       "      <td>Hill Climb Racing</td>\n",
       "      <td>4.26</td>\n",
       "      <td>500000.0</td>\n",
       "      <td>80.067952</td>\n",
       "      <td>14.013051</td>\n",
       "      <td>GAME RACING</td>\n",
       "    </tr>\n",
       "    <tr>\n",
       "      <th>208</th>\n",
       "      <td>Temple Run</td>\n",
       "      <td>4.08</td>\n",
       "      <td>500000.0</td>\n",
       "      <td>74.898751</td>\n",
       "      <td>18.387042</td>\n",
       "      <td>GAME ARCADE</td>\n",
       "    </tr>\n",
       "    <tr>\n",
       "      <th>1332</th>\n",
       "      <td>8 Ball Pool</td>\n",
       "      <td>4.46</td>\n",
       "      <td>500000.0</td>\n",
       "      <td>87.188324</td>\n",
       "      <td>8.283168</td>\n",
       "      <td>GAME SPORTS</td>\n",
       "    </tr>\n",
       "    <tr>\n",
       "      <th>1424</th>\n",
       "      <td>Clash of Clans</td>\n",
       "      <td>4.49</td>\n",
       "      <td>500000.0</td>\n",
       "      <td>87.244642</td>\n",
       "      <td>8.613029</td>\n",
       "      <td>GAME STRATEGY</td>\n",
       "    </tr>\n",
       "    <tr>\n",
       "      <th>300</th>\n",
       "      <td>Ludo King™</td>\n",
       "      <td>4.28</td>\n",
       "      <td>500000.0</td>\n",
       "      <td>81.446822</td>\n",
       "      <td>13.460534</td>\n",
       "      <td>GAME BOARD</td>\n",
       "    </tr>\n",
       "    <tr>\n",
       "      <th>626</th>\n",
       "      <td>Pou</td>\n",
       "      <td>4.28</td>\n",
       "      <td>500000.0</td>\n",
       "      <td>80.448091</td>\n",
       "      <td>13.510163</td>\n",
       "      <td>GAME CASUAL</td>\n",
       "    </tr>\n",
       "    <tr>\n",
       "      <th>623</th>\n",
       "      <td>My Talking Tom</td>\n",
       "      <td>4.33</td>\n",
       "      <td>500000.0</td>\n",
       "      <td>82.335899</td>\n",
       "      <td>12.603071</td>\n",
       "      <td>GAME CASUAL</td>\n",
       "    </tr>\n",
       "    <tr>\n",
       "      <th>8</th>\n",
       "      <td>Temple Run 2</td>\n",
       "      <td>4.21</td>\n",
       "      <td>500000.0</td>\n",
       "      <td>78.677040</td>\n",
       "      <td>14.880761</td>\n",
       "      <td>GAME ACTION</td>\n",
       "    </tr>\n",
       "  </tbody>\n",
       "</table>\n",
       "</div>"
      ],
      "text/plain": [
       "                             title  average_rating  install (K)      great  \\\n",
       "200                 Subway Surfers            4.44    1000000.0  85.590572   \n",
       "622               Candy Crush Saga            4.56    1000000.0  89.600463   \n",
       "0     Garena Free Fire - The Cobra            4.33     500000.0  82.319726   \n",
       "624              My Talking Angela            4.19     500000.0  78.550867   \n",
       "1024             Hill Climb Racing            4.26     500000.0  80.067952   \n",
       "208                     Temple Run            4.08     500000.0  74.898751   \n",
       "1332                   8 Ball Pool            4.46     500000.0  87.188324   \n",
       "1424                Clash of Clans            4.49     500000.0  87.244642   \n",
       "300                     Ludo King™            4.28     500000.0  81.446822   \n",
       "626                            Pou            4.28     500000.0  80.448091   \n",
       "623                 My Talking Tom            4.33     500000.0  82.335899   \n",
       "8                     Temple Run 2            4.21     500000.0  78.677040   \n",
       "\n",
       "           poor       category  \n",
       "200    9.825235    GAME ARCADE  \n",
       "622    5.587845    GAME CASUAL  \n",
       "0     14.215700    GAME ACTION  \n",
       "624   16.481059    GAME CASUAL  \n",
       "1024  14.013051    GAME RACING  \n",
       "208   18.387042    GAME ARCADE  \n",
       "1332   8.283168    GAME SPORTS  \n",
       "1424   8.613029  GAME STRATEGY  \n",
       "300   13.460534     GAME BOARD  \n",
       "626   13.510163    GAME CASUAL  \n",
       "623   12.603071    GAME CASUAL  \n",
       "8     14.880761    GAME ACTION  "
      ]
     },
     "execution_count": 19,
     "metadata": {},
     "output_type": "execute_result"
    }
   ],
   "source": [
    "df.sort_values('install (K)', ascending=False).head(12)"
   ]
  },
  {
   "attachments": {},
   "cell_type": "markdown",
   "metadata": {
    "datalore": {
     "hide_input_from_viewers": false,
     "hide_output_from_viewers": false,
     "node_id": "fjMi1QCCDKGDUnqpnpypBP",
     "type": "MD"
    }
   },
   "source": [
    "# Membuat Visualiasi Data Paramater "
   ]
  },
  {
   "attachments": {},
   "cell_type": "markdown",
   "metadata": {
    "datalore": {
     "hide_input_from_viewers": false,
     "hide_output_from_viewers": false,
     "node_id": "ZzEIfHAYepMoEp1cZsXZxm",
     "type": "MD"
    }
   },
   "source": [
    "## Histogram Data Parameter"
   ]
  },
  {
   "cell_type": "code",
   "execution_count": 20,
   "metadata": {
    "datalore": {
     "hide_input_from_viewers": false,
     "hide_output_from_viewers": false,
     "node_id": "cATIWnBhKGGnyvBnIlL49s",
     "type": "CODE"
    }
   },
   "outputs": [
    {
     "data": {
      "image/png": "[encoded data removed]",
      "text/plain": [
       "<Figure size 1440x720 with 4 Axes>"
      ]
     },
     "metadata": {
      "needs_background": "light"
     },
     "output_type": "display_data"
    }
   ],
   "source": [
    "import seaborn as sns\n",
    "average_rating_bins = 2*iqr[0]/(len(df['average_rating'])**(1/3))\n",
    "average_rating_install_k = 2*iqr[1]/(len(df['install (K)'])**(1/3))\n",
    "average_rating_great = 2*iqr[2]/(len(df['great'])**(1/3))\n",
    "average_rating_poor = 2*iqr[3]/(len(df['poor'])**(1/3))\n",
    "plt.figure(figsize=(20,10))\n",
    "plt.subplot(221)\n",
    "ax_1 = sns.histplot(data=df[[\"average_rating\"]], x='average_rating',binwidth=average_rating_bins,color='blue',kde=True)\n",
    "ax_1.set(xlabel='Average Rating', ylabel='#games')\n",
    "plt.subplot(222)\n",
    "ax_2 = sns.histplot(data=df[[\"install (K)\"]], x='install (K)',binwidth=10000,color='red',kde=True)\n",
    "ax_2.set(ylabel='#games')\n",
    "plt.ticklabel_format(useOffset=False, style='plain')\n",
    "plt.subplot(223)\n",
    "ax_3 = sns.histplot(data=df[[\"great\"]], x='great',binwidth=average_rating_great,color='skyblue',kde=True)\n",
    "ax_3.set(ylabel='#games')\n",
    "plt.subplot(224)\n",
    "ax_4 = sns.histplot(data=df[[\"poor\"]], x='poor',binwidth=average_rating_poor,color='orange',kde=True)\n",
    "ax_4.set(ylabel='#games')\n",
    "plt.plot()\n",
    "plt.show()"
   ]
  },
  {
   "cell_type": "code",
   "execution_count": 22,
   "metadata": {
    "datalore": {
     "hide_input_from_viewers": false,
     "hide_output_from_viewers": false,
     "node_id": "h0bgiYJow7ZlPZGKTXAreL",
     "type": "CODE"
    }
   },
   "outputs": [
    {
     "data": {
      "text/plain": [
       "10000.0      795\n",
       "50000.0      266\n",
       "5000.0       248\n",
       "100000.0     203\n",
       "1000.0       191\n",
       "500.0         13\n",
       "500000.0      10\n",
       "1000000.0      2\n",
       "100.0          2\n",
       "Name: install (K), dtype: int64"
      ]
     },
     "execution_count": 22,
     "metadata": {},
     "output_type": "execute_result"
    }
   ],
   "source": [
    "df['install (K)'].value_counts().sort_values(ascending=False)"
   ]
  },
  {
   "cell_type": "code",
   "execution_count": 23,
   "metadata": {
    "datalore": {
     "hide_input_from_viewers": false,
     "hide_output_from_viewers": false,
     "node_id": "eSfWNtFs1q2KmjGTKxsIxN",
     "type": "CODE"
    }
   },
   "outputs": [
    {
     "name": "stdout",
     "output_type": "stream",
     "text": [
      "100.0          2\n",
      "500.0         13\n",
      "1000.0       191\n",
      "5000.0       248\n",
      "10000.0      795\n",
      "50000.0      266\n",
      "100000.0     203\n",
      "500000.0      10\n",
      "1000000.0      2\n",
      "Name: install (K), dtype: int64\n"
     ]
    },
    {
     "data": {
      "text/plain": [
       "<AxesSubplot:>"
      ]
     },
     "execution_count": 23,
     "metadata": {},
     "output_type": "execute_result"
    },
    {
     "data": {
      "image/png": "[encoded data removed]",
      "text/plain": [
       "<Figure size 432x288 with 1 Axes>"
      ]
     },
     "metadata": {
      "needs_background": "light"
     },
     "output_type": "display_data"
    }
   ],
   "source": [
    "barplot = df[\"install (K)\"].value_counts().sort_index()\n",
    "print(barplot)\n",
    "barplot.plot(kind=\"bar\")\n",
    "# fig, ax = plt.subplots()\n",
    "# df.plot(ax=ax, kind='bar', xlabel=\"Install (K)\", ylabel=\"Frequency\")\n",
    "# plt.show()"
   ]
  },
  {
   "cell_type": "code",
   "execution_count": 24,
   "metadata": {
    "datalore": {
     "hide_input_from_viewers": false,
     "hide_output_from_viewers": false,
     "node_id": "vGnigPwjSbfn7Y8D8cjW9i",
     "type": "CODE"
    }
   },
   "outputs": [
    {
     "data": {
      "image/png": "[encoded data removed]",
      "text/plain": [
       "<Figure size 1440x1008 with 4 Axes>"
      ]
     },
     "metadata": {
      "needs_background": "light"
     },
     "output_type": "display_data"
    }
   ],
   "source": [
    "import seaborn as sns\n",
    "average_rating_bins = 2*iqr[0]/(len(df['average_rating'])**(1/3))\n",
    "average_rating_install_k = 2*iqr[1]/(len(df['install (K)'])**(1/3))\n",
    "average_rating_great = 2*iqr[2]/(len(df['great'])**(1/3))\n",
    "average_rating_poor = 2*iqr[3]/(len(df['poor'])**(1/3))\n",
    "plt.figure(figsize=(20,14))\n",
    "plt.subplot(221)\n",
    "ax1 = sns.histplot(data=df[[\"average_rating\"]],binwidth=average_rating_bins,color='blue',kde=True)\n",
    "plt.title('Average Rating')\n",
    "plt.subplot(222)\n",
    "barplot.plot(kind=\"bar\")\n",
    "plt.title('install (K)')\n",
    "plt.subplot(223)\n",
    "ax2  = sns.histplot(data=df[[\"great\"]], binwidth=average_rating_great,color='skyblue',kde=True)\n",
    "plt.title('great')\n",
    "plt.subplot(224)\n",
    "ax3 = sns.histplot(data=df[[\"poor\"]], binwidth=average_rating_poor,color='orange',kde=True)\n",
    "plt.title('poor')\n",
    "plt.plot()\n",
    "plt.show()"
   ]
  },
  {
   "attachments": {},
   "cell_type": "markdown",
   "metadata": {
    "datalore": {
     "hide_input_from_viewers": false,
     "hide_output_from_viewers": false,
     "node_id": "k3Yj5TRFMb5yWj4jeW1nl7",
     "type": "MD"
    }
   },
   "source": [
    "## BoxPlot Data Parameter"
   ]
  },
  {
   "cell_type": "code",
   "execution_count": 25,
   "metadata": {
    "datalore": {
     "hide_input_from_viewers": false,
     "hide_output_from_viewers": false,
     "node_id": "iXNZ0K8owJtxC93dC3PEcV",
     "type": "CODE"
    }
   },
   "outputs": [
    {
     "data": {
      "image/png": "[encoded data removed]",
      "text/plain": [
       "<Figure size 1080x720 with 4 Axes>"
      ]
     },
     "metadata": {
      "needs_background": "light"
     },
     "output_type": "display_data"
    }
   ],
   "source": [
    "plt.figure(figsize=(15, 10))\n",
    "plt.subplot(221)\n",
    "sns.boxplot(data=df[\"average_rating\"])\n",
    "plt.title(\"Average Rating\")\n",
    "plt.xticks([])\n",
    "plt.subplot(222)\n",
    "sns.boxplot(data=df[\"install (K)\"])\n",
    "plt.title(\"Install (K)\")\n",
    "plt.xticks([])\n",
    "plt.subplot(223)\n",
    "sns.boxplot(data=df[\"great\"])\n",
    "plt.title(\"Great\")\n",
    "plt.xticks([])\n",
    "plt.subplot(224)\n",
    "sns.boxplot(data=df[\"poor\"])\n",
    "plt.title(\"Poor\")\n",
    "plt.xticks([])\n",
    "plt.show()"
   ]
  },
  {
   "attachments": {},
   "cell_type": "markdown",
   "metadata": {
    "datalore": {
     "hide_input_from_viewers": false,
     "hide_output_from_viewers": false,
     "node_id": "6w1usc0Swi3J1XIO5RJ689",
     "type": "MD"
    }
   },
   "source": [
    "# Mendeskripsikan perilaku data #averagerating berdasarkan kelompok category"
   ]
  },
  {
   "attachments": {},
   "cell_type": "markdown",
   "metadata": {
    "datalore": {
     "hide_input_from_viewers": false,
     "hide_output_from_viewers": false,
     "node_id": "mQmyGYm823fXi9zV3SWaza",
     "type": "MD"
    }
   },
   "source": [
    "## Menyimpan Rata-Rata average rating dari masing-masing kategori Game"
   ]
  },
  {
   "cell_type": "code",
   "execution_count": 26,
   "metadata": {
    "datalore": {
     "hide_input_from_viewers": false,
     "hide_output_from_viewers": false,
     "node_id": "Vd5dU41RLbXNIheD9yjSSQ",
     "type": "CODE"
    }
   },
   "outputs": [
    {
     "data": {
      "text/plain": [
       "category\n",
       "GAME WORD            4.443585\n",
       "GAME CASINO          4.437800\n",
       "GAME CARD            4.421066\n",
       "GAME PUZZLE          4.394200\n",
       "GAME BOARD           4.347100\n",
       "GAME CASUAL          4.335196\n",
       "GAME SIMULATION      4.318200\n",
       "GAME RACING          4.312000\n",
       "GAME ARCADE          4.294900\n",
       "GAME ROLE PLAYING    4.276000\n",
       "GAME STRATEGY        4.265000\n",
       "GAME ADVENTURE       4.264200\n",
       "GAME SPORTS          4.261100\n",
       "GAME EDUCATIONAL     4.253600\n",
       "GAME ACTION          4.246100\n",
       "GAME TRIVIA          4.245700\n",
       "GAME MUSIC           4.180300\n",
       "Name: average_rating, dtype: float64"
      ]
     },
     "execution_count": 26,
     "metadata": {},
     "output_type": "execute_result"
    }
   ],
   "source": [
    "average_rating_category_mean = df.groupby('category').mean()['average_rating'].sort_values(ascending=False)\n",
    "average_rating_category_mean"
   ]
  },
  {
   "attachments": {},
   "cell_type": "markdown",
   "metadata": {
    "datalore": {
     "hide_input_from_viewers": false,
     "hide_output_from_viewers": false,
     "node_id": "Gnxq9NHzZ9nrbNHtEeIIU8",
     "type": "MD"
    }
   },
   "source": [
    "## Membuat Histogram untuk perbandingan sebaran data #averagerating per kelompok category "
   ]
  },
  {
   "cell_type": "code",
   "execution_count": 27,
   "metadata": {
    "datalore": {
     "hide_input_from_viewers": false,
     "hide_output_from_viewers": false,
     "node_id": "s37UX8xzQOBwrkqOTK3h6e",
     "type": "CODE"
    }
   },
   "outputs": [
    {
     "data": {
      "image/png": "[encoded data removed]",
      "text/plain": [
       "<Figure size 1440x2880 with 17 Axes>"
      ]
     },
     "metadata": {
      "needs_background": "light"
     },
     "output_type": "display_data"
    }
   ],
   "source": [
    "min_val = df[\"average_rating\"].min()\n",
    "max_val = df[\"average_rating\"].max()\n",
    "category_unique = df[\"category\"].unique()\n",
    "plt.figure(figsize = (20, 40))\n",
    "ax = plt.subplot(6, 3, 1)\n",
    "sns.histplot(data=df[\"average_rating\"][(df[\"category\"] == category_unique[0])], binrange=(min_val,max_val), binwidth=0.1,kde=True)\n",
    "plt.title(category_unique[0])\n",
    "for i in range(1, len(category_unique)):\n",
    "    plt.subplot(6, 3, i+1, sharey= ax)\n",
    "    sns.histplot(data=df[\"average_rating\"][(df[\"category\"] == category_unique[i])], binrange=(min_val,max_val), binwidth=0.1,kde=True)\n",
    "    plt.title(category_unique[i])"
   ]
  },
  {
   "attachments": {},
   "cell_type": "markdown",
   "metadata": {
    "datalore": {
     "hide_input_from_viewers": false,
     "hide_output_from_viewers": false,
     "node_id": "PtrUE4xGtevxOHmN4l80rP",
     "type": "MD"
    }
   },
   "source": [
    "## Membuat boxplot untuk perbandingan sebaran data #averagerating per kelompok category"
   ]
  },
  {
   "cell_type": "code",
   "execution_count": 28,
   "metadata": {
    "datalore": {
     "hide_input_from_viewers": false,
     "hide_output_from_viewers": false,
     "node_id": "cbnE4ap17DgHp51yvvR2rF",
     "type": "CODE"
    }
   },
   "outputs": [
    {
     "data": {
      "image/png": "[encoded data removed]",
      "text/plain": [
       "<Figure size 576x432 with 1 Axes>"
      ]
     },
     "metadata": {
      "needs_background": "light"
     },
     "output_type": "display_data"
    }
   ],
   "source": [
    "plt.figure(figsize=(8, 6)) #width=8, height=6\n",
    "g = sns.boxplot(data=df, x=\"category\", y=\"average_rating\")\n",
    "_ = g.set_xticklabels(g.get_xticklabels(), rotation=90)\n"
   ]
  },
  {
   "cell_type": "code",
   "execution_count": 29,
   "metadata": {
    "datalore": {
     "hide_input_from_viewers": false,
     "hide_output_from_viewers": false,
     "node_id": "9aEqvUEWuLl7ZqYEbcH39I",
     "type": "CODE"
    }
   },
   "outputs": [
    {
     "data": {
      "text/html": [
       "<div>\n",
       "<style scoped>\n",
       "    .dataframe tbody tr th:only-of-type {\n",
       "        vertical-align: middle;\n",
       "    }\n",
       "\n",
       "    .dataframe tbody tr th {\n",
       "        vertical-align: top;\n",
       "    }\n",
       "\n",
       "    .dataframe thead th {\n",
       "        text-align: right;\n",
       "    }\n",
       "</style>\n",
       "<table border=\"1\" class=\"dataframe\">\n",
       "  <thead>\n",
       "    <tr style=\"text-align: right;\">\n",
       "      <th></th>\n",
       "      <th>title</th>\n",
       "      <th>average_rating</th>\n",
       "      <th>install (K)</th>\n",
       "      <th>great</th>\n",
       "      <th>poor</th>\n",
       "      <th>category</th>\n",
       "    </tr>\n",
       "  </thead>\n",
       "  <tbody>\n",
       "    <tr>\n",
       "      <th>0</th>\n",
       "      <td>Garena Free Fire - The Cobra</td>\n",
       "      <td>4.33</td>\n",
       "      <td>500000.0</td>\n",
       "      <td>82.319726</td>\n",
       "      <td>14.215700</td>\n",
       "      <td>GAME ACTION</td>\n",
       "    </tr>\n",
       "    <tr>\n",
       "      <th>1</th>\n",
       "      <td>PUBG MOBILE: Graffiti Prank</td>\n",
       "      <td>4.24</td>\n",
       "      <td>100000.0</td>\n",
       "      <td>80.007311</td>\n",
       "      <td>16.232510</td>\n",
       "      <td>GAME ACTION</td>\n",
       "    </tr>\n",
       "    <tr>\n",
       "      <th>2</th>\n",
       "      <td>Mobile Legends: Bang Bang</td>\n",
       "      <td>4.08</td>\n",
       "      <td>100000.0</td>\n",
       "      <td>76.045223</td>\n",
       "      <td>19.828523</td>\n",
       "      <td>GAME ACTION</td>\n",
       "    </tr>\n",
       "    <tr>\n",
       "      <th>3</th>\n",
       "      <td>Brawl Stars</td>\n",
       "      <td>4.27</td>\n",
       "      <td>100000.0</td>\n",
       "      <td>81.295930</td>\n",
       "      <td>14.388945</td>\n",
       "      <td>GAME ACTION</td>\n",
       "    </tr>\n",
       "    <tr>\n",
       "      <th>4</th>\n",
       "      <td>Sniper 3D: Fun Free Online FPS Shooting Game</td>\n",
       "      <td>4.33</td>\n",
       "      <td>100000.0</td>\n",
       "      <td>82.755960</td>\n",
       "      <td>9.981380</td>\n",
       "      <td>GAME ACTION</td>\n",
       "    </tr>\n",
       "    <tr>\n",
       "      <th>...</th>\n",
       "      <td>...</td>\n",
       "      <td>...</td>\n",
       "      <td>...</td>\n",
       "      <td>...</td>\n",
       "      <td>...</td>\n",
       "      <td>...</td>\n",
       "    </tr>\n",
       "    <tr>\n",
       "      <th>1725</th>\n",
       "      <td>Piknik Słowo - Word Snack</td>\n",
       "      <td>4.67</td>\n",
       "      <td>1000.0</td>\n",
       "      <td>92.953607</td>\n",
       "      <td>2.896380</td>\n",
       "      <td>GAME WORD</td>\n",
       "    </tr>\n",
       "    <tr>\n",
       "      <th>1726</th>\n",
       "      <td>Wordox – Free multiplayer word game</td>\n",
       "      <td>4.21</td>\n",
       "      <td>1000.0</td>\n",
       "      <td>79.316699</td>\n",
       "      <td>11.844879</td>\n",
       "      <td>GAME WORD</td>\n",
       "    </tr>\n",
       "    <tr>\n",
       "      <th>1727</th>\n",
       "      <td>4 Fotos 1 Palavra</td>\n",
       "      <td>4.52</td>\n",
       "      <td>5000.0</td>\n",
       "      <td>88.351662</td>\n",
       "      <td>5.885119</td>\n",
       "      <td>GAME WORD</td>\n",
       "    </tr>\n",
       "    <tr>\n",
       "      <th>1728</th>\n",
       "      <td>زوايا - لعبة ستحرك زوايا عقلك</td>\n",
       "      <td>4.76</td>\n",
       "      <td>1000.0</td>\n",
       "      <td>93.113672</td>\n",
       "      <td>3.932324</td>\n",
       "      <td>GAME WORD</td>\n",
       "    </tr>\n",
       "    <tr>\n",
       "      <th>1729</th>\n",
       "      <td>Word Life - Connect crosswords puzzle</td>\n",
       "      <td>4.38</td>\n",
       "      <td>5000.0</td>\n",
       "      <td>84.946315</td>\n",
       "      <td>7.045088</td>\n",
       "      <td>GAME WORD</td>\n",
       "    </tr>\n",
       "  </tbody>\n",
       "</table>\n",
       "<p>1730 rows × 6 columns</p>\n",
       "</div>"
      ],
      "text/plain": [
       "                                             title  average_rating  \\\n",
       "0                     Garena Free Fire - The Cobra            4.33   \n",
       "1                      PUBG MOBILE: Graffiti Prank            4.24   \n",
       "2                        Mobile Legends: Bang Bang            4.08   \n",
       "3                                      Brawl Stars            4.27   \n",
       "4     Sniper 3D: Fun Free Online FPS Shooting Game            4.33   \n",
       "...                                            ...             ...   \n",
       "1725                     Piknik Słowo - Word Snack            4.67   \n",
       "1726           Wordox – Free multiplayer word game            4.21   \n",
       "1727                             4 Fotos 1 Palavra            4.52   \n",
       "1728                 زوايا - لعبة ستحرك زوايا عقلك            4.76   \n",
       "1729         Word Life - Connect crosswords puzzle            4.38   \n",
       "\n",
       "      install (K)      great       poor     category  \n",
       "0        500000.0  82.319726  14.215700  GAME ACTION  \n",
       "1        100000.0  80.007311  16.232510  GAME ACTION  \n",
       "2        100000.0  76.045223  19.828523  GAME ACTION  \n",
       "3        100000.0  81.295930  14.388945  GAME ACTION  \n",
       "4        100000.0  82.755960   9.981380  GAME ACTION  \n",
       "...           ...        ...        ...          ...  \n",
       "1725       1000.0  92.953607   2.896380    GAME WORD  \n",
       "1726       1000.0  79.316699  11.844879    GAME WORD  \n",
       "1727       5000.0  88.351662   5.885119    GAME WORD  \n",
       "1728       1000.0  93.113672   3.932324    GAME WORD  \n",
       "1729       5000.0  84.946315   7.045088    GAME WORD  \n",
       "\n",
       "[1730 rows x 6 columns]"
      ]
     },
     "execution_count": 29,
     "metadata": {},
     "output_type": "execute_result"
    }
   ],
   "source": [
    "df"
   ]
  },
  {
   "cell_type": "code",
   "execution_count": 30,
   "metadata": {
    "datalore": {
     "hide_input_from_viewers": false,
     "hide_output_from_viewers": false,
     "node_id": "cvLuL6qX7bAyrTSBr2cfHH",
     "type": "CODE"
    }
   },
   "outputs": [
    {
     "data": {
      "text/html": [
       "<div>\n",
       "<style scoped>\n",
       "    .dataframe tbody tr th:only-of-type {\n",
       "        vertical-align: middle;\n",
       "    }\n",
       "\n",
       "    .dataframe tbody tr th {\n",
       "        vertical-align: top;\n",
       "    }\n",
       "\n",
       "    .dataframe thead th {\n",
       "        text-align: right;\n",
       "    }\n",
       "</style>\n",
       "<table border=\"1\" class=\"dataframe\">\n",
       "  <thead>\n",
       "    <tr style=\"text-align: right;\">\n",
       "      <th></th>\n",
       "      <th>title</th>\n",
       "      <th>average_rating</th>\n",
       "      <th>install (K)</th>\n",
       "      <th>great</th>\n",
       "      <th>poor</th>\n",
       "      <th>category</th>\n",
       "    </tr>\n",
       "  </thead>\n",
       "  <tbody>\n",
       "    <tr>\n",
       "      <th>741</th>\n",
       "      <td>超級單字王 - 英檢、多益、托福 輕鬆學</td>\n",
       "      <td>4.91</td>\n",
       "      <td>500.0</td>\n",
       "      <td>98.294662</td>\n",
       "      <td>0.795315</td>\n",
       "      <td>GAME EDUCATIONAL</td>\n",
       "    </tr>\n",
       "    <tr>\n",
       "      <th>956</th>\n",
       "      <td>Indy Cat for VK</td>\n",
       "      <td>4.87</td>\n",
       "      <td>5000.0</td>\n",
       "      <td>96.860754</td>\n",
       "      <td>2.073848</td>\n",
       "      <td>GAME PUZZLE</td>\n",
       "    </tr>\n",
       "  </tbody>\n",
       "</table>\n",
       "</div>"
      ],
      "text/plain": [
       "                    title  average_rating  install (K)      great      poor  \\\n",
       "741  超級單字王 - 英檢、多益、托福 輕鬆學            4.91        500.0  98.294662  0.795315   \n",
       "956       Indy Cat for VK            4.87       5000.0  96.860754  2.073848   \n",
       "\n",
       "             category  \n",
       "741  GAME EDUCATIONAL  \n",
       "956       GAME PUZZLE  "
      ]
     },
     "execution_count": 30,
     "metadata": {},
     "output_type": "execute_result"
    }
   ],
   "source": [
    "game_fav = df.sort_values([\"average_rating\",\"install (K)\",\"great\"],ascending=False)[:int(len(df)//1000)+1]\n",
    "game_fav"
   ]
  },
  {
   "cell_type": "code",
   "execution_count": 31,
   "metadata": {
    "datalore": {
     "hide_input_from_viewers": false,
     "hide_output_from_viewers": false,
     "node_id": "Ynf9jI85cF5m1aUWEEPdMQ",
     "type": "CODE"
    }
   },
   "outputs": [
    {
     "data": {
      "text/plain": [
       "0.11560693641618498"
      ]
     },
     "execution_count": 31,
     "metadata": {},
     "output_type": "execute_result"
    }
   ],
   "source": [
    "2 / len(df) * 100"
   ]
  },
  {
   "cell_type": "code",
   "execution_count": 32,
   "metadata": {
    "datalore": {
     "hide_input_from_viewers": false,
     "hide_output_from_viewers": false,
     "node_id": "cSck6Ow8OHvIiW83EBnhV9",
     "type": "CODE"
    }
   },
   "outputs": [
    {
     "name": "stdout",
     "output_type": "stream",
     "text": [
      "82.0\n",
      "11.0\n",
      "28894.0\n",
      "4.0\n"
     ]
    },
    {
     "data": {
      "text/html": [
       "<div>\n",
       "<style scoped>\n",
       "    .dataframe tbody tr th:only-of-type {\n",
       "        vertical-align: middle;\n",
       "    }\n",
       "\n",
       "    .dataframe tbody tr th {\n",
       "        vertical-align: top;\n",
       "    }\n",
       "\n",
       "    .dataframe thead th {\n",
       "        text-align: right;\n",
       "    }\n",
       "</style>\n",
       "<table border=\"1\" class=\"dataframe\">\n",
       "  <thead>\n",
       "    <tr style=\"text-align: right;\">\n",
       "      <th></th>\n",
       "      <th>title</th>\n",
       "      <th>average_rating</th>\n",
       "      <th>install (K)</th>\n",
       "      <th>great</th>\n",
       "      <th>poor</th>\n",
       "      <th>category</th>\n",
       "    </tr>\n",
       "  </thead>\n",
       "  <tbody>\n",
       "    <tr>\n",
       "      <th>4</th>\n",
       "      <td>Sniper 3D: Fun Free Online FPS Shooting Game</td>\n",
       "      <td>4.33</td>\n",
       "      <td>100000.0</td>\n",
       "      <td>82.755960</td>\n",
       "      <td>9.981380</td>\n",
       "      <td>GAME ACTION</td>\n",
       "    </tr>\n",
       "    <tr>\n",
       "      <th>5</th>\n",
       "      <td>Shadow Fight 2</td>\n",
       "      <td>4.57</td>\n",
       "      <td>100000.0</td>\n",
       "      <td>88.932543</td>\n",
       "      <td>7.877291</td>\n",
       "      <td>GAME ACTION</td>\n",
       "    </tr>\n",
       "    <tr>\n",
       "      <th>6</th>\n",
       "      <td>Call of Duty®: Mobile - Day of Reckoning</td>\n",
       "      <td>4.47</td>\n",
       "      <td>100000.0</td>\n",
       "      <td>86.713925</td>\n",
       "      <td>9.535770</td>\n",
       "      <td>GAME ACTION</td>\n",
       "    </tr>\n",
       "    <tr>\n",
       "      <th>13</th>\n",
       "      <td>Bowmasters</td>\n",
       "      <td>4.55</td>\n",
       "      <td>100000.0</td>\n",
       "      <td>88.369050</td>\n",
       "      <td>7.512608</td>\n",
       "      <td>GAME ACTION</td>\n",
       "    </tr>\n",
       "    <tr>\n",
       "      <th>14</th>\n",
       "      <td>Standoff 2</td>\n",
       "      <td>4.54</td>\n",
       "      <td>50000.0</td>\n",
       "      <td>88.545310</td>\n",
       "      <td>8.674666</td>\n",
       "      <td>GAME ACTION</td>\n",
       "    </tr>\n",
       "    <tr>\n",
       "      <th>...</th>\n",
       "      <td>...</td>\n",
       "      <td>...</td>\n",
       "      <td>...</td>\n",
       "      <td>...</td>\n",
       "      <td>...</td>\n",
       "      <td>...</td>\n",
       "    </tr>\n",
       "    <tr>\n",
       "      <th>1640</th>\n",
       "      <td>Word search</td>\n",
       "      <td>4.46</td>\n",
       "      <td>50000.0</td>\n",
       "      <td>87.025636</td>\n",
       "      <td>5.443702</td>\n",
       "      <td>GAME WORD</td>\n",
       "    </tr>\n",
       "    <tr>\n",
       "      <th>1647</th>\n",
       "      <td>Word Link</td>\n",
       "      <td>4.39</td>\n",
       "      <td>50000.0</td>\n",
       "      <td>84.453210</td>\n",
       "      <td>10.190417</td>\n",
       "      <td>GAME WORD</td>\n",
       "    </tr>\n",
       "    <tr>\n",
       "      <th>1660</th>\n",
       "      <td>Word Search</td>\n",
       "      <td>4.46</td>\n",
       "      <td>50000.0</td>\n",
       "      <td>92.804826</td>\n",
       "      <td>3.958146</td>\n",
       "      <td>GAME WORD</td>\n",
       "    </tr>\n",
       "    <tr>\n",
       "      <th>1661</th>\n",
       "      <td>Word Search</td>\n",
       "      <td>4.46</td>\n",
       "      <td>50000.0</td>\n",
       "      <td>82.270377</td>\n",
       "      <td>8.873481</td>\n",
       "      <td>GAME WORD</td>\n",
       "    </tr>\n",
       "    <tr>\n",
       "      <th>1662</th>\n",
       "      <td>Word Search</td>\n",
       "      <td>4.46</td>\n",
       "      <td>50000.0</td>\n",
       "      <td>87.342191</td>\n",
       "      <td>5.117303</td>\n",
       "      <td>GAME WORD</td>\n",
       "    </tr>\n",
       "  </tbody>\n",
       "</table>\n",
       "<p>170 rows × 6 columns</p>\n",
       "</div>"
      ],
      "text/plain": [
       "                                             title  average_rating  \\\n",
       "4     Sniper 3D: Fun Free Online FPS Shooting Game            4.33   \n",
       "5                                   Shadow Fight 2            4.57   \n",
       "6         Call of Duty®: Mobile - Day of Reckoning            4.47   \n",
       "13                                      Bowmasters            4.55   \n",
       "14                                      Standoff 2            4.54   \n",
       "...                                            ...             ...   \n",
       "1640                                   Word search            4.46   \n",
       "1647                                     Word Link            4.39   \n",
       "1660                                   Word Search            4.46   \n",
       "1661                                   Word Search            4.46   \n",
       "1662                                   Word Search            4.46   \n",
       "\n",
       "      install (K)      great       poor     category  \n",
       "4        100000.0  82.755960   9.981380  GAME ACTION  \n",
       "5        100000.0  88.932543   7.877291  GAME ACTION  \n",
       "6        100000.0  86.713925   9.535770  GAME ACTION  \n",
       "13       100000.0  88.369050   7.512608  GAME ACTION  \n",
       "14        50000.0  88.545310   8.674666  GAME ACTION  \n",
       "...           ...        ...        ...          ...  \n",
       "1640      50000.0  87.025636   5.443702    GAME WORD  \n",
       "1647      50000.0  84.453210  10.190417    GAME WORD  \n",
       "1660      50000.0  92.804826   3.958146    GAME WORD  \n",
       "1661      50000.0  82.270377   8.873481    GAME WORD  \n",
       "1662      50000.0  87.342191   5.117303    GAME WORD  \n",
       "\n",
       "[170 rows x 6 columns]"
      ]
     },
     "execution_count": 32,
     "metadata": {},
     "output_type": "execute_result"
    }
   ],
   "source": [
    "\n",
    "\n",
    "avg_great = sum(df[\"great\"])//len(df[\"great\"])\n",
    "avg_poor = sum(df[\"poor\"])//len(df[\"poor\"])\n",
    "avg_install = sum(df[\"install (K)\"])//len(df[\"install (K)\"])\n",
    "avg_average_rating = sum(df[\"average_rating\"])//len(df[\"average_rating\"])\n",
    "print(avg_great)\n",
    "print(avg_poor)\n",
    "print(avg_install)\n",
    "print(avg_average_rating)\n",
    "optimal = df[(df[\"average_rating\"]>avg_average_rating)&(df[\"install (K)\"]>avg_install)& (df[\"great\"]>avg_great)& (df[\"poor\"]<avg_poor)]\n",
    "optimal"
   ]
  },
  {
   "cell_type": "code",
   "execution_count": 33,
   "metadata": {
    "datalore": {
     "hide_input_from_viewers": false,
     "hide_output_from_viewers": false,
     "node_id": "41yaflUmqw9UXMHJcfYtXe",
     "type": "CODE"
    }
   },
   "outputs": [
    {
     "data": {
      "text/html": [
       "<div>\n",
       "<style scoped>\n",
       "    .dataframe tbody tr th:only-of-type {\n",
       "        vertical-align: middle;\n",
       "    }\n",
       "\n",
       "    .dataframe tbody tr th {\n",
       "        vertical-align: top;\n",
       "    }\n",
       "\n",
       "    .dataframe thead th {\n",
       "        text-align: right;\n",
       "    }\n",
       "</style>\n",
       "<table border=\"1\" class=\"dataframe\">\n",
       "  <thead>\n",
       "    <tr style=\"text-align: right;\">\n",
       "      <th></th>\n",
       "      <th>title</th>\n",
       "      <th>average_rating</th>\n",
       "      <th>install (K)</th>\n",
       "      <th>great</th>\n",
       "      <th>poor</th>\n",
       "      <th>category</th>\n",
       "    </tr>\n",
       "  </thead>\n",
       "  <tbody>\n",
       "    <tr>\n",
       "      <th>0</th>\n",
       "      <td>Garena Free Fire - The Cobra</td>\n",
       "      <td>4.33</td>\n",
       "      <td>500000.0</td>\n",
       "      <td>82.319726</td>\n",
       "      <td>14.215700</td>\n",
       "      <td>GAME ACTION</td>\n",
       "    </tr>\n",
       "    <tr>\n",
       "      <th>1</th>\n",
       "      <td>PUBG MOBILE: Graffiti Prank</td>\n",
       "      <td>4.24</td>\n",
       "      <td>100000.0</td>\n",
       "      <td>80.007311</td>\n",
       "      <td>16.232510</td>\n",
       "      <td>GAME ACTION</td>\n",
       "    </tr>\n",
       "    <tr>\n",
       "      <th>2</th>\n",
       "      <td>Mobile Legends: Bang Bang</td>\n",
       "      <td>4.08</td>\n",
       "      <td>100000.0</td>\n",
       "      <td>76.045223</td>\n",
       "      <td>19.828523</td>\n",
       "      <td>GAME ACTION</td>\n",
       "    </tr>\n",
       "    <tr>\n",
       "      <th>3</th>\n",
       "      <td>Brawl Stars</td>\n",
       "      <td>4.27</td>\n",
       "      <td>100000.0</td>\n",
       "      <td>81.295930</td>\n",
       "      <td>14.388945</td>\n",
       "      <td>GAME ACTION</td>\n",
       "    </tr>\n",
       "    <tr>\n",
       "      <th>4</th>\n",
       "      <td>Sniper 3D: Fun Free Online FPS Shooting Game</td>\n",
       "      <td>4.33</td>\n",
       "      <td>100000.0</td>\n",
       "      <td>82.755960</td>\n",
       "      <td>9.981380</td>\n",
       "      <td>GAME ACTION</td>\n",
       "    </tr>\n",
       "    <tr>\n",
       "      <th>...</th>\n",
       "      <td>...</td>\n",
       "      <td>...</td>\n",
       "      <td>...</td>\n",
       "      <td>...</td>\n",
       "      <td>...</td>\n",
       "      <td>...</td>\n",
       "    </tr>\n",
       "    <tr>\n",
       "      <th>1725</th>\n",
       "      <td>Piknik Słowo - Word Snack</td>\n",
       "      <td>4.67</td>\n",
       "      <td>1000.0</td>\n",
       "      <td>92.953607</td>\n",
       "      <td>2.896380</td>\n",
       "      <td>GAME WORD</td>\n",
       "    </tr>\n",
       "    <tr>\n",
       "      <th>1726</th>\n",
       "      <td>Wordox – Free multiplayer word game</td>\n",
       "      <td>4.21</td>\n",
       "      <td>1000.0</td>\n",
       "      <td>79.316699</td>\n",
       "      <td>11.844879</td>\n",
       "      <td>GAME WORD</td>\n",
       "    </tr>\n",
       "    <tr>\n",
       "      <th>1727</th>\n",
       "      <td>4 Fotos 1 Palavra</td>\n",
       "      <td>4.52</td>\n",
       "      <td>5000.0</td>\n",
       "      <td>88.351662</td>\n",
       "      <td>5.885119</td>\n",
       "      <td>GAME WORD</td>\n",
       "    </tr>\n",
       "    <tr>\n",
       "      <th>1728</th>\n",
       "      <td>زوايا - لعبة ستحرك زوايا عقلك</td>\n",
       "      <td>4.76</td>\n",
       "      <td>1000.0</td>\n",
       "      <td>93.113672</td>\n",
       "      <td>3.932324</td>\n",
       "      <td>GAME WORD</td>\n",
       "    </tr>\n",
       "    <tr>\n",
       "      <th>1729</th>\n",
       "      <td>Word Life - Connect crosswords puzzle</td>\n",
       "      <td>4.38</td>\n",
       "      <td>5000.0</td>\n",
       "      <td>84.946315</td>\n",
       "      <td>7.045088</td>\n",
       "      <td>GAME WORD</td>\n",
       "    </tr>\n",
       "  </tbody>\n",
       "</table>\n",
       "<p>1730 rows × 6 columns</p>\n",
       "</div>"
      ],
      "text/plain": [
       "                                             title  average_rating  \\\n",
       "0                     Garena Free Fire - The Cobra            4.33   \n",
       "1                      PUBG MOBILE: Graffiti Prank            4.24   \n",
       "2                        Mobile Legends: Bang Bang            4.08   \n",
       "3                                      Brawl Stars            4.27   \n",
       "4     Sniper 3D: Fun Free Online FPS Shooting Game            4.33   \n",
       "...                                            ...             ...   \n",
       "1725                     Piknik Słowo - Word Snack            4.67   \n",
       "1726           Wordox – Free multiplayer word game            4.21   \n",
       "1727                             4 Fotos 1 Palavra            4.52   \n",
       "1728                 زوايا - لعبة ستحرك زوايا عقلك            4.76   \n",
       "1729         Word Life - Connect crosswords puzzle            4.38   \n",
       "\n",
       "      install (K)      great       poor     category  \n",
       "0        500000.0  82.319726  14.215700  GAME ACTION  \n",
       "1        100000.0  80.007311  16.232510  GAME ACTION  \n",
       "2        100000.0  76.045223  19.828523  GAME ACTION  \n",
       "3        100000.0  81.295930  14.388945  GAME ACTION  \n",
       "4        100000.0  82.755960   9.981380  GAME ACTION  \n",
       "...           ...        ...        ...          ...  \n",
       "1725       1000.0  92.953607   2.896380    GAME WORD  \n",
       "1726       1000.0  79.316699  11.844879    GAME WORD  \n",
       "1727       5000.0  88.351662   5.885119    GAME WORD  \n",
       "1728       1000.0  93.113672   3.932324    GAME WORD  \n",
       "1729       5000.0  84.946315   7.045088    GAME WORD  \n",
       "\n",
       "[1730 rows x 6 columns]"
      ]
     },
     "execution_count": 33,
     "metadata": {},
     "output_type": "execute_result"
    }
   ],
   "source": [
    "# estimation_table = pd.DataFrame({\"jenis\" : [\"average_rating\", \"install (K)\", \"estimation\"],\n",
    "#               \"jumlah pencilan\" : [len(pencilan_avg_rt), len(pencilan_install), len(pencilan_great), len(pencilan_poor)],\n",
    "#               \"pencilan\" : [sorted(list(set(pencilan_avg_rt))), sorted(list(set(pencilan_install))), sorted(list(set(pencilan_great))), sorted(list(set(pencilan_poor)))]\n",
    "#               })-\n",
    "df"
   ]
  },
  {
   "cell_type": "code",
   "execution_count": 34,
   "metadata": {
    "datalore": {
     "hide_input_from_viewers": false,
     "hide_output_from_viewers": false,
     "node_id": "QSXuCghoTkV06hK6WDBvit",
     "type": "CODE"
    }
   },
   "outputs": [
    {
     "data": {
      "text/html": [
       "<div>\n",
       "<style scoped>\n",
       "    .dataframe tbody tr th:only-of-type {\n",
       "        vertical-align: middle;\n",
       "    }\n",
       "\n",
       "    .dataframe tbody tr th {\n",
       "        vertical-align: top;\n",
       "    }\n",
       "\n",
       "    .dataframe thead th {\n",
       "        text-align: right;\n",
       "    }\n",
       "</style>\n",
       "<table border=\"1\" class=\"dataframe\">\n",
       "  <thead>\n",
       "    <tr style=\"text-align: right;\">\n",
       "      <th></th>\n",
       "      <th>title</th>\n",
       "      <th>average_rating</th>\n",
       "      <th>install (K)</th>\n",
       "      <th>great</th>\n",
       "      <th>poor</th>\n",
       "      <th>category</th>\n",
       "    </tr>\n",
       "  </thead>\n",
       "  <tbody>\n",
       "    <tr>\n",
       "      <th>741</th>\n",
       "      <td>超級單字王 - 英檢、多益、托福 輕鬆學</td>\n",
       "      <td>4.91</td>\n",
       "      <td>500.0</td>\n",
       "      <td>98.294662</td>\n",
       "      <td>0.795315</td>\n",
       "      <td>GAME EDUCATIONAL</td>\n",
       "    </tr>\n",
       "    <tr>\n",
       "      <th>956</th>\n",
       "      <td>Indy Cat for VK</td>\n",
       "      <td>4.87</td>\n",
       "      <td>5000.0</td>\n",
       "      <td>96.860754</td>\n",
       "      <td>2.073848</td>\n",
       "      <td>GAME PUZZLE</td>\n",
       "    </tr>\n",
       "    <tr>\n",
       "      <th>1658</th>\n",
       "      <td>Word Collect - Free Word Games</td>\n",
       "      <td>4.82</td>\n",
       "      <td>10000.0</td>\n",
       "      <td>95.865456</td>\n",
       "      <td>3.051541</td>\n",
       "      <td>GAME WORD</td>\n",
       "    </tr>\n",
       "    <tr>\n",
       "      <th>575</th>\n",
       "      <td>Free Slot Machines with Bonus Games!</td>\n",
       "      <td>4.82</td>\n",
       "      <td>5000.0</td>\n",
       "      <td>95.405214</td>\n",
       "      <td>2.715167</td>\n",
       "      <td>GAME CASINO</td>\n",
       "    </tr>\n",
       "    <tr>\n",
       "      <th>813</th>\n",
       "      <td>Английский для Начинающих: LinDuo HD</td>\n",
       "      <td>4.82</td>\n",
       "      <td>1000.0</td>\n",
       "      <td>97.007236</td>\n",
       "      <td>1.602564</td>\n",
       "      <td>GAME EDUCATIONAL</td>\n",
       "    </tr>\n",
       "    <tr>\n",
       "      <th>...</th>\n",
       "      <td>...</td>\n",
       "      <td>...</td>\n",
       "      <td>...</td>\n",
       "      <td>...</td>\n",
       "      <td>...</td>\n",
       "      <td>...</td>\n",
       "    </tr>\n",
       "    <tr>\n",
       "      <th>1592</th>\n",
       "      <td>NEW QuizDuel!</td>\n",
       "      <td>3.21</td>\n",
       "      <td>1000.0</td>\n",
       "      <td>55.696434</td>\n",
       "      <td>38.859645</td>\n",
       "      <td>GAME TRIVIA</td>\n",
       "    </tr>\n",
       "    <tr>\n",
       "      <th>1606</th>\n",
       "      <td>TopQuiz -Play Quiz &amp; Lottery | Win Money via P...</td>\n",
       "      <td>3.20</td>\n",
       "      <td>1000.0</td>\n",
       "      <td>53.296274</td>\n",
       "      <td>41.306520</td>\n",
       "      <td>GAME TRIVIA</td>\n",
       "    </tr>\n",
       "    <tr>\n",
       "      <th>304</th>\n",
       "      <td>모두의마블</td>\n",
       "      <td>3.16</td>\n",
       "      <td>10000.0</td>\n",
       "      <td>50.405479</td>\n",
       "      <td>40.749019</td>\n",
       "      <td>GAME BOARD</td>\n",
       "    </tr>\n",
       "    <tr>\n",
       "      <th>1590</th>\n",
       "      <td>스케치퀴즈</td>\n",
       "      <td>3.13</td>\n",
       "      <td>5000.0</td>\n",
       "      <td>48.731953</td>\n",
       "      <td>40.680957</td>\n",
       "      <td>GAME TRIVIA</td>\n",
       "    </tr>\n",
       "    <tr>\n",
       "      <th>873</th>\n",
       "      <td>Au Mobile VTC – Game nhảy Audition</td>\n",
       "      <td>3.09</td>\n",
       "      <td>5000.0</td>\n",
       "      <td>49.316994</td>\n",
       "      <td>43.948247</td>\n",
       "      <td>GAME MUSIC</td>\n",
       "    </tr>\n",
       "  </tbody>\n",
       "</table>\n",
       "<p>1730 rows × 6 columns</p>\n",
       "</div>"
      ],
      "text/plain": [
       "                                                  title  average_rating  \\\n",
       "741                                超級單字王 - 英檢、多益、托福 輕鬆學            4.91   \n",
       "956                                     Indy Cat for VK            4.87   \n",
       "1658                     Word Collect - Free Word Games            4.82   \n",
       "575                Free Slot Machines with Bonus Games!            4.82   \n",
       "813                Английский для Начинающих: LinDuo HD            4.82   \n",
       "...                                                 ...             ...   \n",
       "1592                                      NEW QuizDuel!            3.21   \n",
       "1606  TopQuiz -Play Quiz & Lottery | Win Money via P...            3.20   \n",
       "304                                               모두의마블            3.16   \n",
       "1590                                              스케치퀴즈            3.13   \n",
       "873                  Au Mobile VTC – Game nhảy Audition            3.09   \n",
       "\n",
       "      install (K)      great       poor          category  \n",
       "741         500.0  98.294662   0.795315  GAME EDUCATIONAL  \n",
       "956        5000.0  96.860754   2.073848       GAME PUZZLE  \n",
       "1658      10000.0  95.865456   3.051541         GAME WORD  \n",
       "575        5000.0  95.405214   2.715167       GAME CASINO  \n",
       "813        1000.0  97.007236   1.602564  GAME EDUCATIONAL  \n",
       "...           ...        ...        ...               ...  \n",
       "1592       1000.0  55.696434  38.859645       GAME TRIVIA  \n",
       "1606       1000.0  53.296274  41.306520       GAME TRIVIA  \n",
       "304       10000.0  50.405479  40.749019        GAME BOARD  \n",
       "1590       5000.0  48.731953  40.680957       GAME TRIVIA  \n",
       "873        5000.0  49.316994  43.948247        GAME MUSIC  \n",
       "\n",
       "[1730 rows x 6 columns]"
      ]
     },
     "execution_count": 34,
     "metadata": {},
     "output_type": "execute_result"
    }
   ],
   "source": [
    "estimation_table = df.sort_values([\"average_rating\",\"install (K)\",\"great\"],ascending=False)\n",
    "estimation_table"
   ]
  }
 ],
 "metadata": {
  "datalore": {
   "base_environment": "default",
   "computation_mode": "JUPYTER",
   "package_manager": "pip",
   "packages": [],
   "version": 1
  },
  "kernelspec": {
   "display_name": "Python 3.10.0 64-bit",
   "language": "python",
   "name": "python3"
  },
  "language_info": {
   "codemirror_mode": {
    "name": "ipython",
    "version": 3
   },
   "file_extension": ".py",
   "mimetype": "text/x-python",
   "name": "python",
   "nbconvert_exporter": "python",
   "pygments_lexer": "ipython3",
   "version": "3.10.0"
  },
  "vscode": {
   "interpreter": {
    "hash": "8c3d4d9970fc5c09c50d9318a9c7fbf4d0159e4b28833276f5678ee22bded273"
   }
  }
 },
 "nbformat": 4,
 "nbformat_minor": 4
}
